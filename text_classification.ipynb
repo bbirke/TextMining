{
 "cells": [
  {
   "cell_type": "markdown",
   "metadata": {},
   "source": [
    "# Text Classification with Python"
   ]
  },
  {
   "cell_type": "markdown",
   "metadata": {},
   "source": [
    "This notebook provides a short introduction for classifying text corpora using the python packages scikit-learn and nltk. The Reuters corpus is used to demonstrate the easy use of these high level machine learning libraries."
   ]
  },
  {
   "cell_type": "code",
   "execution_count": 1,
   "metadata": {
    "ExecuteTime": {
     "end_time": "2019-01-28T16:13:07.640901Z",
     "start_time": "2019-01-28T16:13:06.939592Z"
    }
   },
   "outputs": [],
   "source": [
    "%matplotlib notebook\n",
    "\n",
    "import nltk\n",
    "from nltk.corpus import reuters\n",
    "import warnings\n",
    "import numpy as np"
   ]
  },
  {
   "cell_type": "code",
   "execution_count": 2,
   "metadata": {
    "ExecuteTime": {
     "end_time": "2019-01-28T16:13:07.649025Z",
     "start_time": "2019-01-28T16:13:07.642956Z"
    }
   },
   "outputs": [],
   "source": [
    "# Prevents warnings during cross-validation\n",
    "warnings.filterwarnings(\"ignore\")\n",
    "\n",
    "# Number of folds during cross-validation\n",
    "k = 5\n",
    "\n",
    "# Number of parallel computations (n_jobs parameter); -1 for utilizing the entire cpu\n",
    "jobs = -1\n",
    "\n",
    "# Pseudo-random number generator seed, for reproduceable results\n",
    "seed = 42"
   ]
  },
  {
   "cell_type": "code",
   "execution_count": 3,
   "metadata": {
    "ExecuteTime": {
     "end_time": "2019-01-28T16:13:08.731166Z",
     "start_time": "2019-01-28T16:13:07.650822Z"
    }
   },
   "outputs": [
    {
     "name": "stderr",
     "output_type": "stream",
     "text": [
      "[nltk_data] Downloading package punkt to /home/bastian/nltk_data...\n",
      "[nltk_data]   Package punkt is already up-to-date!\n"
     ]
    }
   ],
   "source": [
    "## This code downloads the required packages.\n",
    "## You can run `nltk.download('all')` to download everything.\n",
    "#nltk.download('punkt')\n",
    "nltk_packages = [\n",
    "    (\"reuters\", \"corpora/reuters.zip\"),\n",
    "    (\"punkt\", \"tokenizers/punkt.zip\")\n",
    "]\n",
    "\n",
    "for pid, fid in nltk_packages:\n",
    "    try:\n",
    "        nltk.data.find(fid)\n",
    "    except LookupError:\n",
    "        nltk.download(pid)"
   ]
  },
  {
   "cell_type": "markdown",
   "metadata": {},
   "source": [
    "## Setting up train/test data"
   ]
  },
  {
   "cell_type": "code",
   "execution_count": 4,
   "metadata": {
    "ExecuteTime": {
     "end_time": "2019-01-28T16:13:10.510087Z",
     "start_time": "2019-01-28T16:13:08.732567Z"
    }
   },
   "outputs": [],
   "source": [
    "X_train, y_train = zip(*[(reuters.raw(i), reuters.categories(i))\n",
    "                         for i in reuters.fileids()\n",
    "                         if i.startswith('training/')])\n",
    "X_test, y_test = zip(*[(reuters.raw(i), reuters.categories(i))\n",
    "                       for i in reuters.fileids() if i.startswith('test/')])"
   ]
  },
  {
   "cell_type": "code",
   "execution_count": 5,
   "metadata": {
    "ExecuteTime": {
     "end_time": "2019-01-28T16:13:10.514018Z",
     "start_time": "2019-01-28T16:13:10.511507Z"
    }
   },
   "outputs": [],
   "source": [
    "all_categories = sorted(list(set(reuters.categories())))"
   ]
  },
  {
   "cell_type": "markdown",
   "metadata": {},
   "source": [
    "## 1. Preprocessing"
   ]
  },
  {
   "cell_type": "markdown",
   "metadata": {},
   "source": [
    "A series of preprocessing steps will be applied before the classification step. <br>\n",
    "First, each document in <code>X\\_train</code> (and <code>X\\_test</code>) will be converted to lower case and be stripped off all punctuations. Each document will be tokenized successively and for each token the stemmed form will be saved. <br>\n",
    "A tf-idf vectorization will be used as word embedding. This frequency-based model can achieve good results for text classification tasks.<a name=\"fn1\">[1]</a>\n",
    "\n"
   ]
  },
  {
   "cell_type": "markdown",
   "metadata": {},
   "source": [
    "![preprocessing](https://raw.githubusercontent.com/bbirke/TextMining/master/Asignment2/preprocessing.png)"
   ]
  },
  {
   "cell_type": "markdown",
   "metadata": {},
   "source": [
    "To utilze the scikit-learn package (i.e. for using pipelines) the first two steps will be performed in a custom Transformer class."
   ]
  },
  {
   "cell_type": "code",
   "execution_count": 6,
   "metadata": {
    "ExecuteTime": {
     "end_time": "2019-01-28T16:13:10.523732Z",
     "start_time": "2019-01-28T16:13:10.515398Z"
    }
   },
   "outputs": [],
   "source": [
    "import string\n",
    "from sklearn.base import BaseEstimator, TransformerMixin\n",
    "\n",
    "\n",
    "class TMPreProcessor(BaseEstimator, TransformerMixin):\n",
    "    def __init__(self):\n",
    "        None\n",
    "\n",
    "    def fit(self, X, y=None):\n",
    "        return self\n",
    "\n",
    "    def transform(self, X):\n",
    "        processed = []\n",
    "\n",
    "        # Convert to lower case and strip punctuation\n",
    "        for i in range(len(X)):\n",
    "            text = X[i]\n",
    "            processed.append(text.lower().translate(\n",
    "                str.maketrans('', '', string.punctuation)))\n",
    "        return processed"
   ]
  },
  {
   "cell_type": "markdown",
   "metadata": {},
   "source": [
    "Since the used <code>sklearn.feature\\_extraction.text.TfidfVectorizer</code> class has a callable parameter <code>tokenizer</code>, the tokenization and stemming will be performed in a custom function. The parameter <code>stop_words</code> allows an easy removal of stopwords."
   ]
  },
  {
   "cell_type": "code",
   "execution_count": 7,
   "metadata": {
    "ExecuteTime": {
     "end_time": "2019-01-28T16:13:10.531572Z",
     "start_time": "2019-01-28T16:13:10.524921Z"
    }
   },
   "outputs": [],
   "source": [
    "from nltk import word_tokenize\n",
    "from nltk.stem.porter import PorterStemmer\n",
    "\n",
    "def tokenize(text):\n",
    "    tokens = word_tokenize(text)\n",
    "    stems = []\n",
    "    stemmer = PorterStemmer()\n",
    "    for token in tokens:\n",
    "        stems.append(stemmer.stem(token))\n",
    "    return stems"
   ]
  },
  {
   "cell_type": "markdown",
   "metadata": {},
   "source": [
    "<code>ngram_range</code> also considers bi-grams. The <code>max_features</code> value is chosen arbitrary to reduce the feature dimensionality."
   ]
  },
  {
   "cell_type": "code",
   "execution_count": 8,
   "metadata": {
    "ExecuteTime": {
     "end_time": "2019-01-28T16:13:31.639005Z",
     "start_time": "2019-01-28T16:13:10.534477Z"
    }
   },
   "outputs": [
    {
     "name": "stdout",
     "output_type": "stream",
     "text": [
      "Transforming documents...\n",
      "Transformation finished!\n"
     ]
    }
   ],
   "source": [
    "from sklearn.feature_extraction.text import TfidfVectorizer\n",
    "\n",
    "preprocessor = TMPreProcessor()\n",
    "tfidf = TfidfVectorizer(\n",
    "    tokenizer=tokenize,\n",
    "    stop_words='english',\n",
    "    ngram_range=(1, 2),\n",
    "    max_features=5000)\n",
    "\n",
    "print('Transforming documents...')\n",
    "X_train = preprocessor.transform(X_train)\n",
    "X_train = tfidf.fit_transform(X_train)\n",
    "X_test = preprocessor.transform(X_test)\n",
    "X_test = tfidf.transform(X_test)\n",
    "print('Transformation finished!')"
   ]
  },
  {
   "cell_type": "markdown",
   "metadata": {},
   "source": [
    "The labels/text categories (<code>y_train</code> and <code>y_test</code>) will be processed with the <code>sklearn.preprocessing.MultiLabelBinarizer</code>."
   ]
  },
  {
   "cell_type": "code",
   "execution_count": 9,
   "metadata": {
    "ExecuteTime": {
     "end_time": "2019-01-28T16:13:31.652579Z",
     "start_time": "2019-01-28T16:13:31.642855Z"
    }
   },
   "outputs": [],
   "source": [
    "from sklearn.preprocessing import MultiLabelBinarizer\n",
    "\n",
    "mlb = MultiLabelBinarizer()\n",
    "y_train = mlb.fit_transform(y_train)\n",
    "y_test = mlb.transform(y_test)"
   ]
  },
  {
   "cell_type": "markdown",
   "metadata": {},
   "source": [
    "## 2. Finding an estimator"
   ]
  },
  {
   "cell_type": "markdown",
   "metadata": {},
   "source": [
    "Several methods exist for the multi-class, multi-label classification; the baseline approach amounts to independently training one binary classifier for each label. The OVR (One-vs-the-rest/one-vs-all) strategy consists in fitting one classifier per class. For each classifier, the class is fitted against all the other classes (out-of-class). In most cases, this is the default strategy for this kind of classification problem.<br>\n",
    "The first step is to find an estimator suitable for the specific classification task. Therefore, the performance of a couple of baseline classifiers will be compared (i.e., using default parameters) based on their scored accuracy. A 5-fold cross-validation will be used to determine the mean accuracy of each classifier.<br>\n",
    "The tested classifiers are:\n",
    "* SVM (linear kernel)\n",
    "* Naive Bayes\n",
    "* LogistitcRegression\n",
    "* k-nearest neighbors\n",
    "* AdaBoost classifier\n",
    "* Decission tree\n",
    "* Random forest"
   ]
  },
  {
   "cell_type": "code",
   "execution_count": 10,
   "metadata": {
    "ExecuteTime": {
     "end_time": "2019-01-28T16:18:28.162219Z",
     "start_time": "2019-01-28T16:13:31.654422Z"
    }
   },
   "outputs": [
    {
     "name": "stdout",
     "output_type": "stream",
     "text": [
      "Searching best estimator...\n",
      "\n",
      "Mean accuracy Linear SVM: 0.805 (+/- 0.030)\n",
      "Mean accuracy BernoulliNB: 0.535 (+/- 0.045)\n",
      "Mean accuracy LogisticRegression: 0.667 (+/- 0.032)\n",
      "Mean accuracy KNeighborsClassifier: 0.401 (+/- 0.046)\n",
      "Mean accuracy AdaBoostClassifier: 0.748 (+/- 0.011)\n",
      "Mean accuracy Random Forest: 0.654 (+/- 0.029)\n",
      "Mean accuracy Decision Tree: 0.686 (+/- 0.031)\n",
      "\n",
      "Best estimator: Linear SVM (mean acc 0.805, 5-fold cross-validation)\n"
     ]
    }
   ],
   "source": [
    "from sklearn.svm import LinearSVC\n",
    "from sklearn.linear_model import LogisticRegression\n",
    "from sklearn.naive_bayes import BernoulliNB\n",
    "from sklearn.neighbors import KNeighborsClassifier\n",
    "from sklearn.ensemble import RandomForestClassifier, AdaBoostClassifier\n",
    "from sklearn.tree import DecisionTreeClassifier\n",
    "\n",
    "from sklearn.multiclass import OneVsRestClassifier\n",
    "\n",
    "from sklearn.model_selection import cross_val_score\n",
    "\n",
    "names = [\n",
    "    \"Linear SVM\", \"BernoulliNB\", \"LogisticRegression\", \"KNeighborsClassifier\",\n",
    "    \"AdaBoostClassifier\", \"Random Forest\", \"Decision Tree\"\n",
    "]\n",
    "\n",
    "classifiers = [\n",
    "    OneVsRestClassifier(LinearSVC(random_state=seed)),\n",
    "    OneVsRestClassifier(BernoulliNB()),\n",
    "    OneVsRestClassifier(\n",
    "        LogisticRegression(random_state=seed, solver='sag', max_iter=1000)),\n",
    "    OneVsRestClassifier(KNeighborsClassifier()),\n",
    "    OneVsRestClassifier(AdaBoostClassifier()),\n",
    "    OneVsRestClassifier(RandomForestClassifier(random_state=seed)),\n",
    "    OneVsRestClassifier(DecisionTreeClassifier(random_state=seed))\n",
    "]\n",
    "\n",
    "print('Searching best estimator...')\n",
    "print()\n",
    "best_classifier = None\n",
    "for name, clf in zip(names, classifiers):\n",
    "    scores = cross_val_score(clf, X_train, y_train, cv=k, n_jobs=jobs)\n",
    "    print('Mean accuracy %s: %0.3f (+/- %0.3f)' % (name, scores.mean(),\n",
    "                                                   scores.std() * 2))\n",
    "    if not best_classifier:\n",
    "        best_classifier = (name, scores.mean())\n",
    "    else:\n",
    "        if best_classifier[1] < scores.mean():\n",
    "            best_classifier = (name, scores.mean())\n",
    "print()\n",
    "print('Best estimator: %s (mean acc %0.3f, %d-fold cross-validation)' %\n",
    "      (best_classifier[0], best_classifier[1], k))"
   ]
  },
  {
   "cell_type": "markdown",
   "metadata": {},
   "source": [
    "The linear SVM yields the best results based on the accuracy. Since the accuracy of a classifier is not always the optimal performance measure, it can be advisable to further check other scoring metrics.<br>\n",
    "In this case the F1 score (which is the weighted average of the precision and recall) is additionally computed to provide a better assessment of all classifiers."
   ]
  },
  {
   "cell_type": "code",
   "execution_count": 11,
   "metadata": {
    "ExecuteTime": {
     "end_time": "2019-01-28T16:23:45.134467Z",
     "start_time": "2019-01-28T16:18:28.164039Z"
    }
   },
   "outputs": [
    {
     "name": "stdout",
     "output_type": "stream",
     "text": [
      "Searching best estimator (F1 score) ...\n",
      "\n",
      "Mean F1 score Linear SVM: 0.873 (+/- 0.023)\n",
      "Mean F1 score BernoulliNB: 0.382 (+/- 0.007)\n",
      "Mean F1 score LogisticRegression: 0.763 (+/- 0.030)\n",
      "Mean F1 score KNeighborsClassifier: 0.513 (+/- 0.048)\n",
      "Mean F1 score AdaBoostClassifier: 0.848 (+/- 0.011)\n",
      "Mean F1 score Random Forest: 0.757 (+/- 0.022)\n",
      "Mean F1 score Decision Tree: 0.814 (+/- 0.019)\n",
      "\n",
      "Best estimator: Linear SVM (mean F1 score 0.873, 5-fold cross-validation)\n"
     ]
    }
   ],
   "source": [
    "from sklearn.metrics import f1_score\n",
    "from sklearn.metrics import make_scorer\n",
    "\n",
    "print('Searching best estimator (F1 score) ...')\n",
    "print()\n",
    "best_classifier = None\n",
    "for name, clf in zip(names, classifiers):\n",
    "    scores = cross_val_score(\n",
    "        clf,\n",
    "        X_train,\n",
    "        y_train,\n",
    "        cv=k,\n",
    "        n_jobs=jobs,\n",
    "        scoring=make_scorer(f1_score, average='micro'))\n",
    "    print('Mean F1 score %s: %0.3f (+/- %0.3f)' % (name, scores.mean(),\n",
    "                                                   scores.std() * 2))\n",
    "    if not best_classifier:\n",
    "        best_classifier = (name, scores.mean())\n",
    "    else:\n",
    "        if best_classifier[1] < scores.mean():\n",
    "            best_classifier = (name, scores.mean())\n",
    "print()\n",
    "print('Best estimator: %s (mean F1 score %0.3f, %d-fold cross-validation)' %\n",
    "      (best_classifier[0], best_classifier[1], k))"
   ]
  },
  {
   "cell_type": "markdown",
   "metadata": {},
   "source": [
    "The SVM also performs best in this case. As the next step one can try to tune the hyperparameter of the SVM, to optimize the model."
   ]
  },
  {
   "cell_type": "markdown",
   "metadata": {},
   "source": [
    "## 3. Tuning the model"
   ]
  },
  {
   "cell_type": "markdown",
   "metadata": {},
   "source": [
    "There are a couple of different SVM implemetations in scikit-learn. Another noteworthy option is the <code>sklearn.linear_model.SGDClassifier</code>. It is a general linear classifier with stochastic gradient decent optimization. It gives a linear SVM with the <code>loss='hinge'</code> parameter."
   ]
  },
  {
   "cell_type": "code",
   "execution_count": 12,
   "metadata": {
    "ExecuteTime": {
     "end_time": "2019-01-28T16:26:42.474246Z",
     "start_time": "2019-01-28T16:23:45.136350Z"
    }
   },
   "outputs": [
    {
     "name": "stdout",
     "output_type": "stream",
     "text": [
      "Mean accuracy Linear SVM (SGD): 0.812 (+/- 0.036)\n",
      "Mean F1 score Linear SVM (SGD): 0.878 (+/- 0.022)\n"
     ]
    }
   ],
   "source": [
    "from sklearn.linear_model import SGDClassifier\n",
    "from sklearn.model_selection import cross_validate\n",
    "\n",
    "estimator = OneVsRestClassifier(\n",
    "    SGDClassifier(random_state=seed, max_iter=1000, loss='hinge'))\n",
    "\n",
    "scoring = {'acc': 'accuracy', 'f1': make_scorer(f1_score, average='micro')}\n",
    "scores = cross_validate(\n",
    "    estimator, X_train, y_train, cv=k, n_jobs=jobs, scoring=scoring)\n",
    "print('Mean accuracy %s: %0.3f (+/- %0.3f)' %\n",
    "      ('Linear SVM (SGD)', scores['test_acc'].mean(),\n",
    "       scores['test_acc'].std() * 2))\n",
    "print('Mean F1 score %s: %0.3f (+/- %0.3f)' % (\n",
    "    'Linear SVM (SGD)', scores['test_f1'].mean(), scores['test_f1'].std() * 2))"
   ]
  },
  {
   "cell_type": "markdown",
   "metadata": {},
   "source": [
    "The SGD optimization slightly increases both accuracy and F1 score, but comes at the cost of a higher computation time."
   ]
  },
  {
   "cell_type": "markdown",
   "metadata": {},
   "source": [
    "The <code>alpha</code> parameter of the <code>SGDClassifier</code> is the main hyperparameter which will be tuned. It multiplies  the regularization term (defined by the <code>penalty</code> parameter) and is used to compute the <code>learning_rate</code>.<br>\n",
    "To tune this parameter, the <code>sklearn.model_selection.validation_curve</code> will be used. A cross-validation for different <code>alpha</code> values will be performed to determine the best performance measure (F1 score).<br>\n",
    "Note that the 'right' approach here would rather be an exhaustive grid search or random search with a combination of different parameters in order to find the optimal model. However, the fine tuning process is a rather time and resource consuming procedure (and may include some extra steps like feature selection), hence the focus will be on just one parameter."
   ]
  },
  {
   "cell_type": "code",
   "execution_count": 13,
   "metadata": {
    "ExecuteTime": {
     "end_time": "2019-01-28T17:17:42.934019Z",
     "start_time": "2019-01-28T16:26:42.476321Z"
    }
   },
   "outputs": [],
   "source": [
    "from sklearn.model_selection import validation_curve, learning_curve\n",
    "from sklearn.multiclass import OneVsRestClassifier\n",
    "from sklearn.linear_model import SGDClassifier\n",
    "\n",
    "scoring = make_scorer(f1_score, average='micro')\n",
    "\n",
    "param_range = np.linspace(10**-6, 10**-3, 20)\n",
    "train_scores, test_scores = validation_curve(\n",
    "    estimator,\n",
    "    X_train,\n",
    "    y_train,\n",
    "    'estimator__alpha',\n",
    "    param_range,\n",
    "    cv=k,\n",
    "    n_jobs=jobs,\n",
    "    scoring=scoring)"
   ]
  },
  {
   "cell_type": "markdown",
   "metadata": {},
   "source": [
    "Plotting the validation curve:"
   ]
  },
  {
   "cell_type": "code",
   "execution_count": 14,
   "metadata": {
    "ExecuteTime": {
     "end_time": "2019-01-28T17:17:42.982449Z",
     "start_time": "2019-01-28T17:17:42.935565Z"
    }
   },
   "outputs": [
    {
     "data": {
      "application/javascript": [
       "/* Put everything inside the global mpl namespace */\n",
       "window.mpl = {};\n",
       "\n",
       "\n",
       "mpl.get_websocket_type = function() {\n",
       "    if (typeof(WebSocket) !== 'undefined') {\n",
       "        return WebSocket;\n",
       "    } else if (typeof(MozWebSocket) !== 'undefined') {\n",
       "        return MozWebSocket;\n",
       "    } else {\n",
       "        alert('Your browser does not have WebSocket support.' +\n",
       "              'Please try Chrome, Safari or Firefox ≥ 6. ' +\n",
       "              'Firefox 4 and 5 are also supported but you ' +\n",
       "              'have to enable WebSockets in about:config.');\n",
       "    };\n",
       "}\n",
       "\n",
       "mpl.figure = function(figure_id, websocket, ondownload, parent_element) {\n",
       "    this.id = figure_id;\n",
       "\n",
       "    this.ws = websocket;\n",
       "\n",
       "    this.supports_binary = (this.ws.binaryType != undefined);\n",
       "\n",
       "    if (!this.supports_binary) {\n",
       "        var warnings = document.getElementById(\"mpl-warnings\");\n",
       "        if (warnings) {\n",
       "            warnings.style.display = 'block';\n",
       "            warnings.textContent = (\n",
       "                \"This browser does not support binary websocket messages. \" +\n",
       "                    \"Performance may be slow.\");\n",
       "        }\n",
       "    }\n",
       "\n",
       "    this.imageObj = new Image();\n",
       "\n",
       "    this.context = undefined;\n",
       "    this.message = undefined;\n",
       "    this.canvas = undefined;\n",
       "    this.rubberband_canvas = undefined;\n",
       "    this.rubberband_context = undefined;\n",
       "    this.format_dropdown = undefined;\n",
       "\n",
       "    this.image_mode = 'full';\n",
       "\n",
       "    this.root = $('<div/>');\n",
       "    this._root_extra_style(this.root)\n",
       "    this.root.attr('style', 'display: inline-block');\n",
       "\n",
       "    $(parent_element).append(this.root);\n",
       "\n",
       "    this._init_header(this);\n",
       "    this._init_canvas(this);\n",
       "    this._init_toolbar(this);\n",
       "\n",
       "    var fig = this;\n",
       "\n",
       "    this.waiting = false;\n",
       "\n",
       "    this.ws.onopen =  function () {\n",
       "            fig.send_message(\"supports_binary\", {value: fig.supports_binary});\n",
       "            fig.send_message(\"send_image_mode\", {});\n",
       "            if (mpl.ratio != 1) {\n",
       "                fig.send_message(\"set_dpi_ratio\", {'dpi_ratio': mpl.ratio});\n",
       "            }\n",
       "            fig.send_message(\"refresh\", {});\n",
       "        }\n",
       "\n",
       "    this.imageObj.onload = function() {\n",
       "            if (fig.image_mode == 'full') {\n",
       "                // Full images could contain transparency (where diff images\n",
       "                // almost always do), so we need to clear the canvas so that\n",
       "                // there is no ghosting.\n",
       "                fig.context.clearRect(0, 0, fig.canvas.width, fig.canvas.height);\n",
       "            }\n",
       "            fig.context.drawImage(fig.imageObj, 0, 0);\n",
       "        };\n",
       "\n",
       "    this.imageObj.onunload = function() {\n",
       "        fig.ws.close();\n",
       "    }\n",
       "\n",
       "    this.ws.onmessage = this._make_on_message_function(this);\n",
       "\n",
       "    this.ondownload = ondownload;\n",
       "}\n",
       "\n",
       "mpl.figure.prototype._init_header = function() {\n",
       "    var titlebar = $(\n",
       "        '<div class=\"ui-dialog-titlebar ui-widget-header ui-corner-all ' +\n",
       "        'ui-helper-clearfix\"/>');\n",
       "    var titletext = $(\n",
       "        '<div class=\"ui-dialog-title\" style=\"width: 100%; ' +\n",
       "        'text-align: center; padding: 3px;\"/>');\n",
       "    titlebar.append(titletext)\n",
       "    this.root.append(titlebar);\n",
       "    this.header = titletext[0];\n",
       "}\n",
       "\n",
       "\n",
       "\n",
       "mpl.figure.prototype._canvas_extra_style = function(canvas_div) {\n",
       "\n",
       "}\n",
       "\n",
       "\n",
       "mpl.figure.prototype._root_extra_style = function(canvas_div) {\n",
       "\n",
       "}\n",
       "\n",
       "mpl.figure.prototype._init_canvas = function() {\n",
       "    var fig = this;\n",
       "\n",
       "    var canvas_div = $('<div/>');\n",
       "\n",
       "    canvas_div.attr('style', 'position: relative; clear: both; outline: 0');\n",
       "\n",
       "    function canvas_keyboard_event(event) {\n",
       "        return fig.key_event(event, event['data']);\n",
       "    }\n",
       "\n",
       "    canvas_div.keydown('key_press', canvas_keyboard_event);\n",
       "    canvas_div.keyup('key_release', canvas_keyboard_event);\n",
       "    this.canvas_div = canvas_div\n",
       "    this._canvas_extra_style(canvas_div)\n",
       "    this.root.append(canvas_div);\n",
       "\n",
       "    var canvas = $('<canvas/>');\n",
       "    canvas.addClass('mpl-canvas');\n",
       "    canvas.attr('style', \"left: 0; top: 0; z-index: 0; outline: 0\")\n",
       "\n",
       "    this.canvas = canvas[0];\n",
       "    this.context = canvas[0].getContext(\"2d\");\n",
       "\n",
       "    var backingStore = this.context.backingStorePixelRatio ||\n",
       "\tthis.context.webkitBackingStorePixelRatio ||\n",
       "\tthis.context.mozBackingStorePixelRatio ||\n",
       "\tthis.context.msBackingStorePixelRatio ||\n",
       "\tthis.context.oBackingStorePixelRatio ||\n",
       "\tthis.context.backingStorePixelRatio || 1;\n",
       "\n",
       "    mpl.ratio = (window.devicePixelRatio || 1) / backingStore;\n",
       "\n",
       "    var rubberband = $('<canvas/>');\n",
       "    rubberband.attr('style', \"position: absolute; left: 0; top: 0; z-index: 1;\")\n",
       "\n",
       "    var pass_mouse_events = true;\n",
       "\n",
       "    canvas_div.resizable({\n",
       "        start: function(event, ui) {\n",
       "            pass_mouse_events = false;\n",
       "        },\n",
       "        resize: function(event, ui) {\n",
       "            fig.request_resize(ui.size.width, ui.size.height);\n",
       "        },\n",
       "        stop: function(event, ui) {\n",
       "            pass_mouse_events = true;\n",
       "            fig.request_resize(ui.size.width, ui.size.height);\n",
       "        },\n",
       "    });\n",
       "\n",
       "    function mouse_event_fn(event) {\n",
       "        if (pass_mouse_events)\n",
       "            return fig.mouse_event(event, event['data']);\n",
       "    }\n",
       "\n",
       "    rubberband.mousedown('button_press', mouse_event_fn);\n",
       "    rubberband.mouseup('button_release', mouse_event_fn);\n",
       "    // Throttle sequential mouse events to 1 every 20ms.\n",
       "    rubberband.mousemove('motion_notify', mouse_event_fn);\n",
       "\n",
       "    rubberband.mouseenter('figure_enter', mouse_event_fn);\n",
       "    rubberband.mouseleave('figure_leave', mouse_event_fn);\n",
       "\n",
       "    canvas_div.on(\"wheel\", function (event) {\n",
       "        event = event.originalEvent;\n",
       "        event['data'] = 'scroll'\n",
       "        if (event.deltaY < 0) {\n",
       "            event.step = 1;\n",
       "        } else {\n",
       "            event.step = -1;\n",
       "        }\n",
       "        mouse_event_fn(event);\n",
       "    });\n",
       "\n",
       "    canvas_div.append(canvas);\n",
       "    canvas_div.append(rubberband);\n",
       "\n",
       "    this.rubberband = rubberband;\n",
       "    this.rubberband_canvas = rubberband[0];\n",
       "    this.rubberband_context = rubberband[0].getContext(\"2d\");\n",
       "    this.rubberband_context.strokeStyle = \"#000000\";\n",
       "\n",
       "    this._resize_canvas = function(width, height) {\n",
       "        // Keep the size of the canvas, canvas container, and rubber band\n",
       "        // canvas in synch.\n",
       "        canvas_div.css('width', width)\n",
       "        canvas_div.css('height', height)\n",
       "\n",
       "        canvas.attr('width', width * mpl.ratio);\n",
       "        canvas.attr('height', height * mpl.ratio);\n",
       "        canvas.attr('style', 'width: ' + width + 'px; height: ' + height + 'px;');\n",
       "\n",
       "        rubberband.attr('width', width);\n",
       "        rubberband.attr('height', height);\n",
       "    }\n",
       "\n",
       "    // Set the figure to an initial 600x600px, this will subsequently be updated\n",
       "    // upon first draw.\n",
       "    this._resize_canvas(600, 600);\n",
       "\n",
       "    // Disable right mouse context menu.\n",
       "    $(this.rubberband_canvas).bind(\"contextmenu\",function(e){\n",
       "        return false;\n",
       "    });\n",
       "\n",
       "    function set_focus () {\n",
       "        canvas.focus();\n",
       "        canvas_div.focus();\n",
       "    }\n",
       "\n",
       "    window.setTimeout(set_focus, 100);\n",
       "}\n",
       "\n",
       "mpl.figure.prototype._init_toolbar = function() {\n",
       "    var fig = this;\n",
       "\n",
       "    var nav_element = $('<div/>')\n",
       "    nav_element.attr('style', 'width: 100%');\n",
       "    this.root.append(nav_element);\n",
       "\n",
       "    // Define a callback function for later on.\n",
       "    function toolbar_event(event) {\n",
       "        return fig.toolbar_button_onclick(event['data']);\n",
       "    }\n",
       "    function toolbar_mouse_event(event) {\n",
       "        return fig.toolbar_button_onmouseover(event['data']);\n",
       "    }\n",
       "\n",
       "    for(var toolbar_ind in mpl.toolbar_items) {\n",
       "        var name = mpl.toolbar_items[toolbar_ind][0];\n",
       "        var tooltip = mpl.toolbar_items[toolbar_ind][1];\n",
       "        var image = mpl.toolbar_items[toolbar_ind][2];\n",
       "        var method_name = mpl.toolbar_items[toolbar_ind][3];\n",
       "\n",
       "        if (!name) {\n",
       "            // put a spacer in here.\n",
       "            continue;\n",
       "        }\n",
       "        var button = $('<button/>');\n",
       "        button.addClass('ui-button ui-widget ui-state-default ui-corner-all ' +\n",
       "                        'ui-button-icon-only');\n",
       "        button.attr('role', 'button');\n",
       "        button.attr('aria-disabled', 'false');\n",
       "        button.click(method_name, toolbar_event);\n",
       "        button.mouseover(tooltip, toolbar_mouse_event);\n",
       "\n",
       "        var icon_img = $('<span/>');\n",
       "        icon_img.addClass('ui-button-icon-primary ui-icon');\n",
       "        icon_img.addClass(image);\n",
       "        icon_img.addClass('ui-corner-all');\n",
       "\n",
       "        var tooltip_span = $('<span/>');\n",
       "        tooltip_span.addClass('ui-button-text');\n",
       "        tooltip_span.html(tooltip);\n",
       "\n",
       "        button.append(icon_img);\n",
       "        button.append(tooltip_span);\n",
       "\n",
       "        nav_element.append(button);\n",
       "    }\n",
       "\n",
       "    var fmt_picker_span = $('<span/>');\n",
       "\n",
       "    var fmt_picker = $('<select/>');\n",
       "    fmt_picker.addClass('mpl-toolbar-option ui-widget ui-widget-content');\n",
       "    fmt_picker_span.append(fmt_picker);\n",
       "    nav_element.append(fmt_picker_span);\n",
       "    this.format_dropdown = fmt_picker[0];\n",
       "\n",
       "    for (var ind in mpl.extensions) {\n",
       "        var fmt = mpl.extensions[ind];\n",
       "        var option = $(\n",
       "            '<option/>', {selected: fmt === mpl.default_extension}).html(fmt);\n",
       "        fmt_picker.append(option)\n",
       "    }\n",
       "\n",
       "    // Add hover states to the ui-buttons\n",
       "    $( \".ui-button\" ).hover(\n",
       "        function() { $(this).addClass(\"ui-state-hover\");},\n",
       "        function() { $(this).removeClass(\"ui-state-hover\");}\n",
       "    );\n",
       "\n",
       "    var status_bar = $('<span class=\"mpl-message\"/>');\n",
       "    nav_element.append(status_bar);\n",
       "    this.message = status_bar[0];\n",
       "}\n",
       "\n",
       "mpl.figure.prototype.request_resize = function(x_pixels, y_pixels) {\n",
       "    // Request matplotlib to resize the figure. Matplotlib will then trigger a resize in the client,\n",
       "    // which will in turn request a refresh of the image.\n",
       "    this.send_message('resize', {'width': x_pixels, 'height': y_pixels});\n",
       "}\n",
       "\n",
       "mpl.figure.prototype.send_message = function(type, properties) {\n",
       "    properties['type'] = type;\n",
       "    properties['figure_id'] = this.id;\n",
       "    this.ws.send(JSON.stringify(properties));\n",
       "}\n",
       "\n",
       "mpl.figure.prototype.send_draw_message = function() {\n",
       "    if (!this.waiting) {\n",
       "        this.waiting = true;\n",
       "        this.ws.send(JSON.stringify({type: \"draw\", figure_id: this.id}));\n",
       "    }\n",
       "}\n",
       "\n",
       "\n",
       "mpl.figure.prototype.handle_save = function(fig, msg) {\n",
       "    var format_dropdown = fig.format_dropdown;\n",
       "    var format = format_dropdown.options[format_dropdown.selectedIndex].value;\n",
       "    fig.ondownload(fig, format);\n",
       "}\n",
       "\n",
       "\n",
       "mpl.figure.prototype.handle_resize = function(fig, msg) {\n",
       "    var size = msg['size'];\n",
       "    if (size[0] != fig.canvas.width || size[1] != fig.canvas.height) {\n",
       "        fig._resize_canvas(size[0], size[1]);\n",
       "        fig.send_message(\"refresh\", {});\n",
       "    };\n",
       "}\n",
       "\n",
       "mpl.figure.prototype.handle_rubberband = function(fig, msg) {\n",
       "    var x0 = msg['x0'] / mpl.ratio;\n",
       "    var y0 = (fig.canvas.height - msg['y0']) / mpl.ratio;\n",
       "    var x1 = msg['x1'] / mpl.ratio;\n",
       "    var y1 = (fig.canvas.height - msg['y1']) / mpl.ratio;\n",
       "    x0 = Math.floor(x0) + 0.5;\n",
       "    y0 = Math.floor(y0) + 0.5;\n",
       "    x1 = Math.floor(x1) + 0.5;\n",
       "    y1 = Math.floor(y1) + 0.5;\n",
       "    var min_x = Math.min(x0, x1);\n",
       "    var min_y = Math.min(y0, y1);\n",
       "    var width = Math.abs(x1 - x0);\n",
       "    var height = Math.abs(y1 - y0);\n",
       "\n",
       "    fig.rubberband_context.clearRect(\n",
       "        0, 0, fig.canvas.width, fig.canvas.height);\n",
       "\n",
       "    fig.rubberband_context.strokeRect(min_x, min_y, width, height);\n",
       "}\n",
       "\n",
       "mpl.figure.prototype.handle_figure_label = function(fig, msg) {\n",
       "    // Updates the figure title.\n",
       "    fig.header.textContent = msg['label'];\n",
       "}\n",
       "\n",
       "mpl.figure.prototype.handle_cursor = function(fig, msg) {\n",
       "    var cursor = msg['cursor'];\n",
       "    switch(cursor)\n",
       "    {\n",
       "    case 0:\n",
       "        cursor = 'pointer';\n",
       "        break;\n",
       "    case 1:\n",
       "        cursor = 'default';\n",
       "        break;\n",
       "    case 2:\n",
       "        cursor = 'crosshair';\n",
       "        break;\n",
       "    case 3:\n",
       "        cursor = 'move';\n",
       "        break;\n",
       "    }\n",
       "    fig.rubberband_canvas.style.cursor = cursor;\n",
       "}\n",
       "\n",
       "mpl.figure.prototype.handle_message = function(fig, msg) {\n",
       "    fig.message.textContent = msg['message'];\n",
       "}\n",
       "\n",
       "mpl.figure.prototype.handle_draw = function(fig, msg) {\n",
       "    // Request the server to send over a new figure.\n",
       "    fig.send_draw_message();\n",
       "}\n",
       "\n",
       "mpl.figure.prototype.handle_image_mode = function(fig, msg) {\n",
       "    fig.image_mode = msg['mode'];\n",
       "}\n",
       "\n",
       "mpl.figure.prototype.updated_canvas_event = function() {\n",
       "    // Called whenever the canvas gets updated.\n",
       "    this.send_message(\"ack\", {});\n",
       "}\n",
       "\n",
       "// A function to construct a web socket function for onmessage handling.\n",
       "// Called in the figure constructor.\n",
       "mpl.figure.prototype._make_on_message_function = function(fig) {\n",
       "    return function socket_on_message(evt) {\n",
       "        if (evt.data instanceof Blob) {\n",
       "            /* FIXME: We get \"Resource interpreted as Image but\n",
       "             * transferred with MIME type text/plain:\" errors on\n",
       "             * Chrome.  But how to set the MIME type?  It doesn't seem\n",
       "             * to be part of the websocket stream */\n",
       "            evt.data.type = \"image/png\";\n",
       "\n",
       "            /* Free the memory for the previous frames */\n",
       "            if (fig.imageObj.src) {\n",
       "                (window.URL || window.webkitURL).revokeObjectURL(\n",
       "                    fig.imageObj.src);\n",
       "            }\n",
       "\n",
       "            fig.imageObj.src = (window.URL || window.webkitURL).createObjectURL(\n",
       "                evt.data);\n",
       "            fig.updated_canvas_event();\n",
       "            fig.waiting = false;\n",
       "            return;\n",
       "        }\n",
       "        else if (typeof evt.data === 'string' && evt.data.slice(0, 21) == \"data:image/png;base64\") {\n",
       "            fig.imageObj.src = evt.data;\n",
       "            fig.updated_canvas_event();\n",
       "            fig.waiting = false;\n",
       "            return;\n",
       "        }\n",
       "\n",
       "        var msg = JSON.parse(evt.data);\n",
       "        var msg_type = msg['type'];\n",
       "\n",
       "        // Call the  \"handle_{type}\" callback, which takes\n",
       "        // the figure and JSON message as its only arguments.\n",
       "        try {\n",
       "            var callback = fig[\"handle_\" + msg_type];\n",
       "        } catch (e) {\n",
       "            console.log(\"No handler for the '\" + msg_type + \"' message type: \", msg);\n",
       "            return;\n",
       "        }\n",
       "\n",
       "        if (callback) {\n",
       "            try {\n",
       "                // console.log(\"Handling '\" + msg_type + \"' message: \", msg);\n",
       "                callback(fig, msg);\n",
       "            } catch (e) {\n",
       "                console.log(\"Exception inside the 'handler_\" + msg_type + \"' callback:\", e, e.stack, msg);\n",
       "            }\n",
       "        }\n",
       "    };\n",
       "}\n",
       "\n",
       "// from http://stackoverflow.com/questions/1114465/getting-mouse-location-in-canvas\n",
       "mpl.findpos = function(e) {\n",
       "    //this section is from http://www.quirksmode.org/js/events_properties.html\n",
       "    var targ;\n",
       "    if (!e)\n",
       "        e = window.event;\n",
       "    if (e.target)\n",
       "        targ = e.target;\n",
       "    else if (e.srcElement)\n",
       "        targ = e.srcElement;\n",
       "    if (targ.nodeType == 3) // defeat Safari bug\n",
       "        targ = targ.parentNode;\n",
       "\n",
       "    // jQuery normalizes the pageX and pageY\n",
       "    // pageX,Y are the mouse positions relative to the document\n",
       "    // offset() returns the position of the element relative to the document\n",
       "    var x = e.pageX - $(targ).offset().left;\n",
       "    var y = e.pageY - $(targ).offset().top;\n",
       "\n",
       "    return {\"x\": x, \"y\": y};\n",
       "};\n",
       "\n",
       "/*\n",
       " * return a copy of an object with only non-object keys\n",
       " * we need this to avoid circular references\n",
       " * http://stackoverflow.com/a/24161582/3208463\n",
       " */\n",
       "function simpleKeys (original) {\n",
       "  return Object.keys(original).reduce(function (obj, key) {\n",
       "    if (typeof original[key] !== 'object')\n",
       "        obj[key] = original[key]\n",
       "    return obj;\n",
       "  }, {});\n",
       "}\n",
       "\n",
       "mpl.figure.prototype.mouse_event = function(event, name) {\n",
       "    var canvas_pos = mpl.findpos(event)\n",
       "\n",
       "    if (name === 'button_press')\n",
       "    {\n",
       "        this.canvas.focus();\n",
       "        this.canvas_div.focus();\n",
       "    }\n",
       "\n",
       "    var x = canvas_pos.x * mpl.ratio;\n",
       "    var y = canvas_pos.y * mpl.ratio;\n",
       "\n",
       "    this.send_message(name, {x: x, y: y, button: event.button,\n",
       "                             step: event.step,\n",
       "                             guiEvent: simpleKeys(event)});\n",
       "\n",
       "    /* This prevents the web browser from automatically changing to\n",
       "     * the text insertion cursor when the button is pressed.  We want\n",
       "     * to control all of the cursor setting manually through the\n",
       "     * 'cursor' event from matplotlib */\n",
       "    event.preventDefault();\n",
       "    return false;\n",
       "}\n",
       "\n",
       "mpl.figure.prototype._key_event_extra = function(event, name) {\n",
       "    // Handle any extra behaviour associated with a key event\n",
       "}\n",
       "\n",
       "mpl.figure.prototype.key_event = function(event, name) {\n",
       "\n",
       "    // Prevent repeat events\n",
       "    if (name == 'key_press')\n",
       "    {\n",
       "        if (event.which === this._key)\n",
       "            return;\n",
       "        else\n",
       "            this._key = event.which;\n",
       "    }\n",
       "    if (name == 'key_release')\n",
       "        this._key = null;\n",
       "\n",
       "    var value = '';\n",
       "    if (event.ctrlKey && event.which != 17)\n",
       "        value += \"ctrl+\";\n",
       "    if (event.altKey && event.which != 18)\n",
       "        value += \"alt+\";\n",
       "    if (event.shiftKey && event.which != 16)\n",
       "        value += \"shift+\";\n",
       "\n",
       "    value += 'k';\n",
       "    value += event.which.toString();\n",
       "\n",
       "    this._key_event_extra(event, name);\n",
       "\n",
       "    this.send_message(name, {key: value,\n",
       "                             guiEvent: simpleKeys(event)});\n",
       "    return false;\n",
       "}\n",
       "\n",
       "mpl.figure.prototype.toolbar_button_onclick = function(name) {\n",
       "    if (name == 'download') {\n",
       "        this.handle_save(this, null);\n",
       "    } else {\n",
       "        this.send_message(\"toolbar_button\", {name: name});\n",
       "    }\n",
       "};\n",
       "\n",
       "mpl.figure.prototype.toolbar_button_onmouseover = function(tooltip) {\n",
       "    this.message.textContent = tooltip;\n",
       "};\n",
       "mpl.toolbar_items = [[\"Home\", \"Reset original view\", \"fa fa-home icon-home\", \"home\"], [\"Back\", \"Back to previous view\", \"fa fa-arrow-left icon-arrow-left\", \"back\"], [\"Forward\", \"Forward to next view\", \"fa fa-arrow-right icon-arrow-right\", \"forward\"], [\"\", \"\", \"\", \"\"], [\"Pan\", \"Pan axes with left mouse, zoom with right\", \"fa fa-arrows icon-move\", \"pan\"], [\"Zoom\", \"Zoom to rectangle\", \"fa fa-square-o icon-check-empty\", \"zoom\"], [\"\", \"\", \"\", \"\"], [\"Download\", \"Download plot\", \"fa fa-floppy-o icon-save\", \"download\"]];\n",
       "\n",
       "mpl.extensions = [\"eps\", \"jpeg\", \"pdf\", \"png\", \"ps\", \"raw\", \"svg\", \"tif\"];\n",
       "\n",
       "mpl.default_extension = \"png\";var comm_websocket_adapter = function(comm) {\n",
       "    // Create a \"websocket\"-like object which calls the given IPython comm\n",
       "    // object with the appropriate methods. Currently this is a non binary\n",
       "    // socket, so there is still some room for performance tuning.\n",
       "    var ws = {};\n",
       "\n",
       "    ws.close = function() {\n",
       "        comm.close()\n",
       "    };\n",
       "    ws.send = function(m) {\n",
       "        //console.log('sending', m);\n",
       "        comm.send(m);\n",
       "    };\n",
       "    // Register the callback with on_msg.\n",
       "    comm.on_msg(function(msg) {\n",
       "        //console.log('receiving', msg['content']['data'], msg);\n",
       "        // Pass the mpl event to the overridden (by mpl) onmessage function.\n",
       "        ws.onmessage(msg['content']['data'])\n",
       "    });\n",
       "    return ws;\n",
       "}\n",
       "\n",
       "mpl.mpl_figure_comm = function(comm, msg) {\n",
       "    // This is the function which gets called when the mpl process\n",
       "    // starts-up an IPython Comm through the \"matplotlib\" channel.\n",
       "\n",
       "    var id = msg.content.data.id;\n",
       "    // Get hold of the div created by the display call when the Comm\n",
       "    // socket was opened in Python.\n",
       "    var element = $(\"#\" + id);\n",
       "    var ws_proxy = comm_websocket_adapter(comm)\n",
       "\n",
       "    function ondownload(figure, format) {\n",
       "        window.open(figure.imageObj.src);\n",
       "    }\n",
       "\n",
       "    var fig = new mpl.figure(id, ws_proxy,\n",
       "                           ondownload,\n",
       "                           element.get(0));\n",
       "\n",
       "    // Call onopen now - mpl needs it, as it is assuming we've passed it a real\n",
       "    // web socket which is closed, not our websocket->open comm proxy.\n",
       "    ws_proxy.onopen();\n",
       "\n",
       "    fig.parent_element = element.get(0);\n",
       "    fig.cell_info = mpl.find_output_cell(\"<div id='\" + id + \"'></div>\");\n",
       "    if (!fig.cell_info) {\n",
       "        console.error(\"Failed to find cell for figure\", id, fig);\n",
       "        return;\n",
       "    }\n",
       "\n",
       "    var output_index = fig.cell_info[2]\n",
       "    var cell = fig.cell_info[0];\n",
       "\n",
       "};\n",
       "\n",
       "mpl.figure.prototype.handle_close = function(fig, msg) {\n",
       "    var width = fig.canvas.width/mpl.ratio\n",
       "    fig.root.unbind('remove')\n",
       "\n",
       "    // Update the output cell to use the data from the current canvas.\n",
       "    fig.push_to_output();\n",
       "    var dataURL = fig.canvas.toDataURL();\n",
       "    // Re-enable the keyboard manager in IPython - without this line, in FF,\n",
       "    // the notebook keyboard shortcuts fail.\n",
       "    IPython.keyboard_manager.enable()\n",
       "    $(fig.parent_element).html('<img src=\"' + dataURL + '\" width=\"' + width + '\">');\n",
       "    fig.close_ws(fig, msg);\n",
       "}\n",
       "\n",
       "mpl.figure.prototype.close_ws = function(fig, msg){\n",
       "    fig.send_message('closing', msg);\n",
       "    // fig.ws.close()\n",
       "}\n",
       "\n",
       "mpl.figure.prototype.push_to_output = function(remove_interactive) {\n",
       "    // Turn the data on the canvas into data in the output cell.\n",
       "    var width = this.canvas.width/mpl.ratio\n",
       "    var dataURL = this.canvas.toDataURL();\n",
       "    this.cell_info[1]['text/html'] = '<img src=\"' + dataURL + '\" width=\"' + width + '\">';\n",
       "}\n",
       "\n",
       "mpl.figure.prototype.updated_canvas_event = function() {\n",
       "    // Tell IPython that the notebook contents must change.\n",
       "    IPython.notebook.set_dirty(true);\n",
       "    this.send_message(\"ack\", {});\n",
       "    var fig = this;\n",
       "    // Wait a second, then push the new image to the DOM so\n",
       "    // that it is saved nicely (might be nice to debounce this).\n",
       "    setTimeout(function () { fig.push_to_output() }, 1000);\n",
       "}\n",
       "\n",
       "mpl.figure.prototype._init_toolbar = function() {\n",
       "    var fig = this;\n",
       "\n",
       "    var nav_element = $('<div/>')\n",
       "    nav_element.attr('style', 'width: 100%');\n",
       "    this.root.append(nav_element);\n",
       "\n",
       "    // Define a callback function for later on.\n",
       "    function toolbar_event(event) {\n",
       "        return fig.toolbar_button_onclick(event['data']);\n",
       "    }\n",
       "    function toolbar_mouse_event(event) {\n",
       "        return fig.toolbar_button_onmouseover(event['data']);\n",
       "    }\n",
       "\n",
       "    for(var toolbar_ind in mpl.toolbar_items){\n",
       "        var name = mpl.toolbar_items[toolbar_ind][0];\n",
       "        var tooltip = mpl.toolbar_items[toolbar_ind][1];\n",
       "        var image = mpl.toolbar_items[toolbar_ind][2];\n",
       "        var method_name = mpl.toolbar_items[toolbar_ind][3];\n",
       "\n",
       "        if (!name) { continue; };\n",
       "\n",
       "        var button = $('<button class=\"btn btn-default\" href=\"#\" title=\"' + name + '\"><i class=\"fa ' + image + ' fa-lg\"></i></button>');\n",
       "        button.click(method_name, toolbar_event);\n",
       "        button.mouseover(tooltip, toolbar_mouse_event);\n",
       "        nav_element.append(button);\n",
       "    }\n",
       "\n",
       "    // Add the status bar.\n",
       "    var status_bar = $('<span class=\"mpl-message\" style=\"text-align:right; float: right;\"/>');\n",
       "    nav_element.append(status_bar);\n",
       "    this.message = status_bar[0];\n",
       "\n",
       "    // Add the close button to the window.\n",
       "    var buttongrp = $('<div class=\"btn-group inline pull-right\"></div>');\n",
       "    var button = $('<button class=\"btn btn-mini btn-primary\" href=\"#\" title=\"Stop Interaction\"><i class=\"fa fa-power-off icon-remove icon-large\"></i></button>');\n",
       "    button.click(function (evt) { fig.handle_close(fig, {}); } );\n",
       "    button.mouseover('Stop Interaction', toolbar_mouse_event);\n",
       "    buttongrp.append(button);\n",
       "    var titlebar = this.root.find($('.ui-dialog-titlebar'));\n",
       "    titlebar.prepend(buttongrp);\n",
       "}\n",
       "\n",
       "mpl.figure.prototype._root_extra_style = function(el){\n",
       "    var fig = this\n",
       "    el.on(\"remove\", function(){\n",
       "\tfig.close_ws(fig, {});\n",
       "    });\n",
       "}\n",
       "\n",
       "mpl.figure.prototype._canvas_extra_style = function(el){\n",
       "    // this is important to make the div 'focusable\n",
       "    el.attr('tabindex', 0)\n",
       "    // reach out to IPython and tell the keyboard manager to turn it's self\n",
       "    // off when our div gets focus\n",
       "\n",
       "    // location in version 3\n",
       "    if (IPython.notebook.keyboard_manager) {\n",
       "        IPython.notebook.keyboard_manager.register_events(el);\n",
       "    }\n",
       "    else {\n",
       "        // location in version 2\n",
       "        IPython.keyboard_manager.register_events(el);\n",
       "    }\n",
       "\n",
       "}\n",
       "\n",
       "mpl.figure.prototype._key_event_extra = function(event, name) {\n",
       "    var manager = IPython.notebook.keyboard_manager;\n",
       "    if (!manager)\n",
       "        manager = IPython.keyboard_manager;\n",
       "\n",
       "    // Check for shift+enter\n",
       "    if (event.shiftKey && event.which == 13) {\n",
       "        this.canvas_div.blur();\n",
       "        event.shiftKey = false;\n",
       "        // Send a \"J\" for go to next cell\n",
       "        event.which = 74;\n",
       "        event.keyCode = 74;\n",
       "        manager.command_mode();\n",
       "        manager.handle_keydown(event);\n",
       "    }\n",
       "}\n",
       "\n",
       "mpl.figure.prototype.handle_save = function(fig, msg) {\n",
       "    fig.ondownload(fig, null);\n",
       "}\n",
       "\n",
       "\n",
       "mpl.find_output_cell = function(html_output) {\n",
       "    // Return the cell and output element which can be found *uniquely* in the notebook.\n",
       "    // Note - this is a bit hacky, but it is done because the \"notebook_saving.Notebook\"\n",
       "    // IPython event is triggered only after the cells have been serialised, which for\n",
       "    // our purposes (turning an active figure into a static one), is too late.\n",
       "    var cells = IPython.notebook.get_cells();\n",
       "    var ncells = cells.length;\n",
       "    for (var i=0; i<ncells; i++) {\n",
       "        var cell = cells[i];\n",
       "        if (cell.cell_type === 'code'){\n",
       "            for (var j=0; j<cell.output_area.outputs.length; j++) {\n",
       "                var data = cell.output_area.outputs[j];\n",
       "                if (data.data) {\n",
       "                    // IPython >= 3 moved mimebundle to data attribute of output\n",
       "                    data = data.data;\n",
       "                }\n",
       "                if (data['text/html'] == html_output) {\n",
       "                    return [cell, data, j];\n",
       "                }\n",
       "            }\n",
       "        }\n",
       "    }\n",
       "}\n",
       "\n",
       "// Register the function which deals with the matplotlib target/channel.\n",
       "// The kernel may be null if the page has been refreshed.\n",
       "if (IPython.notebook.kernel != null) {\n",
       "    IPython.notebook.kernel.comm_manager.register_target('matplotlib', mpl.mpl_figure_comm);\n",
       "}\n"
      ],
      "text/plain": [
       "<IPython.core.display.Javascript object>"
      ]
     },
     "metadata": {},
     "output_type": "display_data"
    },
    {
     "data": {
      "text/html": [
       "<div id='0819fddf-8d12-41f1-90b9-e34e0ef6d029'></div>"
      ],
      "text/plain": [
       "<IPython.core.display.HTML object>"
      ]
     },
     "metadata": {},
     "output_type": "display_data"
    }
   ],
   "source": [
    "import matplotlib.pyplot as plt\n",
    "\n",
    "train_scores_mean = np.mean(train_scores, axis=1)\n",
    "train_scores_std = np.std(train_scores, axis=1)\n",
    "test_scores_mean = np.mean(test_scores, axis=1)\n",
    "test_scores_std = np.std(test_scores, axis=1)\n",
    "\n",
    "plt.title(\"Validation Curve SVM\")\n",
    "plt.xlabel(\"alpha\")\n",
    "plt.ylabel(\"F1 Score\")\n",
    "plt.ylim(0.0, 1.1)\n",
    "lw = 1\n",
    "plt.semilogx(\n",
    "    param_range,\n",
    "    train_scores_mean,\n",
    "    label=\"Training score\",\n",
    "    color=\"darkorange\",\n",
    "    lw=lw)\n",
    "plt.fill_between(\n",
    "    param_range,\n",
    "    train_scores_mean - train_scores_std,\n",
    "    train_scores_mean + train_scores_std,\n",
    "    alpha=0.2,\n",
    "    color=\"darkorange\",\n",
    "    lw=lw)\n",
    "plt.semilogx(\n",
    "    param_range,\n",
    "    test_scores_mean,\n",
    "    label=\"Cross-validation score\",\n",
    "    color=\"navy\",\n",
    "    lw=lw)\n",
    "plt.fill_between(\n",
    "    param_range,\n",
    "    test_scores_mean - test_scores_std,\n",
    "    test_scores_mean + test_scores_std,\n",
    "    alpha=0.2,\n",
    "    color=\"navy\",\n",
    "    lw=lw)\n",
    "plt.legend(loc=\"best\")\n",
    "plt.show()"
   ]
  },
  {
   "cell_type": "markdown",
   "metadata": {},
   "source": [
    "One can observe, that the curve of the training score and cross-validation score converge for increasing <code>alpha</code> values. A high training score but a low cross-validation score is called overfitting. A low training score and cross-validation score indicates underfitting (in this case larger values for <code>alpha</code>). Normally, one tries to find a model which generalizes well for unknown data.<br>\n",
    "The default parameter value $10^{-4}$ is already near the optimum."
   ]
  },
  {
   "cell_type": "markdown",
   "metadata": {},
   "source": [
    "Another aspect to evaluate a model is to cross-validate over various training sizes. This allows an assesment of the size of the training corpus, whether more training data would lead to better results."
   ]
  },
  {
   "cell_type": "code",
   "execution_count": 15,
   "metadata": {
    "ExecuteTime": {
     "end_time": "2019-01-28T17:24:11.358359Z",
     "start_time": "2019-01-28T17:17:42.983751Z"
    }
   },
   "outputs": [],
   "source": [
    "from sklearn.model_selection import learning_curve\n",
    "\n",
    "train_sizes = np.linspace(.1, 1.0, 5)\n",
    "train_sizes, train_scores, test_scores = learning_curve(\n",
    "    estimator,\n",
    "    X_train,\n",
    "    y_train,\n",
    "    cv=k,\n",
    "    n_jobs=jobs,\n",
    "    train_sizes=train_sizes,\n",
    "    scoring=scoring)"
   ]
  },
  {
   "cell_type": "markdown",
   "metadata": {},
   "source": [
    "Plotting the learning curve:"
   ]
  },
  {
   "cell_type": "code",
   "execution_count": 16,
   "metadata": {
    "ExecuteTime": {
     "end_time": "2019-01-28T17:24:11.386941Z",
     "start_time": "2019-01-28T17:24:11.360126Z"
    }
   },
   "outputs": [
    {
     "data": {
      "application/javascript": [
       "/* Put everything inside the global mpl namespace */\n",
       "window.mpl = {};\n",
       "\n",
       "\n",
       "mpl.get_websocket_type = function() {\n",
       "    if (typeof(WebSocket) !== 'undefined') {\n",
       "        return WebSocket;\n",
       "    } else if (typeof(MozWebSocket) !== 'undefined') {\n",
       "        return MozWebSocket;\n",
       "    } else {\n",
       "        alert('Your browser does not have WebSocket support.' +\n",
       "              'Please try Chrome, Safari or Firefox ≥ 6. ' +\n",
       "              'Firefox 4 and 5 are also supported but you ' +\n",
       "              'have to enable WebSockets in about:config.');\n",
       "    };\n",
       "}\n",
       "\n",
       "mpl.figure = function(figure_id, websocket, ondownload, parent_element) {\n",
       "    this.id = figure_id;\n",
       "\n",
       "    this.ws = websocket;\n",
       "\n",
       "    this.supports_binary = (this.ws.binaryType != undefined);\n",
       "\n",
       "    if (!this.supports_binary) {\n",
       "        var warnings = document.getElementById(\"mpl-warnings\");\n",
       "        if (warnings) {\n",
       "            warnings.style.display = 'block';\n",
       "            warnings.textContent = (\n",
       "                \"This browser does not support binary websocket messages. \" +\n",
       "                    \"Performance may be slow.\");\n",
       "        }\n",
       "    }\n",
       "\n",
       "    this.imageObj = new Image();\n",
       "\n",
       "    this.context = undefined;\n",
       "    this.message = undefined;\n",
       "    this.canvas = undefined;\n",
       "    this.rubberband_canvas = undefined;\n",
       "    this.rubberband_context = undefined;\n",
       "    this.format_dropdown = undefined;\n",
       "\n",
       "    this.image_mode = 'full';\n",
       "\n",
       "    this.root = $('<div/>');\n",
       "    this._root_extra_style(this.root)\n",
       "    this.root.attr('style', 'display: inline-block');\n",
       "\n",
       "    $(parent_element).append(this.root);\n",
       "\n",
       "    this._init_header(this);\n",
       "    this._init_canvas(this);\n",
       "    this._init_toolbar(this);\n",
       "\n",
       "    var fig = this;\n",
       "\n",
       "    this.waiting = false;\n",
       "\n",
       "    this.ws.onopen =  function () {\n",
       "            fig.send_message(\"supports_binary\", {value: fig.supports_binary});\n",
       "            fig.send_message(\"send_image_mode\", {});\n",
       "            if (mpl.ratio != 1) {\n",
       "                fig.send_message(\"set_dpi_ratio\", {'dpi_ratio': mpl.ratio});\n",
       "            }\n",
       "            fig.send_message(\"refresh\", {});\n",
       "        }\n",
       "\n",
       "    this.imageObj.onload = function() {\n",
       "            if (fig.image_mode == 'full') {\n",
       "                // Full images could contain transparency (where diff images\n",
       "                // almost always do), so we need to clear the canvas so that\n",
       "                // there is no ghosting.\n",
       "                fig.context.clearRect(0, 0, fig.canvas.width, fig.canvas.height);\n",
       "            }\n",
       "            fig.context.drawImage(fig.imageObj, 0, 0);\n",
       "        };\n",
       "\n",
       "    this.imageObj.onunload = function() {\n",
       "        fig.ws.close();\n",
       "    }\n",
       "\n",
       "    this.ws.onmessage = this._make_on_message_function(this);\n",
       "\n",
       "    this.ondownload = ondownload;\n",
       "}\n",
       "\n",
       "mpl.figure.prototype._init_header = function() {\n",
       "    var titlebar = $(\n",
       "        '<div class=\"ui-dialog-titlebar ui-widget-header ui-corner-all ' +\n",
       "        'ui-helper-clearfix\"/>');\n",
       "    var titletext = $(\n",
       "        '<div class=\"ui-dialog-title\" style=\"width: 100%; ' +\n",
       "        'text-align: center; padding: 3px;\"/>');\n",
       "    titlebar.append(titletext)\n",
       "    this.root.append(titlebar);\n",
       "    this.header = titletext[0];\n",
       "}\n",
       "\n",
       "\n",
       "\n",
       "mpl.figure.prototype._canvas_extra_style = function(canvas_div) {\n",
       "\n",
       "}\n",
       "\n",
       "\n",
       "mpl.figure.prototype._root_extra_style = function(canvas_div) {\n",
       "\n",
       "}\n",
       "\n",
       "mpl.figure.prototype._init_canvas = function() {\n",
       "    var fig = this;\n",
       "\n",
       "    var canvas_div = $('<div/>');\n",
       "\n",
       "    canvas_div.attr('style', 'position: relative; clear: both; outline: 0');\n",
       "\n",
       "    function canvas_keyboard_event(event) {\n",
       "        return fig.key_event(event, event['data']);\n",
       "    }\n",
       "\n",
       "    canvas_div.keydown('key_press', canvas_keyboard_event);\n",
       "    canvas_div.keyup('key_release', canvas_keyboard_event);\n",
       "    this.canvas_div = canvas_div\n",
       "    this._canvas_extra_style(canvas_div)\n",
       "    this.root.append(canvas_div);\n",
       "\n",
       "    var canvas = $('<canvas/>');\n",
       "    canvas.addClass('mpl-canvas');\n",
       "    canvas.attr('style', \"left: 0; top: 0; z-index: 0; outline: 0\")\n",
       "\n",
       "    this.canvas = canvas[0];\n",
       "    this.context = canvas[0].getContext(\"2d\");\n",
       "\n",
       "    var backingStore = this.context.backingStorePixelRatio ||\n",
       "\tthis.context.webkitBackingStorePixelRatio ||\n",
       "\tthis.context.mozBackingStorePixelRatio ||\n",
       "\tthis.context.msBackingStorePixelRatio ||\n",
       "\tthis.context.oBackingStorePixelRatio ||\n",
       "\tthis.context.backingStorePixelRatio || 1;\n",
       "\n",
       "    mpl.ratio = (window.devicePixelRatio || 1) / backingStore;\n",
       "\n",
       "    var rubberband = $('<canvas/>');\n",
       "    rubberband.attr('style', \"position: absolute; left: 0; top: 0; z-index: 1;\")\n",
       "\n",
       "    var pass_mouse_events = true;\n",
       "\n",
       "    canvas_div.resizable({\n",
       "        start: function(event, ui) {\n",
       "            pass_mouse_events = false;\n",
       "        },\n",
       "        resize: function(event, ui) {\n",
       "            fig.request_resize(ui.size.width, ui.size.height);\n",
       "        },\n",
       "        stop: function(event, ui) {\n",
       "            pass_mouse_events = true;\n",
       "            fig.request_resize(ui.size.width, ui.size.height);\n",
       "        },\n",
       "    });\n",
       "\n",
       "    function mouse_event_fn(event) {\n",
       "        if (pass_mouse_events)\n",
       "            return fig.mouse_event(event, event['data']);\n",
       "    }\n",
       "\n",
       "    rubberband.mousedown('button_press', mouse_event_fn);\n",
       "    rubberband.mouseup('button_release', mouse_event_fn);\n",
       "    // Throttle sequential mouse events to 1 every 20ms.\n",
       "    rubberband.mousemove('motion_notify', mouse_event_fn);\n",
       "\n",
       "    rubberband.mouseenter('figure_enter', mouse_event_fn);\n",
       "    rubberband.mouseleave('figure_leave', mouse_event_fn);\n",
       "\n",
       "    canvas_div.on(\"wheel\", function (event) {\n",
       "        event = event.originalEvent;\n",
       "        event['data'] = 'scroll'\n",
       "        if (event.deltaY < 0) {\n",
       "            event.step = 1;\n",
       "        } else {\n",
       "            event.step = -1;\n",
       "        }\n",
       "        mouse_event_fn(event);\n",
       "    });\n",
       "\n",
       "    canvas_div.append(canvas);\n",
       "    canvas_div.append(rubberband);\n",
       "\n",
       "    this.rubberband = rubberband;\n",
       "    this.rubberband_canvas = rubberband[0];\n",
       "    this.rubberband_context = rubberband[0].getContext(\"2d\");\n",
       "    this.rubberband_context.strokeStyle = \"#000000\";\n",
       "\n",
       "    this._resize_canvas = function(width, height) {\n",
       "        // Keep the size of the canvas, canvas container, and rubber band\n",
       "        // canvas in synch.\n",
       "        canvas_div.css('width', width)\n",
       "        canvas_div.css('height', height)\n",
       "\n",
       "        canvas.attr('width', width * mpl.ratio);\n",
       "        canvas.attr('height', height * mpl.ratio);\n",
       "        canvas.attr('style', 'width: ' + width + 'px; height: ' + height + 'px;');\n",
       "\n",
       "        rubberband.attr('width', width);\n",
       "        rubberband.attr('height', height);\n",
       "    }\n",
       "\n",
       "    // Set the figure to an initial 600x600px, this will subsequently be updated\n",
       "    // upon first draw.\n",
       "    this._resize_canvas(600, 600);\n",
       "\n",
       "    // Disable right mouse context menu.\n",
       "    $(this.rubberband_canvas).bind(\"contextmenu\",function(e){\n",
       "        return false;\n",
       "    });\n",
       "\n",
       "    function set_focus () {\n",
       "        canvas.focus();\n",
       "        canvas_div.focus();\n",
       "    }\n",
       "\n",
       "    window.setTimeout(set_focus, 100);\n",
       "}\n",
       "\n",
       "mpl.figure.prototype._init_toolbar = function() {\n",
       "    var fig = this;\n",
       "\n",
       "    var nav_element = $('<div/>')\n",
       "    nav_element.attr('style', 'width: 100%');\n",
       "    this.root.append(nav_element);\n",
       "\n",
       "    // Define a callback function for later on.\n",
       "    function toolbar_event(event) {\n",
       "        return fig.toolbar_button_onclick(event['data']);\n",
       "    }\n",
       "    function toolbar_mouse_event(event) {\n",
       "        return fig.toolbar_button_onmouseover(event['data']);\n",
       "    }\n",
       "\n",
       "    for(var toolbar_ind in mpl.toolbar_items) {\n",
       "        var name = mpl.toolbar_items[toolbar_ind][0];\n",
       "        var tooltip = mpl.toolbar_items[toolbar_ind][1];\n",
       "        var image = mpl.toolbar_items[toolbar_ind][2];\n",
       "        var method_name = mpl.toolbar_items[toolbar_ind][3];\n",
       "\n",
       "        if (!name) {\n",
       "            // put a spacer in here.\n",
       "            continue;\n",
       "        }\n",
       "        var button = $('<button/>');\n",
       "        button.addClass('ui-button ui-widget ui-state-default ui-corner-all ' +\n",
       "                        'ui-button-icon-only');\n",
       "        button.attr('role', 'button');\n",
       "        button.attr('aria-disabled', 'false');\n",
       "        button.click(method_name, toolbar_event);\n",
       "        button.mouseover(tooltip, toolbar_mouse_event);\n",
       "\n",
       "        var icon_img = $('<span/>');\n",
       "        icon_img.addClass('ui-button-icon-primary ui-icon');\n",
       "        icon_img.addClass(image);\n",
       "        icon_img.addClass('ui-corner-all');\n",
       "\n",
       "        var tooltip_span = $('<span/>');\n",
       "        tooltip_span.addClass('ui-button-text');\n",
       "        tooltip_span.html(tooltip);\n",
       "\n",
       "        button.append(icon_img);\n",
       "        button.append(tooltip_span);\n",
       "\n",
       "        nav_element.append(button);\n",
       "    }\n",
       "\n",
       "    var fmt_picker_span = $('<span/>');\n",
       "\n",
       "    var fmt_picker = $('<select/>');\n",
       "    fmt_picker.addClass('mpl-toolbar-option ui-widget ui-widget-content');\n",
       "    fmt_picker_span.append(fmt_picker);\n",
       "    nav_element.append(fmt_picker_span);\n",
       "    this.format_dropdown = fmt_picker[0];\n",
       "\n",
       "    for (var ind in mpl.extensions) {\n",
       "        var fmt = mpl.extensions[ind];\n",
       "        var option = $(\n",
       "            '<option/>', {selected: fmt === mpl.default_extension}).html(fmt);\n",
       "        fmt_picker.append(option)\n",
       "    }\n",
       "\n",
       "    // Add hover states to the ui-buttons\n",
       "    $( \".ui-button\" ).hover(\n",
       "        function() { $(this).addClass(\"ui-state-hover\");},\n",
       "        function() { $(this).removeClass(\"ui-state-hover\");}\n",
       "    );\n",
       "\n",
       "    var status_bar = $('<span class=\"mpl-message\"/>');\n",
       "    nav_element.append(status_bar);\n",
       "    this.message = status_bar[0];\n",
       "}\n",
       "\n",
       "mpl.figure.prototype.request_resize = function(x_pixels, y_pixels) {\n",
       "    // Request matplotlib to resize the figure. Matplotlib will then trigger a resize in the client,\n",
       "    // which will in turn request a refresh of the image.\n",
       "    this.send_message('resize', {'width': x_pixels, 'height': y_pixels});\n",
       "}\n",
       "\n",
       "mpl.figure.prototype.send_message = function(type, properties) {\n",
       "    properties['type'] = type;\n",
       "    properties['figure_id'] = this.id;\n",
       "    this.ws.send(JSON.stringify(properties));\n",
       "}\n",
       "\n",
       "mpl.figure.prototype.send_draw_message = function() {\n",
       "    if (!this.waiting) {\n",
       "        this.waiting = true;\n",
       "        this.ws.send(JSON.stringify({type: \"draw\", figure_id: this.id}));\n",
       "    }\n",
       "}\n",
       "\n",
       "\n",
       "mpl.figure.prototype.handle_save = function(fig, msg) {\n",
       "    var format_dropdown = fig.format_dropdown;\n",
       "    var format = format_dropdown.options[format_dropdown.selectedIndex].value;\n",
       "    fig.ondownload(fig, format);\n",
       "}\n",
       "\n",
       "\n",
       "mpl.figure.prototype.handle_resize = function(fig, msg) {\n",
       "    var size = msg['size'];\n",
       "    if (size[0] != fig.canvas.width || size[1] != fig.canvas.height) {\n",
       "        fig._resize_canvas(size[0], size[1]);\n",
       "        fig.send_message(\"refresh\", {});\n",
       "    };\n",
       "}\n",
       "\n",
       "mpl.figure.prototype.handle_rubberband = function(fig, msg) {\n",
       "    var x0 = msg['x0'] / mpl.ratio;\n",
       "    var y0 = (fig.canvas.height - msg['y0']) / mpl.ratio;\n",
       "    var x1 = msg['x1'] / mpl.ratio;\n",
       "    var y1 = (fig.canvas.height - msg['y1']) / mpl.ratio;\n",
       "    x0 = Math.floor(x0) + 0.5;\n",
       "    y0 = Math.floor(y0) + 0.5;\n",
       "    x1 = Math.floor(x1) + 0.5;\n",
       "    y1 = Math.floor(y1) + 0.5;\n",
       "    var min_x = Math.min(x0, x1);\n",
       "    var min_y = Math.min(y0, y1);\n",
       "    var width = Math.abs(x1 - x0);\n",
       "    var height = Math.abs(y1 - y0);\n",
       "\n",
       "    fig.rubberband_context.clearRect(\n",
       "        0, 0, fig.canvas.width, fig.canvas.height);\n",
       "\n",
       "    fig.rubberband_context.strokeRect(min_x, min_y, width, height);\n",
       "}\n",
       "\n",
       "mpl.figure.prototype.handle_figure_label = function(fig, msg) {\n",
       "    // Updates the figure title.\n",
       "    fig.header.textContent = msg['label'];\n",
       "}\n",
       "\n",
       "mpl.figure.prototype.handle_cursor = function(fig, msg) {\n",
       "    var cursor = msg['cursor'];\n",
       "    switch(cursor)\n",
       "    {\n",
       "    case 0:\n",
       "        cursor = 'pointer';\n",
       "        break;\n",
       "    case 1:\n",
       "        cursor = 'default';\n",
       "        break;\n",
       "    case 2:\n",
       "        cursor = 'crosshair';\n",
       "        break;\n",
       "    case 3:\n",
       "        cursor = 'move';\n",
       "        break;\n",
       "    }\n",
       "    fig.rubberband_canvas.style.cursor = cursor;\n",
       "}\n",
       "\n",
       "mpl.figure.prototype.handle_message = function(fig, msg) {\n",
       "    fig.message.textContent = msg['message'];\n",
       "}\n",
       "\n",
       "mpl.figure.prototype.handle_draw = function(fig, msg) {\n",
       "    // Request the server to send over a new figure.\n",
       "    fig.send_draw_message();\n",
       "}\n",
       "\n",
       "mpl.figure.prototype.handle_image_mode = function(fig, msg) {\n",
       "    fig.image_mode = msg['mode'];\n",
       "}\n",
       "\n",
       "mpl.figure.prototype.updated_canvas_event = function() {\n",
       "    // Called whenever the canvas gets updated.\n",
       "    this.send_message(\"ack\", {});\n",
       "}\n",
       "\n",
       "// A function to construct a web socket function for onmessage handling.\n",
       "// Called in the figure constructor.\n",
       "mpl.figure.prototype._make_on_message_function = function(fig) {\n",
       "    return function socket_on_message(evt) {\n",
       "        if (evt.data instanceof Blob) {\n",
       "            /* FIXME: We get \"Resource interpreted as Image but\n",
       "             * transferred with MIME type text/plain:\" errors on\n",
       "             * Chrome.  But how to set the MIME type?  It doesn't seem\n",
       "             * to be part of the websocket stream */\n",
       "            evt.data.type = \"image/png\";\n",
       "\n",
       "            /* Free the memory for the previous frames */\n",
       "            if (fig.imageObj.src) {\n",
       "                (window.URL || window.webkitURL).revokeObjectURL(\n",
       "                    fig.imageObj.src);\n",
       "            }\n",
       "\n",
       "            fig.imageObj.src = (window.URL || window.webkitURL).createObjectURL(\n",
       "                evt.data);\n",
       "            fig.updated_canvas_event();\n",
       "            fig.waiting = false;\n",
       "            return;\n",
       "        }\n",
       "        else if (typeof evt.data === 'string' && evt.data.slice(0, 21) == \"data:image/png;base64\") {\n",
       "            fig.imageObj.src = evt.data;\n",
       "            fig.updated_canvas_event();\n",
       "            fig.waiting = false;\n",
       "            return;\n",
       "        }\n",
       "\n",
       "        var msg = JSON.parse(evt.data);\n",
       "        var msg_type = msg['type'];\n",
       "\n",
       "        // Call the  \"handle_{type}\" callback, which takes\n",
       "        // the figure and JSON message as its only arguments.\n",
       "        try {\n",
       "            var callback = fig[\"handle_\" + msg_type];\n",
       "        } catch (e) {\n",
       "            console.log(\"No handler for the '\" + msg_type + \"' message type: \", msg);\n",
       "            return;\n",
       "        }\n",
       "\n",
       "        if (callback) {\n",
       "            try {\n",
       "                // console.log(\"Handling '\" + msg_type + \"' message: \", msg);\n",
       "                callback(fig, msg);\n",
       "            } catch (e) {\n",
       "                console.log(\"Exception inside the 'handler_\" + msg_type + \"' callback:\", e, e.stack, msg);\n",
       "            }\n",
       "        }\n",
       "    };\n",
       "}\n",
       "\n",
       "// from http://stackoverflow.com/questions/1114465/getting-mouse-location-in-canvas\n",
       "mpl.findpos = function(e) {\n",
       "    //this section is from http://www.quirksmode.org/js/events_properties.html\n",
       "    var targ;\n",
       "    if (!e)\n",
       "        e = window.event;\n",
       "    if (e.target)\n",
       "        targ = e.target;\n",
       "    else if (e.srcElement)\n",
       "        targ = e.srcElement;\n",
       "    if (targ.nodeType == 3) // defeat Safari bug\n",
       "        targ = targ.parentNode;\n",
       "\n",
       "    // jQuery normalizes the pageX and pageY\n",
       "    // pageX,Y are the mouse positions relative to the document\n",
       "    // offset() returns the position of the element relative to the document\n",
       "    var x = e.pageX - $(targ).offset().left;\n",
       "    var y = e.pageY - $(targ).offset().top;\n",
       "\n",
       "    return {\"x\": x, \"y\": y};\n",
       "};\n",
       "\n",
       "/*\n",
       " * return a copy of an object with only non-object keys\n",
       " * we need this to avoid circular references\n",
       " * http://stackoverflow.com/a/24161582/3208463\n",
       " */\n",
       "function simpleKeys (original) {\n",
       "  return Object.keys(original).reduce(function (obj, key) {\n",
       "    if (typeof original[key] !== 'object')\n",
       "        obj[key] = original[key]\n",
       "    return obj;\n",
       "  }, {});\n",
       "}\n",
       "\n",
       "mpl.figure.prototype.mouse_event = function(event, name) {\n",
       "    var canvas_pos = mpl.findpos(event)\n",
       "\n",
       "    if (name === 'button_press')\n",
       "    {\n",
       "        this.canvas.focus();\n",
       "        this.canvas_div.focus();\n",
       "    }\n",
       "\n",
       "    var x = canvas_pos.x * mpl.ratio;\n",
       "    var y = canvas_pos.y * mpl.ratio;\n",
       "\n",
       "    this.send_message(name, {x: x, y: y, button: event.button,\n",
       "                             step: event.step,\n",
       "                             guiEvent: simpleKeys(event)});\n",
       "\n",
       "    /* This prevents the web browser from automatically changing to\n",
       "     * the text insertion cursor when the button is pressed.  We want\n",
       "     * to control all of the cursor setting manually through the\n",
       "     * 'cursor' event from matplotlib */\n",
       "    event.preventDefault();\n",
       "    return false;\n",
       "}\n",
       "\n",
       "mpl.figure.prototype._key_event_extra = function(event, name) {\n",
       "    // Handle any extra behaviour associated with a key event\n",
       "}\n",
       "\n",
       "mpl.figure.prototype.key_event = function(event, name) {\n",
       "\n",
       "    // Prevent repeat events\n",
       "    if (name == 'key_press')\n",
       "    {\n",
       "        if (event.which === this._key)\n",
       "            return;\n",
       "        else\n",
       "            this._key = event.which;\n",
       "    }\n",
       "    if (name == 'key_release')\n",
       "        this._key = null;\n",
       "\n",
       "    var value = '';\n",
       "    if (event.ctrlKey && event.which != 17)\n",
       "        value += \"ctrl+\";\n",
       "    if (event.altKey && event.which != 18)\n",
       "        value += \"alt+\";\n",
       "    if (event.shiftKey && event.which != 16)\n",
       "        value += \"shift+\";\n",
       "\n",
       "    value += 'k';\n",
       "    value += event.which.toString();\n",
       "\n",
       "    this._key_event_extra(event, name);\n",
       "\n",
       "    this.send_message(name, {key: value,\n",
       "                             guiEvent: simpleKeys(event)});\n",
       "    return false;\n",
       "}\n",
       "\n",
       "mpl.figure.prototype.toolbar_button_onclick = function(name) {\n",
       "    if (name == 'download') {\n",
       "        this.handle_save(this, null);\n",
       "    } else {\n",
       "        this.send_message(\"toolbar_button\", {name: name});\n",
       "    }\n",
       "};\n",
       "\n",
       "mpl.figure.prototype.toolbar_button_onmouseover = function(tooltip) {\n",
       "    this.message.textContent = tooltip;\n",
       "};\n",
       "mpl.toolbar_items = [[\"Home\", \"Reset original view\", \"fa fa-home icon-home\", \"home\"], [\"Back\", \"Back to previous view\", \"fa fa-arrow-left icon-arrow-left\", \"back\"], [\"Forward\", \"Forward to next view\", \"fa fa-arrow-right icon-arrow-right\", \"forward\"], [\"\", \"\", \"\", \"\"], [\"Pan\", \"Pan axes with left mouse, zoom with right\", \"fa fa-arrows icon-move\", \"pan\"], [\"Zoom\", \"Zoom to rectangle\", \"fa fa-square-o icon-check-empty\", \"zoom\"], [\"\", \"\", \"\", \"\"], [\"Download\", \"Download plot\", \"fa fa-floppy-o icon-save\", \"download\"]];\n",
       "\n",
       "mpl.extensions = [\"eps\", \"jpeg\", \"pdf\", \"png\", \"ps\", \"raw\", \"svg\", \"tif\"];\n",
       "\n",
       "mpl.default_extension = \"png\";var comm_websocket_adapter = function(comm) {\n",
       "    // Create a \"websocket\"-like object which calls the given IPython comm\n",
       "    // object with the appropriate methods. Currently this is a non binary\n",
       "    // socket, so there is still some room for performance tuning.\n",
       "    var ws = {};\n",
       "\n",
       "    ws.close = function() {\n",
       "        comm.close()\n",
       "    };\n",
       "    ws.send = function(m) {\n",
       "        //console.log('sending', m);\n",
       "        comm.send(m);\n",
       "    };\n",
       "    // Register the callback with on_msg.\n",
       "    comm.on_msg(function(msg) {\n",
       "        //console.log('receiving', msg['content']['data'], msg);\n",
       "        // Pass the mpl event to the overridden (by mpl) onmessage function.\n",
       "        ws.onmessage(msg['content']['data'])\n",
       "    });\n",
       "    return ws;\n",
       "}\n",
       "\n",
       "mpl.mpl_figure_comm = function(comm, msg) {\n",
       "    // This is the function which gets called when the mpl process\n",
       "    // starts-up an IPython Comm through the \"matplotlib\" channel.\n",
       "\n",
       "    var id = msg.content.data.id;\n",
       "    // Get hold of the div created by the display call when the Comm\n",
       "    // socket was opened in Python.\n",
       "    var element = $(\"#\" + id);\n",
       "    var ws_proxy = comm_websocket_adapter(comm)\n",
       "\n",
       "    function ondownload(figure, format) {\n",
       "        window.open(figure.imageObj.src);\n",
       "    }\n",
       "\n",
       "    var fig = new mpl.figure(id, ws_proxy,\n",
       "                           ondownload,\n",
       "                           element.get(0));\n",
       "\n",
       "    // Call onopen now - mpl needs it, as it is assuming we've passed it a real\n",
       "    // web socket which is closed, not our websocket->open comm proxy.\n",
       "    ws_proxy.onopen();\n",
       "\n",
       "    fig.parent_element = element.get(0);\n",
       "    fig.cell_info = mpl.find_output_cell(\"<div id='\" + id + \"'></div>\");\n",
       "    if (!fig.cell_info) {\n",
       "        console.error(\"Failed to find cell for figure\", id, fig);\n",
       "        return;\n",
       "    }\n",
       "\n",
       "    var output_index = fig.cell_info[2]\n",
       "    var cell = fig.cell_info[0];\n",
       "\n",
       "};\n",
       "\n",
       "mpl.figure.prototype.handle_close = function(fig, msg) {\n",
       "    var width = fig.canvas.width/mpl.ratio\n",
       "    fig.root.unbind('remove')\n",
       "\n",
       "    // Update the output cell to use the data from the current canvas.\n",
       "    fig.push_to_output();\n",
       "    var dataURL = fig.canvas.toDataURL();\n",
       "    // Re-enable the keyboard manager in IPython - without this line, in FF,\n",
       "    // the notebook keyboard shortcuts fail.\n",
       "    IPython.keyboard_manager.enable()\n",
       "    $(fig.parent_element).html('<img src=\"' + dataURL + '\" width=\"' + width + '\">');\n",
       "    fig.close_ws(fig, msg);\n",
       "}\n",
       "\n",
       "mpl.figure.prototype.close_ws = function(fig, msg){\n",
       "    fig.send_message('closing', msg);\n",
       "    // fig.ws.close()\n",
       "}\n",
       "\n",
       "mpl.figure.prototype.push_to_output = function(remove_interactive) {\n",
       "    // Turn the data on the canvas into data in the output cell.\n",
       "    var width = this.canvas.width/mpl.ratio\n",
       "    var dataURL = this.canvas.toDataURL();\n",
       "    this.cell_info[1]['text/html'] = '<img src=\"' + dataURL + '\" width=\"' + width + '\">';\n",
       "}\n",
       "\n",
       "mpl.figure.prototype.updated_canvas_event = function() {\n",
       "    // Tell IPython that the notebook contents must change.\n",
       "    IPython.notebook.set_dirty(true);\n",
       "    this.send_message(\"ack\", {});\n",
       "    var fig = this;\n",
       "    // Wait a second, then push the new image to the DOM so\n",
       "    // that it is saved nicely (might be nice to debounce this).\n",
       "    setTimeout(function () { fig.push_to_output() }, 1000);\n",
       "}\n",
       "\n",
       "mpl.figure.prototype._init_toolbar = function() {\n",
       "    var fig = this;\n",
       "\n",
       "    var nav_element = $('<div/>')\n",
       "    nav_element.attr('style', 'width: 100%');\n",
       "    this.root.append(nav_element);\n",
       "\n",
       "    // Define a callback function for later on.\n",
       "    function toolbar_event(event) {\n",
       "        return fig.toolbar_button_onclick(event['data']);\n",
       "    }\n",
       "    function toolbar_mouse_event(event) {\n",
       "        return fig.toolbar_button_onmouseover(event['data']);\n",
       "    }\n",
       "\n",
       "    for(var toolbar_ind in mpl.toolbar_items){\n",
       "        var name = mpl.toolbar_items[toolbar_ind][0];\n",
       "        var tooltip = mpl.toolbar_items[toolbar_ind][1];\n",
       "        var image = mpl.toolbar_items[toolbar_ind][2];\n",
       "        var method_name = mpl.toolbar_items[toolbar_ind][3];\n",
       "\n",
       "        if (!name) { continue; };\n",
       "\n",
       "        var button = $('<button class=\"btn btn-default\" href=\"#\" title=\"' + name + '\"><i class=\"fa ' + image + ' fa-lg\"></i></button>');\n",
       "        button.click(method_name, toolbar_event);\n",
       "        button.mouseover(tooltip, toolbar_mouse_event);\n",
       "        nav_element.append(button);\n",
       "    }\n",
       "\n",
       "    // Add the status bar.\n",
       "    var status_bar = $('<span class=\"mpl-message\" style=\"text-align:right; float: right;\"/>');\n",
       "    nav_element.append(status_bar);\n",
       "    this.message = status_bar[0];\n",
       "\n",
       "    // Add the close button to the window.\n",
       "    var buttongrp = $('<div class=\"btn-group inline pull-right\"></div>');\n",
       "    var button = $('<button class=\"btn btn-mini btn-primary\" href=\"#\" title=\"Stop Interaction\"><i class=\"fa fa-power-off icon-remove icon-large\"></i></button>');\n",
       "    button.click(function (evt) { fig.handle_close(fig, {}); } );\n",
       "    button.mouseover('Stop Interaction', toolbar_mouse_event);\n",
       "    buttongrp.append(button);\n",
       "    var titlebar = this.root.find($('.ui-dialog-titlebar'));\n",
       "    titlebar.prepend(buttongrp);\n",
       "}\n",
       "\n",
       "mpl.figure.prototype._root_extra_style = function(el){\n",
       "    var fig = this\n",
       "    el.on(\"remove\", function(){\n",
       "\tfig.close_ws(fig, {});\n",
       "    });\n",
       "}\n",
       "\n",
       "mpl.figure.prototype._canvas_extra_style = function(el){\n",
       "    // this is important to make the div 'focusable\n",
       "    el.attr('tabindex', 0)\n",
       "    // reach out to IPython and tell the keyboard manager to turn it's self\n",
       "    // off when our div gets focus\n",
       "\n",
       "    // location in version 3\n",
       "    if (IPython.notebook.keyboard_manager) {\n",
       "        IPython.notebook.keyboard_manager.register_events(el);\n",
       "    }\n",
       "    else {\n",
       "        // location in version 2\n",
       "        IPython.keyboard_manager.register_events(el);\n",
       "    }\n",
       "\n",
       "}\n",
       "\n",
       "mpl.figure.prototype._key_event_extra = function(event, name) {\n",
       "    var manager = IPython.notebook.keyboard_manager;\n",
       "    if (!manager)\n",
       "        manager = IPython.keyboard_manager;\n",
       "\n",
       "    // Check for shift+enter\n",
       "    if (event.shiftKey && event.which == 13) {\n",
       "        this.canvas_div.blur();\n",
       "        event.shiftKey = false;\n",
       "        // Send a \"J\" for go to next cell\n",
       "        event.which = 74;\n",
       "        event.keyCode = 74;\n",
       "        manager.command_mode();\n",
       "        manager.handle_keydown(event);\n",
       "    }\n",
       "}\n",
       "\n",
       "mpl.figure.prototype.handle_save = function(fig, msg) {\n",
       "    fig.ondownload(fig, null);\n",
       "}\n",
       "\n",
       "\n",
       "mpl.find_output_cell = function(html_output) {\n",
       "    // Return the cell and output element which can be found *uniquely* in the notebook.\n",
       "    // Note - this is a bit hacky, but it is done because the \"notebook_saving.Notebook\"\n",
       "    // IPython event is triggered only after the cells have been serialised, which for\n",
       "    // our purposes (turning an active figure into a static one), is too late.\n",
       "    var cells = IPython.notebook.get_cells();\n",
       "    var ncells = cells.length;\n",
       "    for (var i=0; i<ncells; i++) {\n",
       "        var cell = cells[i];\n",
       "        if (cell.cell_type === 'code'){\n",
       "            for (var j=0; j<cell.output_area.outputs.length; j++) {\n",
       "                var data = cell.output_area.outputs[j];\n",
       "                if (data.data) {\n",
       "                    // IPython >= 3 moved mimebundle to data attribute of output\n",
       "                    data = data.data;\n",
       "                }\n",
       "                if (data['text/html'] == html_output) {\n",
       "                    return [cell, data, j];\n",
       "                }\n",
       "            }\n",
       "        }\n",
       "    }\n",
       "}\n",
       "\n",
       "// Register the function which deals with the matplotlib target/channel.\n",
       "// The kernel may be null if the page has been refreshed.\n",
       "if (IPython.notebook.kernel != null) {\n",
       "    IPython.notebook.kernel.comm_manager.register_target('matplotlib', mpl.mpl_figure_comm);\n",
       "}\n"
      ],
      "text/plain": [
       "<IPython.core.display.Javascript object>"
      ]
     },
     "metadata": {},
     "output_type": "display_data"
    },
    {
     "data": {
      "text/html": [
       "<div id='2c1d9f25-b18b-4638-843b-33f7a9e94ed4'></div>"
      ],
      "text/plain": [
       "<IPython.core.display.HTML object>"
      ]
     },
     "metadata": {},
     "output_type": "display_data"
    }
   ],
   "source": [
    "train_scores_mean = np.mean(train_scores, axis=1)\n",
    "train_scores_std = np.std(train_scores, axis=1)\n",
    "test_scores_mean = np.mean(test_scores, axis=1)\n",
    "test_scores_std = np.std(test_scores, axis=1)\n",
    "\n",
    "plt.figure()\n",
    "plt.title('Learning Curve SVM')\n",
    "plt.xlabel(\"Training examples\")\n",
    "plt.ylabel(\"F1 Score\")\n",
    "plt.ylim(0.0, 1.1)\n",
    "plt.grid()\n",
    "plt.fill_between(\n",
    "    train_sizes,\n",
    "    train_scores_mean - train_scores_std,\n",
    "    train_scores_mean + train_scores_std,\n",
    "    alpha=0.1,\n",
    "    color=\"r\")\n",
    "plt.fill_between(\n",
    "    train_sizes,\n",
    "    test_scores_mean - test_scores_std,\n",
    "    test_scores_mean + test_scores_std,\n",
    "    alpha=0.1,\n",
    "    color=\"g\")\n",
    "plt.plot(\n",
    "    train_sizes,\n",
    "    train_scores_mean,\n",
    "    'o-',\n",
    "    color=\"darkorange\",\n",
    "    label=\"Training score\")\n",
    "plt.plot(\n",
    "    train_sizes,\n",
    "    test_scores_mean,\n",
    "    'o-',\n",
    "    color=\"navy\",\n",
    "    label=\"Cross-validation score\")\n",
    "plt.legend(loc=\"best\")\n",
    "plt.show()"
   ]
  },
  {
   "cell_type": "markdown",
   "metadata": {},
   "source": [
    "The cross-validation score (F1 Score) continuously increases with more training data and slowly converges with the training score. This indicates that more training data might improve the overall performance of the classifier."
   ]
  },
  {
   "cell_type": "markdown",
   "metadata": {},
   "source": [
    "A final cross-validation on the adjusted <code>alpha</code>:"
   ]
  },
  {
   "cell_type": "code",
   "execution_count": 17,
   "metadata": {
    "ExecuteTime": {
     "end_time": "2019-01-28T17:27:03.161434Z",
     "start_time": "2019-01-28T17:24:11.388130Z"
    }
   },
   "outputs": [
    {
     "name": "stdout",
     "output_type": "stream",
     "text": [
      "Mean accuracy Linear SVM (SGD): 0.812 (+/- 0.035)\n",
      "Mean F1 score Linear SVM (SGD): 0.878 (+/- 0.022)\n"
     ]
    }
   ],
   "source": [
    "estimator = OneVsRestClassifier(\n",
    "    SGDClassifier(\n",
    "        random_state=seed, max_iter=1000, loss='hinge', alpha=1.1 * (10**-4)))\n",
    "\n",
    "scoring = {'acc': 'accuracy', 'f1': make_scorer(f1_score, average='micro')}\n",
    "scores = cross_validate(\n",
    "    estimator, X_train, y_train, cv=k, n_jobs=jobs, scoring=scoring)\n",
    "print('Mean accuracy %s: %0.3f (+/- %0.3f)' %\n",
    "      ('Linear SVM (SGD)', scores['test_acc'].mean(),\n",
    "       scores['test_acc'].std() * 2))\n",
    "print('Mean F1 score %s: %0.3f (+/- %0.3f)' % (\n",
    "    'Linear SVM (SGD)', scores['test_f1'].mean(), scores['test_f1'].std() * 2))"
   ]
  },
  {
   "cell_type": "markdown",
   "metadata": {},
   "source": [
    "Now the SVM can be trained with the whole training set. <code>y_pred</code> are the predicted categories of the test set."
   ]
  },
  {
   "cell_type": "code",
   "execution_count": 18,
   "metadata": {
    "ExecuteTime": {
     "end_time": "2019-01-28T17:28:31.106804Z",
     "start_time": "2019-01-28T17:27:03.163206Z"
    }
   },
   "outputs": [],
   "source": [
    "estimator.fit(X_train, y_train)\n",
    "y_pred = estimator.predict(X_test)"
   ]
  },
  {
   "cell_type": "markdown",
   "metadata": {},
   "source": [
    "## 4. Evaluation"
   ]
  },
  {
   "cell_type": "markdown",
   "metadata": {},
   "source": [
    "The overall performance of the classifier is evaluated using a number of different metrics. Apart from the accuracy, the F1 score, precision, and recall are measured (both micro-averaged and macro-averaged)."
   ]
  },
  {
   "cell_type": "code",
   "execution_count": 19,
   "metadata": {
    "ExecuteTime": {
     "end_time": "2019-01-28T17:28:31.112745Z",
     "start_time": "2019-01-28T17:28:31.108363Z"
    }
   },
   "outputs": [],
   "source": [
    "from sklearn.metrics import accuracy_score, f1_score, precision_score, recall_score\n",
    "\n",
    "\n",
    "def print_scores(y_test, y_pred):\n",
    "    print('Accuracy: %0.3f' % accuracy_score(y_test, y_pred))\n",
    "    print()\n",
    "    print('F1 Score (micro-averaged): %0.3f' % f1_score(\n",
    "        y_test, y_pred, average='micro'))\n",
    "    print('Precision (micro-averaged): %0.3f' % precision_score(\n",
    "        y_test, y_pred, average='micro'))\n",
    "    print('Recall (micro-averaged): %0.3f' % recall_score(\n",
    "        y_test, y_pred, average='micro'))\n",
    "    print()\n",
    "    print('F1 Score (macro-averaged): %0.3f' % f1_score(\n",
    "        y_test, y_pred, average='macro'))\n",
    "    print('Precision (macro-averaged): %0.3f' % precision_score(\n",
    "        y_test, y_pred, average='macro'))\n",
    "    print('Recall (macro-averaged): %0.3f' % recall_score(\n",
    "        y_test, y_pred, average='macro'))"
   ]
  },
  {
   "cell_type": "code",
   "execution_count": 20,
   "metadata": {
    "ExecuteTime": {
     "end_time": "2019-01-28T17:28:31.189015Z",
     "start_time": "2019-01-28T17:28:31.114053Z"
    }
   },
   "outputs": [
    {
     "name": "stdout",
     "output_type": "stream",
     "text": [
      "Accuracy: 0.820\n",
      "\n",
      "F1 Score (micro-averaged): 0.872\n",
      "Precision (micro-averaged): 0.946\n",
      "Recall (micro-averaged): 0.809\n",
      "\n",
      "F1 Score (macro-averaged): 0.453\n",
      "Precision (macro-averaged): 0.598\n",
      "Recall (macro-averaged): 0.391\n"
     ]
    }
   ],
   "source": [
    "print_scores(y_test, y_pred)"
   ]
  },
  {
   "cell_type": "markdown",
   "metadata": {},
   "source": [
    "The accuracy and F1 score of the unseen test set are similar to the cross-validated scores, which means the model minimizes the generalization error and thus ovefitting was indeed avoided.<br>\n",
    "One can observe the significantly lower values of the macro-averaged scores. This can be further investigated with a classification report or confusion matrix."
   ]
  },
  {
   "cell_type": "code",
   "execution_count": 21,
   "metadata": {
    "ExecuteTime": {
     "end_time": "2019-01-28T17:28:31.211510Z",
     "start_time": "2019-01-28T17:28:31.190684Z"
    }
   },
   "outputs": [
    {
     "name": "stdout",
     "output_type": "stream",
     "text": [
      "                 precision    recall  f1-score   support\n",
      "\n",
      "            acq       0.98      0.95      0.97       719\n",
      "           alum       1.00      0.61      0.76        23\n",
      "         barley       1.00      0.64      0.78        14\n",
      "            bop       0.95      0.60      0.73        30\n",
      "        carcass       0.82      0.50      0.62        18\n",
      "     castor-oil       0.00      0.00      0.00         1\n",
      "          cocoa       1.00      0.94      0.97        18\n",
      "        coconut       1.00      0.50      0.67         2\n",
      "    coconut-oil       0.00      0.00      0.00         3\n",
      "         coffee       0.93      0.93      0.93        28\n",
      "         copper       1.00      0.89      0.94        18\n",
      "     copra-cake       0.00      0.00      0.00         1\n",
      "           corn       0.98      0.73      0.84        56\n",
      "         cotton       1.00      0.55      0.71        20\n",
      "     cotton-oil       0.00      0.00      0.00         2\n",
      "            cpi       1.00      0.46      0.63        28\n",
      "            cpu       0.00      0.00      0.00         1\n",
      "          crude       0.89      0.89      0.89       189\n",
      "            dfl       0.00      0.00      0.00         1\n",
      "            dlr       0.79      0.75      0.77        44\n",
      "            dmk       0.00      0.00      0.00         4\n",
      "           earn       0.99      0.98      0.98      1087\n",
      "           fuel       1.00      0.20      0.33        10\n",
      "            gas       1.00      0.41      0.58        17\n",
      "            gnp       0.97      0.86      0.91        35\n",
      "           gold       0.92      0.80      0.86        30\n",
      "          grain       0.98      0.84      0.90       149\n",
      "      groundnut       0.00      0.00      0.00         4\n",
      "  groundnut-oil       0.00      0.00      0.00         1\n",
      "           heat       1.00      0.60      0.75         5\n",
      "            hog       1.00      0.50      0.67         6\n",
      "        housing       1.00      0.50      0.67         4\n",
      "         income       0.00      0.00      0.00         7\n",
      "    instal-debt       0.00      0.00      0.00         1\n",
      "       interest       0.88      0.66      0.76       131\n",
      "            ipi       1.00      0.92      0.96        12\n",
      "     iron-steel       0.75      0.64      0.69        14\n",
      "            jet       0.00      0.00      0.00         1\n",
      "           jobs       1.00      0.52      0.69        21\n",
      "       l-cattle       0.00      0.00      0.00         2\n",
      "           lead       0.00      0.00      0.00        14\n",
      "            lei       1.00      1.00      1.00         3\n",
      "        lin-oil       0.00      0.00      0.00         1\n",
      "      livestock       0.83      0.62      0.71        24\n",
      "         lumber       1.00      0.17      0.29         6\n",
      "      meal-feed       1.00      0.11      0.19        19\n",
      "       money-fx       0.81      0.83      0.82       179\n",
      "   money-supply       0.93      0.74      0.82        34\n",
      "        naphtha       0.00      0.00      0.00         4\n",
      "        nat-gas       0.75      0.60      0.67        30\n",
      "         nickel       1.00      1.00      1.00         1\n",
      "            nkr       0.00      0.00      0.00         2\n",
      "          nzdlr       0.00      0.00      0.00         2\n",
      "            oat       0.00      0.00      0.00         6\n",
      "        oilseed       0.78      0.62      0.69        47\n",
      "         orange       1.00      0.82      0.90        11\n",
      "      palladium       0.00      0.00      0.00         1\n",
      "       palm-oil       1.00      0.60      0.75        10\n",
      "     palmkernel       0.00      0.00      0.00         1\n",
      "       pet-chem       0.00      0.00      0.00        12\n",
      "       platinum       1.00      0.29      0.44         7\n",
      "         potato       0.00      0.00      0.00         3\n",
      "        propane       0.00      0.00      0.00         3\n",
      "           rand       0.00      0.00      0.00         1\n",
      "       rape-oil       0.00      0.00      0.00         3\n",
      "       rapeseed       1.00      0.44      0.62         9\n",
      "       reserves       0.86      0.67      0.75        18\n",
      "         retail       1.00      0.50      0.67         2\n",
      "           rice       0.91      0.42      0.57        24\n",
      "         rubber       1.00      0.75      0.86        12\n",
      "            rye       0.00      0.00      0.00         1\n",
      "           ship       0.94      0.72      0.82        89\n",
      "         silver       1.00      0.12      0.22         8\n",
      "        sorghum       0.75      0.30      0.43        10\n",
      "       soy-meal       0.00      0.00      0.00        13\n",
      "        soy-oil       0.00      0.00      0.00        11\n",
      "        soybean       0.77      0.52      0.62        33\n",
      "strategic-metal       0.00      0.00      0.00        11\n",
      "          sugar       0.93      0.75      0.83        36\n",
      "       sun-meal       0.00      0.00      0.00         1\n",
      "        sun-oil       0.00      0.00      0.00         2\n",
      "        sunseed       1.00      0.20      0.33         5\n",
      "            tea       0.00      0.00      0.00         4\n",
      "            tin       1.00      0.75      0.86        12\n",
      "          trade       0.86      0.76      0.81       117\n",
      "        veg-oil       1.00      0.41      0.58        37\n",
      "          wheat       0.93      0.73      0.82        71\n",
      "            wpi       1.00      0.60      0.75        10\n",
      "            yen       1.00      0.21      0.35        14\n",
      "           zinc       1.00      0.54      0.70        13\n",
      "\n",
      "      micro avg       0.95      0.81      0.87      3744\n",
      "      macro avg       0.60      0.39      0.45      3744\n",
      "   weighted avg       0.91      0.81      0.85      3744\n",
      "    samples avg       0.89      0.88      0.88      3744\n",
      "\n"
     ]
    }
   ],
   "source": [
    "from sklearn.metrics import classification_report\n",
    "\n",
    "print(classification_report(y_test, y_pred, target_names=all_categories))"
   ]
  },
  {
   "cell_type": "markdown",
   "metadata": {},
   "source": [
    "Since all classes are weighted equally in the macro-averaged score calculation, classes with a smaller amount of sample data, which are harder to classify, can skew the overall macro-averaged score (e.g., the 'potato' category consists of only 3 documents, where no one was correctly classified). "
   ]
  },
  {
   "cell_type": "markdown",
   "metadata": {},
   "source": [
    "## 5. Bonus: Neural Network"
   ]
  },
  {
   "cell_type": "markdown",
   "metadata": {},
   "source": [
    "This section trains a neural network and needs additional python packages:\n",
    "* TensorFlow, Theano, or CNTK (as backend for keras)\n",
    "* keras\n",
    "* keras-tqdm (optional)"
   ]
  },
  {
   "cell_type": "markdown",
   "metadata": {},
   "source": [
    "Since we have a multi-class, multi-label problem, the probabilites of each class should be independent of the other class probabilies. This can be achieved with the sigmoid activation function at the output layer of the neural network.<br>\n",
    "All other layers will be computed using a rectifier function. Furthermore, each hidden layer will have a neuron dropout rate of 30% to prevent overfitting.<br>\n",
    "Another important choice is the loss function. The <code>binary_crossentropy</code> loss is used instead of the <code>categorical_crossentropy</code>  which is usually used in multi-class classification problems. This might seem unreasonable, but one wants to penalize each output node independently.<br>\n",
    "The NN will be trained for 50 epochs and a batch size of 10 (number of samples per gradient update) using the ADADELTA optimization method."
   ]
  },
  {
   "cell_type": "code",
   "execution_count": 23,
   "metadata": {
    "ExecuteTime": {
     "end_time": "2019-01-28T17:29:49.825832Z",
     "start_time": "2019-01-28T17:29:18.949466Z"
    }
   },
   "outputs": [
    {
     "data": {
      "application/vnd.jupyter.widget-view+json": {
       "model_id": "45dc3a5ee05b43259dfdcfcbd09930d0",
       "version_major": 2,
       "version_minor": 0
      },
      "text/plain": [
       "HBox(children=(IntProgress(value=0, description='Training', max=3, style=ProgressStyle(description_width='init…"
      ]
     },
     "metadata": {},
     "output_type": "display_data"
    },
    {
     "data": {
      "application/vnd.jupyter.widget-view+json": {
       "model_id": "",
       "version_major": 2,
       "version_minor": 0
      },
      "text/plain": [
       "HBox(children=(IntProgress(value=0, description='Epoch 0', max=7769, style=ProgressStyle(description_width='in…"
      ]
     },
     "metadata": {},
     "output_type": "display_data"
    },
    {
     "data": {
      "application/vnd.jupyter.widget-view+json": {
       "model_id": "",
       "version_major": 2,
       "version_minor": 0
      },
      "text/plain": [
       "HBox(children=(IntProgress(value=0, description='Epoch 1', max=7769, style=ProgressStyle(description_width='in…"
      ]
     },
     "metadata": {},
     "output_type": "display_data"
    },
    {
     "data": {
      "application/vnd.jupyter.widget-view+json": {
       "model_id": "",
       "version_major": 2,
       "version_minor": 0
      },
      "text/plain": [
       "HBox(children=(IntProgress(value=0, description='Epoch 2', max=7769, style=ProgressStyle(description_width='in…"
      ]
     },
     "metadata": {},
     "output_type": "display_data"
    }
   ],
   "source": [
    "import keras\n",
    "\n",
    "from keras.models import Sequential\n",
    "from keras.layers import Dense, Dropout\n",
    "\n",
    "from keras_tqdm import TQDMNotebookCallback\n",
    "\n",
    "model = Sequential()\n",
    "model.add(Dense(2000, input_dim=5000, activation='relu'))\n",
    "model.add(Dropout(.3))\n",
    "model.add(Dense(1000, activation='relu'))\n",
    "model.add(Dropout(.3))\n",
    "model.add(Dense(400, activation='relu'))\n",
    "model.add(Dropout(.3))\n",
    "model.add(Dense(len(all_categories), activation='sigmoid'))\n",
    "\n",
    "model.compile(\n",
    "    loss='binary_crossentropy', optimizer='adam', metrics=['accuracy'])\n",
    "model.fit(\n",
    "    X_train,\n",
    "    y_train,\n",
    "    epochs=3,\n",
    "    batch_size=10,\n",
    "    verbose=0,\n",
    "    callbacks=[TQDMNotebookCallback()])\n",
    "\n",
    "y_pred = (model.predict(X_test) >= .5) * 1"
   ]
  },
  {
   "cell_type": "code",
   "execution_count": 24,
   "metadata": {
    "ExecuteTime": {
     "end_time": "2019-01-28T17:29:52.048027Z",
     "start_time": "2019-01-28T17:29:51.963045Z"
    }
   },
   "outputs": [
    {
     "name": "stdout",
     "output_type": "stream",
     "text": [
      "Accuracy: 0.804\n",
      "\n",
      "F1 Score (micro-averaged): 0.852\n",
      "Precision (micro-averaged): 0.899\n",
      "Recall (micro-averaged): 0.810\n",
      "\n",
      "F1 Score (macro-averaged): 0.375\n",
      "Precision (macro-averaged): 0.477\n",
      "Recall (macro-averaged): 0.335\n"
     ]
    }
   ],
   "source": [
    "print_scores(y_test, y_pred)"
   ]
  },
  {
   "cell_type": "markdown",
   "metadata": {},
   "source": [
    "The NN performs similarly to the SVM."
   ]
  },
  {
   "cell_type": "markdown",
   "metadata": {},
   "source": [
    "## References"
   ]
  },
  {
   "cell_type": "markdown",
   "metadata": {},
   "source": [
    "<sup>[1](#fn1)</sup> <cite>ZHANG, Wen; YOSHIDA, Taketoshi; TANG, Xijin. A comparative study of TF* IDF, LSI and multi-words for text classification. Expert Systems with Applications, 2011, 38. Jg., Nr. 3, S. 2758-2765.</cite>"
   ]
  }
 ],
 "metadata": {
  "kernelspec": {
   "display_name": "Python 3",
   "language": "python",
   "name": "python3"
  },
  "language_info": {
   "codemirror_mode": {
    "name": "ipython",
    "version": 3
   },
   "file_extension": ".py",
   "mimetype": "text/x-python",
   "name": "python",
   "nbconvert_exporter": "python",
   "pygments_lexer": "ipython3",
   "version": "3.6.7"
  },
  "varInspector": {
   "cols": {
    "lenName": 16,
    "lenType": 16,
    "lenVar": 40
   },
   "kernels_config": {
    "python": {
     "delete_cmd_postfix": "",
     "delete_cmd_prefix": "del ",
     "library": "var_list.py",
     "varRefreshCmd": "print(var_dic_list())"
    },
    "r": {
     "delete_cmd_postfix": ") ",
     "delete_cmd_prefix": "rm(",
     "library": "var_list.r",
     "varRefreshCmd": "cat(var_dic_list()) "
    }
   },
   "types_to_exclude": [
    "module",
    "function",
    "builtin_function_or_method",
    "instance",
    "_Feature"
   ],
   "window_display": false
  },
  "widgets": {
   "application/vnd.jupyter.widget-state+json": {
    "state": {
     "017e22435bbb403eb20038a732667508": {
      "model_module": "@jupyter-widgets/base",
      "model_module_version": "1.0.0",
      "model_name": "LayoutModel",
      "state": {}
     },
     "01b0de5febd24f5ea7cb630bd5893fa5": {
      "model_module": "@jupyter-widgets/controls",
      "model_module_version": "1.2.0",
      "model_name": "IntProgressModel",
      "state": {
       "description": "Epoch 16",
       "layout": "IPY_MODEL_46d68400e4574d98a5015751b5713bb9",
       "max": 7769,
       "style": "IPY_MODEL_33bb7e3e9ffe4f9d850a1b7ed866b49e",
       "value": 7769
      }
     },
     "01b31e0d7b934986b2c669e59ee5ba5a": {
      "model_module": "@jupyter-widgets/controls",
      "model_module_version": "1.2.0",
      "model_name": "IntProgressModel",
      "state": {
       "description": "Epoch 48",
       "layout": "IPY_MODEL_7c5661fdc0934e3c81b30fd48572aa96",
       "max": 7769,
       "style": "IPY_MODEL_35eac8fc4fe248279c83813bf00abcce",
       "value": 7769
      }
     },
     "035ca924d4974d6b8665f66a86d32497": {
      "model_module": "@jupyter-widgets/controls",
      "model_module_version": "1.2.0",
      "model_name": "ProgressStyleModel",
      "state": {
       "description_width": ""
      }
     },
     "0523741a8e0e47639fe97fd5e0d443f9": {
      "model_module": "@jupyter-widgets/base",
      "model_module_version": "1.0.0",
      "model_name": "LayoutModel",
      "state": {}
     },
     "054a612fe6214f4381e960f17fe63c69": {
      "model_module": "@jupyter-widgets/controls",
      "model_module_version": "1.2.0",
      "model_name": "IntProgressModel",
      "state": {
       "description": "Epoch 40",
       "layout": "IPY_MODEL_c9c337aec5ad4a91b1802a465512797e",
       "max": 7769,
       "style": "IPY_MODEL_3ce3d098f3d04b54a04748509640081b",
       "value": 7769
      }
     },
     "0566d05e3ce84f00ae7f9105d73ef4c4": {
      "model_module": "@jupyter-widgets/controls",
      "model_module_version": "1.2.0",
      "model_name": "DescriptionStyleModel",
      "state": {
       "description_width": ""
      }
     },
     "06c7fdd5295e4240a4c743cb49460349": {
      "model_module": "@jupyter-widgets/base",
      "model_module_version": "1.0.0",
      "model_name": "LayoutModel",
      "state": {}
     },
     "06fedd445baf49cc8b742c04a641bb8e": {
      "model_module": "@jupyter-widgets/base",
      "model_module_version": "1.0.0",
      "model_name": "LayoutModel",
      "state": {}
     },
     "08e82c3a23fb4fed9b83560d7170cb5d": {
      "model_module": "@jupyter-widgets/base",
      "model_module_version": "1.0.0",
      "model_name": "LayoutModel",
      "state": {}
     },
     "0972bb2213684c529a3e912a1f277fc6": {
      "model_module": "@jupyter-widgets/controls",
      "model_module_version": "1.2.0",
      "model_name": "HTMLModel",
      "state": {
       "layout": "IPY_MODEL_3fa741d2049d4ccfb021f2622d5f1256",
       "style": "IPY_MODEL_baf24443469442ac92d1037bbe694a99",
       "value": "[loss: 0.006, acc: 0.998] : 100% 7769/7769 [00:12&lt;00:00, 615.99it/s]"
      }
     },
     "0a6791bc18cb41f395670df97e151f6f": {
      "model_module": "@jupyter-widgets/controls",
      "model_module_version": "1.2.0",
      "model_name": "ProgressStyleModel",
      "state": {
       "description_width": ""
      }
     },
     "0a9bbf0175fb40ee8cade215efde1ec5": {
      "model_module": "@jupyter-widgets/base",
      "model_module_version": "1.0.0",
      "model_name": "LayoutModel",
      "state": {}
     },
     "0ac779bcde5240dd9c87653fba3060bf": {
      "model_module": "@jupyter-widgets/controls",
      "model_module_version": "1.2.0",
      "model_name": "HTMLModel",
      "state": {
       "layout": "IPY_MODEL_95133d365cf34f378c1334a27329d143",
       "style": "IPY_MODEL_8959a218c9db4314a980e59752498ba7",
       "value": "[loss: 0.001, acc: 1.000] : 100% 7769/7769 [00:12&lt;00:00, 577.20it/s]"
      }
     },
     "0b0242125df64612825b2584cd560fe0": {
      "model_module": "@jupyter-widgets/base",
      "model_module_version": "1.0.0",
      "model_name": "LayoutModel",
      "state": {}
     },
     "0b6a166d22324a83969e1c7fd7985fc1": {
      "model_module": "@jupyter-widgets/controls",
      "model_module_version": "1.2.0",
      "model_name": "IntProgressModel",
      "state": {
       "description": "Epoch 8",
       "layout": "IPY_MODEL_25bb48cc9c25434ba6aed1976e20a21f",
       "max": 7769,
       "style": "IPY_MODEL_48a2add487244aaca215b74b14970a9f",
       "value": 7769
      }
     },
     "0bc7ec6045924d568d67d1e87f4ea534": {
      "model_module": "@jupyter-widgets/controls",
      "model_module_version": "1.2.0",
      "model_name": "HTMLModel",
      "state": {
       "layout": "IPY_MODEL_54fcff9960b04ffda2c26f900d604ce4",
       "style": "IPY_MODEL_7b29448d37a44eb18ff12fde27756331",
       "value": "[loss: 0.001, acc: 1.000] : 100% 7769/7769 [00:12&lt;00:00, 599.63it/s]"
      }
     },
     "0cd51626073a4a899d3d2107d678ea31": {
      "model_module": "@jupyter-widgets/controls",
      "model_module_version": "1.2.0",
      "model_name": "IntProgressModel",
      "state": {
       "description": "Epoch 33",
       "layout": "IPY_MODEL_f814bcdf5a71491ebe076dd53a985774",
       "max": 7769,
       "style": "IPY_MODEL_1903c78799314274be6406f2e79bfe17",
       "value": 7769
      }
     },
     "0cf4b9f6a9de4c39882ad6ebfdfab437": {
      "model_module": "@jupyter-widgets/controls",
      "model_module_version": "1.2.0",
      "model_name": "IntProgressModel",
      "state": {
       "description": "Epoch 43",
       "layout": "IPY_MODEL_b1a95e3e2be3491bbf487637043b5ea4",
       "max": 7769,
       "style": "IPY_MODEL_9f166356c25e42849d832af0a93e09e0",
       "value": 7769
      }
     },
     "0d07acf0ff8747eea7fc6858ce03f6f5": {
      "model_module": "@jupyter-widgets/base",
      "model_module_version": "1.0.0",
      "model_name": "LayoutModel",
      "state": {}
     },
     "1087c12eaa594016a5ca705542760952": {
      "model_module": "@jupyter-widgets/base",
      "model_module_version": "1.0.0",
      "model_name": "LayoutModel",
      "state": {}
     },
     "1195de4fa7994e17a77a471e6ad6550e": {
      "model_module": "@jupyter-widgets/controls",
      "model_module_version": "1.2.0",
      "model_name": "DescriptionStyleModel",
      "state": {
       "description_width": ""
      }
     },
     "120d6a125bf3401483afa665084de5f0": {
      "model_module": "@jupyter-widgets/base",
      "model_module_version": "1.0.0",
      "model_name": "LayoutModel",
      "state": {}
     },
     "127d419ba0964474a6dc52baa7f33703": {
      "model_module": "@jupyter-widgets/controls",
      "model_module_version": "1.2.0",
      "model_name": "DescriptionStyleModel",
      "state": {
       "description_width": ""
      }
     },
     "12e0deda1dbd412f8ffed14061810137": {
      "model_module": "@jupyter-widgets/controls",
      "model_module_version": "1.2.0",
      "model_name": "HTMLModel",
      "state": {
       "layout": "IPY_MODEL_3629eb73c4a2407180f0c419d315680f",
       "style": "IPY_MODEL_b835dd6a2b6843a28bba3fbce3cd4067",
       "value": "[loss: 0.001, acc: 1.000] : 100% 7769/7769 [00:12&lt;00:00, 622.83it/s]"
      }
     },
     "136db54c3e584afb823a95ba1abad659": {
      "model_module": "@jupyter-widgets/controls",
      "model_module_version": "1.2.0",
      "model_name": "DescriptionStyleModel",
      "state": {
       "description_width": ""
      }
     },
     "13e6200f9c2a4bba9cb006ae584cb7a4": {
      "model_module": "@jupyter-widgets/controls",
      "model_module_version": "1.2.0",
      "model_name": "DescriptionStyleModel",
      "state": {
       "description_width": ""
      }
     },
     "13f88e40c1724dd692d77f4125fdcc35": {
      "model_module": "@jupyter-widgets/controls",
      "model_module_version": "1.2.0",
      "model_name": "HTMLModel",
      "state": {
       "layout": "IPY_MODEL_32b977e1b94e4e3c981a8b2040397215",
       "style": "IPY_MODEL_7063e3e430e1408b8e81b17f8ce94633",
       "value": "[loss: 0.002, acc: 1.000] : 100% 7769/7769 [00:12&lt;00:00, 621.98it/s]"
      }
     },
     "144523ed48dc40ba9e7d538818c2b19d": {
      "model_module": "@jupyter-widgets/controls",
      "model_module_version": "1.2.0",
      "model_name": "DescriptionStyleModel",
      "state": {
       "description_width": ""
      }
     },
     "174924c0836a49a38c9f0542f3792dc4": {
      "model_module": "@jupyter-widgets/controls",
      "model_module_version": "1.2.0",
      "model_name": "HTMLModel",
      "state": {
       "layout": "IPY_MODEL_2785644c86804de5a6c17140b53bc900",
       "style": "IPY_MODEL_983ad2bdc7fd4df8b0482e2dde2d0895",
       "value": "[loss: 0.001, acc: 1.000] : 100% 7769/7769 [00:12&lt;00:00, 601.58it/s]"
      }
     },
     "17deca2b307b4e539281f4885e07dc6a": {
      "model_module": "@jupyter-widgets/controls",
      "model_module_version": "1.2.0",
      "model_name": "HTMLModel",
      "state": {
       "layout": "IPY_MODEL_576c79783dab4e2fa6df39b8da1a5ca3",
       "style": "IPY_MODEL_cb0b19ce9cb241a0b7c27475a969cc95",
       "value": "[loss: 0.001, acc: 1.000] : 100% 7769/7769 [00:12&lt;00:00, 616.02it/s]"
      }
     },
     "18286f0bd39e467a8e01b3e2aa7dae60": {
      "model_module": "@jupyter-widgets/base",
      "model_module_version": "1.0.0",
      "model_name": "LayoutModel",
      "state": {}
     },
     "18376b576ad7465da2f4447928889b44": {
      "model_module": "@jupyter-widgets/controls",
      "model_module_version": "1.2.0",
      "model_name": "IntProgressModel",
      "state": {
       "description": "Epoch 34",
       "layout": "IPY_MODEL_27035cf280ad432c820c14c2bff05e3e",
       "max": 7769,
       "style": "IPY_MODEL_737965f8d2bd4111bd936081b2f1f840",
       "value": 7769
      }
     },
     "1852bcb762b64c69b93a9c52102cb236": {
      "model_module": "@jupyter-widgets/controls",
      "model_module_version": "1.2.0",
      "model_name": "ProgressStyleModel",
      "state": {
       "description_width": ""
      }
     },
     "1903c78799314274be6406f2e79bfe17": {
      "model_module": "@jupyter-widgets/controls",
      "model_module_version": "1.2.0",
      "model_name": "ProgressStyleModel",
      "state": {
       "description_width": ""
      }
     },
     "1982261de25846039c39ea7471053aca": {
      "model_module": "@jupyter-widgets/controls",
      "model_module_version": "1.2.0",
      "model_name": "HTMLModel",
      "state": {
       "layout": "IPY_MODEL_967fe95ee8f6468192c43c2e56d98e01",
       "style": "IPY_MODEL_8bf2bf96546f47cbb45aa76bd82ca7b4",
       "value": "[loss: 0.002, acc: 0.999] : 100% 7769/7769 [00:12&lt;00:00, 592.40it/s]"
      }
     },
     "1a041714cacf453bb3a6dfd1c063dc08": {
      "model_module": "@jupyter-widgets/controls",
      "model_module_version": "1.2.0",
      "model_name": "ProgressStyleModel",
      "state": {
       "description_width": ""
      }
     },
     "1a2430866051461bad878c2d74327e7a": {
      "model_module": "@jupyter-widgets/base",
      "model_module_version": "1.0.0",
      "model_name": "LayoutModel",
      "state": {}
     },
     "1b0b7adb2015428a868fc2bb19301d0d": {
      "model_module": "@jupyter-widgets/controls",
      "model_module_version": "1.2.0",
      "model_name": "DescriptionStyleModel",
      "state": {
       "description_width": ""
      }
     },
     "1baa570d6b8645bea91d5be7dbce1dfb": {
      "model_module": "@jupyter-widgets/controls",
      "model_module_version": "1.2.0",
      "model_name": "HTMLModel",
      "state": {
       "layout": "IPY_MODEL_aa478c8232bd490b8ecad3d3e0f9a0f6",
       "style": "IPY_MODEL_a8ce00e194f04982b6fdfe45675e6805",
       "value": "[loss: 0.002, acc: 1.000] : 100% 7769/7769 [00:12&lt;00:00, 624.96it/s]"
      }
     },
     "1cba8e45b78e4a7f9f1ed360424fbf2b": {
      "model_module": "@jupyter-widgets/base",
      "model_module_version": "1.0.0",
      "model_name": "LayoutModel",
      "state": {}
     },
     "1d95c2cb71404c268bfd08d757f5f226": {
      "model_module": "@jupyter-widgets/controls",
      "model_module_version": "1.2.0",
      "model_name": "DescriptionStyleModel",
      "state": {
       "description_width": ""
      }
     },
     "1e5b305a792c4a14b7bf049f06357e79": {
      "model_module": "@jupyter-widgets/controls",
      "model_module_version": "1.2.0",
      "model_name": "ProgressStyleModel",
      "state": {
       "description_width": ""
      }
     },
     "1e848f6049354b97a59dba4ffda6a98c": {
      "model_module": "@jupyter-widgets/controls",
      "model_module_version": "1.2.0",
      "model_name": "HTMLModel",
      "state": {
       "layout": "IPY_MODEL_511ad070e9154541b9219c37f68da16f",
       "style": "IPY_MODEL_e5dc2483aa7c43f98c318cff794b43ef",
       "value": "[loss: 0.003, acc: 0.999] : 100% 7769/7769 [00:12&lt;00:00, 565.28it/s]"
      }
     },
     "1ff6686b67464c5c860e6c8f4db0039b": {
      "model_module": "@jupyter-widgets/controls",
      "model_module_version": "1.2.0",
      "model_name": "ProgressStyleModel",
      "state": {
       "description_width": ""
      }
     },
     "20fa84a11ab24b9cb30f898ee481da47": {
      "model_module": "@jupyter-widgets/base",
      "model_module_version": "1.0.0",
      "model_name": "LayoutModel",
      "state": {}
     },
     "2132ff3c71f5401cb24647f5a6ac6460": {
      "model_module": "@jupyter-widgets/controls",
      "model_module_version": "1.2.0",
      "model_name": "HTMLModel",
      "state": {
       "layout": "IPY_MODEL_7ef179e448904c4bbaeaa5dbe498e72f",
       "style": "IPY_MODEL_d2e1aaee7598446ca5fe54c974792820",
       "value": "[loss: 0.001, acc: 1.000] : 100% 7769/7769 [00:12&lt;00:00, 603.86it/s]"
      }
     },
     "216d45dd7201429da9223c801304c1bc": {
      "model_module": "@jupyter-widgets/base",
      "model_module_version": "1.0.0",
      "model_name": "LayoutModel",
      "state": {}
     },
     "220aab1c9b004e7d8431091e5d599575": {
      "model_module": "@jupyter-widgets/controls",
      "model_module_version": "1.2.0",
      "model_name": "IntProgressModel",
      "state": {
       "description": "Epoch 27",
       "layout": "IPY_MODEL_5fe54000132b4208ae946a7b03c84fbb",
       "max": 7769,
       "style": "IPY_MODEL_9fb569929c56432f8bcdf0ea67605458",
       "value": 7769
      }
     },
     "22a0f412ae9b4f498eb1cae8410356f0": {
      "model_module": "@jupyter-widgets/base",
      "model_module_version": "1.0.0",
      "model_name": "LayoutModel",
      "state": {}
     },
     "2339e000259e4499b66d57312ec10993": {
      "model_module": "@jupyter-widgets/base",
      "model_module_version": "1.0.0",
      "model_name": "LayoutModel",
      "state": {}
     },
     "24139a1d18ee4eb5b80580c6f3667408": {
      "model_module": "@jupyter-widgets/controls",
      "model_module_version": "1.2.0",
      "model_name": "DescriptionStyleModel",
      "state": {
       "description_width": ""
      }
     },
     "2480e359e8774cae825c80050f7fa143": {
      "model_module": "@jupyter-widgets/controls",
      "model_module_version": "1.2.0",
      "model_name": "DescriptionStyleModel",
      "state": {
       "description_width": ""
      }
     },
     "24833813baf547c1bff59b59b4714363": {
      "model_module": "@jupyter-widgets/controls",
      "model_module_version": "1.2.0",
      "model_name": "DescriptionStyleModel",
      "state": {
       "description_width": ""
      }
     },
     "24daf3a5c67b4690b61d54497ba38286": {
      "model_module": "@jupyter-widgets/controls",
      "model_module_version": "1.2.0",
      "model_name": "HBoxModel",
      "state": {
       "children": [
        "IPY_MODEL_5682ece699ae4a6da0caa3feabc1be87",
        "IPY_MODEL_5a4d180e48794ad3be9aeba627200c4d"
       ],
       "layout": "IPY_MODEL_3966b2350ca6434f8495e98171c28a7c"
      }
     },
     "25bb48cc9c25434ba6aed1976e20a21f": {
      "model_module": "@jupyter-widgets/base",
      "model_module_version": "1.0.0",
      "model_name": "LayoutModel",
      "state": {}
     },
     "25e9c1700e804c64bba781d9386f457b": {
      "model_module": "@jupyter-widgets/controls",
      "model_module_version": "1.2.0",
      "model_name": "HTMLModel",
      "state": {
       "layout": "IPY_MODEL_fae333b7447747c3bbe9547af0eb1c09",
       "style": "IPY_MODEL_7272f6e45b7749649a47ac71e98bd892",
       "value": "[loss: 0.001, acc: 1.000] : 100% 7769/7769 [00:12&lt;00:00, 605.72it/s]"
      }
     },
     "2632b2e43c8b4dd9b355d634654d0269": {
      "model_module": "@jupyter-widgets/controls",
      "model_module_version": "1.2.0",
      "model_name": "IntProgressModel",
      "state": {
       "description": "Epoch 9",
       "layout": "IPY_MODEL_bdf826bee34047c995deab58fc6ae555",
       "max": 7769,
       "style": "IPY_MODEL_7ac555a5779b4be2a405bc6ea5e1e5b8",
       "value": 7769
      }
     },
     "26afca6540cc4d148f39dd2c06ee0459": {
      "model_module": "@jupyter-widgets/controls",
      "model_module_version": "1.2.0",
      "model_name": "IntProgressModel",
      "state": {
       "description": "Epoch 1",
       "layout": "IPY_MODEL_99b833e856084fba96c694c1c1e9e4be",
       "max": 7769,
       "style": "IPY_MODEL_328fc81f752f4ff2ad1da5ad548a9319",
       "value": 7769
      }
     },
     "27035cf280ad432c820c14c2bff05e3e": {
      "model_module": "@jupyter-widgets/base",
      "model_module_version": "1.0.0",
      "model_name": "LayoutModel",
      "state": {}
     },
     "2785644c86804de5a6c17140b53bc900": {
      "model_module": "@jupyter-widgets/base",
      "model_module_version": "1.0.0",
      "model_name": "LayoutModel",
      "state": {}
     },
     "28a786d937c64f4085f486a52ef1d452": {
      "model_module": "@jupyter-widgets/controls",
      "model_module_version": "1.2.0",
      "model_name": "ProgressStyleModel",
      "state": {
       "description_width": ""
      }
     },
     "29d4c2f7ab2c4d8e9534b2e5be7a9157": {
      "model_module": "@jupyter-widgets/base",
      "model_module_version": "1.0.0",
      "model_name": "LayoutModel",
      "state": {}
     },
     "2af63527c1794ca9a64ec59e5ff2d498": {
      "model_module": "@jupyter-widgets/controls",
      "model_module_version": "1.2.0",
      "model_name": "ProgressStyleModel",
      "state": {
       "description_width": ""
      }
     },
     "2b234022f35146bb9c2ad4df675aaa9a": {
      "model_module": "@jupyter-widgets/base",
      "model_module_version": "1.0.0",
      "model_name": "LayoutModel",
      "state": {}
     },
     "2b64e61bd034433a9f333321e588383a": {
      "model_module": "@jupyter-widgets/controls",
      "model_module_version": "1.2.0",
      "model_name": "DescriptionStyleModel",
      "state": {
       "description_width": ""
      }
     },
     "2c6398a80af044eba36aa7142425af53": {
      "model_module": "@jupyter-widgets/base",
      "model_module_version": "1.0.0",
      "model_name": "LayoutModel",
      "state": {}
     },
     "2c6bf75c1b3e43d28ce54c358dc3679b": {
      "model_module": "@jupyter-widgets/base",
      "model_module_version": "1.0.0",
      "model_name": "LayoutModel",
      "state": {}
     },
     "2c7f935d08b94df49c4e6d325643abd4": {
      "model_module": "@jupyter-widgets/controls",
      "model_module_version": "1.2.0",
      "model_name": "DescriptionStyleModel",
      "state": {
       "description_width": ""
      }
     },
     "2c9d3c72ad7d49d1b1161b5ed2a83cff": {
      "model_module": "@jupyter-widgets/controls",
      "model_module_version": "1.2.0",
      "model_name": "IntProgressModel",
      "state": {
       "description": "Epoch 23",
       "layout": "IPY_MODEL_e6ba9649f1e2461db6ecb0f885144866",
       "max": 7769,
       "style": "IPY_MODEL_4daafbdb443f4197ae55631b75f9ba15",
       "value": 7769
      }
     },
     "2dbae45ea9034f7e8c4ae75cd6a857d0": {
      "model_module": "@jupyter-widgets/base",
      "model_module_version": "1.0.0",
      "model_name": "LayoutModel",
      "state": {}
     },
     "2efad3ceab4b4e8592be40b7c3816f42": {
      "model_module": "@jupyter-widgets/controls",
      "model_module_version": "1.2.0",
      "model_name": "DescriptionStyleModel",
      "state": {
       "description_width": ""
      }
     },
     "2ff6c21b40a04d6da16bf8fa6c3e5575": {
      "model_module": "@jupyter-widgets/base",
      "model_module_version": "1.0.0",
      "model_name": "LayoutModel",
      "state": {}
     },
     "30989b28d9494546bec8ab1cffeaa476": {
      "model_module": "@jupyter-widgets/controls",
      "model_module_version": "1.2.0",
      "model_name": "IntProgressModel",
      "state": {
       "description": "Epoch 28",
       "layout": "IPY_MODEL_393a8b9cdd194b38bacbb43957439d47",
       "max": 7769,
       "style": "IPY_MODEL_1852bcb762b64c69b93a9c52102cb236",
       "value": 7769
      }
     },
     "3289d2f41b4740a9b63ee0d8b518c8be": {
      "model_module": "@jupyter-widgets/controls",
      "model_module_version": "1.2.0",
      "model_name": "ProgressStyleModel",
      "state": {
       "description_width": ""
      }
     },
     "328fc81f752f4ff2ad1da5ad548a9319": {
      "model_module": "@jupyter-widgets/controls",
      "model_module_version": "1.2.0",
      "model_name": "ProgressStyleModel",
      "state": {
       "description_width": ""
      }
     },
     "32b977e1b94e4e3c981a8b2040397215": {
      "model_module": "@jupyter-widgets/base",
      "model_module_version": "1.0.0",
      "model_name": "LayoutModel",
      "state": {}
     },
     "33aa2ae331d144b8b0d1fc20742b79e7": {
      "model_module": "@jupyter-widgets/controls",
      "model_module_version": "1.2.0",
      "model_name": "DescriptionStyleModel",
      "state": {
       "description_width": ""
      }
     },
     "33bb7e3e9ffe4f9d850a1b7ed866b49e": {
      "model_module": "@jupyter-widgets/controls",
      "model_module_version": "1.2.0",
      "model_name": "ProgressStyleModel",
      "state": {
       "description_width": ""
      }
     },
     "34a22d003ced46a0bd0282409dccb251": {
      "model_module": "@jupyter-widgets/controls",
      "model_module_version": "1.2.0",
      "model_name": "ProgressStyleModel",
      "state": {
       "description_width": ""
      }
     },
     "35eac8fc4fe248279c83813bf00abcce": {
      "model_module": "@jupyter-widgets/controls",
      "model_module_version": "1.2.0",
      "model_name": "ProgressStyleModel",
      "state": {
       "description_width": ""
      }
     },
     "3629eb73c4a2407180f0c419d315680f": {
      "model_module": "@jupyter-widgets/base",
      "model_module_version": "1.0.0",
      "model_name": "LayoutModel",
      "state": {}
     },
     "389adb57331e4034957c5b56ac4723dc": {
      "model_module": "@jupyter-widgets/controls",
      "model_module_version": "1.2.0",
      "model_name": "HTMLModel",
      "state": {
       "layout": "IPY_MODEL_4513d7043e7f4380af53f04b0c91fca9",
       "style": "IPY_MODEL_b81be3d142fa4e4593b5ae102698bcbe",
       "value": "[loss: 0.001, acc: 1.000] : 100% 7769/7769 [00:12&lt;00:00, 614.34it/s]"
      }
     },
     "393a8b9cdd194b38bacbb43957439d47": {
      "model_module": "@jupyter-widgets/base",
      "model_module_version": "1.0.0",
      "model_name": "LayoutModel",
      "state": {}
     },
     "394a28023faf48db87c14f7d86cadcf3": {
      "model_module": "@jupyter-widgets/base",
      "model_module_version": "1.0.0",
      "model_name": "LayoutModel",
      "state": {}
     },
     "395dbbf50f1549829c6e37ba0b4a3cb9": {
      "model_module": "@jupyter-widgets/base",
      "model_module_version": "1.0.0",
      "model_name": "LayoutModel",
      "state": {}
     },
     "3966b2350ca6434f8495e98171c28a7c": {
      "model_module": "@jupyter-widgets/base",
      "model_module_version": "1.0.0",
      "model_name": "LayoutModel",
      "state": {}
     },
     "3c0bc441154248c8bfb0e41b756508f4": {
      "model_module": "@jupyter-widgets/base",
      "model_module_version": "1.0.0",
      "model_name": "LayoutModel",
      "state": {}
     },
     "3cd66097f31f42058163051fc204443f": {
      "model_module": "@jupyter-widgets/base",
      "model_module_version": "1.0.0",
      "model_name": "LayoutModel",
      "state": {}
     },
     "3ce3d098f3d04b54a04748509640081b": {
      "model_module": "@jupyter-widgets/controls",
      "model_module_version": "1.2.0",
      "model_name": "ProgressStyleModel",
      "state": {
       "description_width": ""
      }
     },
     "3d1a59de0b994431ad4bf416781ed655": {
      "model_module": "@jupyter-widgets/controls",
      "model_module_version": "1.2.0",
      "model_name": "ProgressStyleModel",
      "state": {
       "description_width": ""
      }
     },
     "3f1836ed14ad437a945d319bfb8b6714": {
      "model_module": "@jupyter-widgets/base",
      "model_module_version": "1.0.0",
      "model_name": "LayoutModel",
      "state": {}
     },
     "3f56e133ef904b26800b5d27f88bb17f": {
      "model_module": "@jupyter-widgets/controls",
      "model_module_version": "1.2.0",
      "model_name": "HTMLModel",
      "state": {
       "layout": "IPY_MODEL_f8f8038e41a74a728ce5826d769541f7",
       "style": "IPY_MODEL_9fafb973060f4a5e8e065535e00e4474",
       "value": "[loss: 0.002, acc: 0.999] : 100% 7769/7769 [00:12&lt;00:00, 591.07it/s]"
      }
     },
     "3f8f4517464e4a63a0e6ccdc94a65186": {
      "model_module": "@jupyter-widgets/base",
      "model_module_version": "1.0.0",
      "model_name": "LayoutModel",
      "state": {}
     },
     "3fa741d2049d4ccfb021f2622d5f1256": {
      "model_module": "@jupyter-widgets/base",
      "model_module_version": "1.0.0",
      "model_name": "LayoutModel",
      "state": {}
     },
     "406518d902d94b16ac4b789dcf841596": {
      "model_module": "@jupyter-widgets/base",
      "model_module_version": "1.0.0",
      "model_name": "LayoutModel",
      "state": {}
     },
     "40a8b66f413e49529f56af38ac11c9ea": {
      "model_module": "@jupyter-widgets/base",
      "model_module_version": "1.0.0",
      "model_name": "LayoutModel",
      "state": {}
     },
     "41cdd2eca32c434aaa31e9fa7f278755": {
      "model_module": "@jupyter-widgets/controls",
      "model_module_version": "1.2.0",
      "model_name": "HTMLModel",
      "state": {
       "layout": "IPY_MODEL_f4e68f75d2374d94952162385d78246f",
       "style": "IPY_MODEL_24833813baf547c1bff59b59b4714363",
       "value": "[loss: 0.008, acc: 0.998] : 100% 7769/7769 [00:12&lt;00:00, 612.69it/s]"
      }
     },
     "424903b55f2244dd859b4de9fa991d8e": {
      "model_module": "@jupyter-widgets/controls",
      "model_module_version": "1.2.0",
      "model_name": "DescriptionStyleModel",
      "state": {
       "description_width": ""
      }
     },
     "4286254c099c4155b2dab7aa6a268eb3": {
      "model_module": "@jupyter-widgets/base",
      "model_module_version": "1.0.0",
      "model_name": "LayoutModel",
      "state": {}
     },
     "42cc381216b04863956c3c36f3a9dc0e": {
      "model_module": "@jupyter-widgets/base",
      "model_module_version": "1.0.0",
      "model_name": "LayoutModel",
      "state": {}
     },
     "42da45fa4a2b438398b66ed6c4bd5a73": {
      "model_module": "@jupyter-widgets/controls",
      "model_module_version": "1.2.0",
      "model_name": "DescriptionStyleModel",
      "state": {
       "description_width": ""
      }
     },
     "4327110a2cec4946b1a4e47e1d8b5ccb": {
      "model_module": "@jupyter-widgets/base",
      "model_module_version": "1.0.0",
      "model_name": "LayoutModel",
      "state": {}
     },
     "44b99331bd604966ba3f8b2e9e795a53": {
      "model_module": "@jupyter-widgets/controls",
      "model_module_version": "1.2.0",
      "model_name": "HTMLModel",
      "state": {
       "layout": "IPY_MODEL_a743ac25974843cca83d1ba8a63eb569",
       "style": "IPY_MODEL_708ad10b22e14c5ea12c1e34e1b34348",
       "value": "[loss: 0.001, acc: 1.000] : 100% 7769/7769 [00:12&lt;00:00, 611.38it/s]"
      }
     },
     "4513d7043e7f4380af53f04b0c91fca9": {
      "model_module": "@jupyter-widgets/base",
      "model_module_version": "1.0.0",
      "model_name": "LayoutModel",
      "state": {}
     },
     "4561263dafce49bfb52f93867edb09d0": {
      "model_module": "@jupyter-widgets/base",
      "model_module_version": "1.0.0",
      "model_name": "LayoutModel",
      "state": {}
     },
     "46d68400e4574d98a5015751b5713bb9": {
      "model_module": "@jupyter-widgets/base",
      "model_module_version": "1.0.0",
      "model_name": "LayoutModel",
      "state": {}
     },
     "47a3fc046a71492b93e62a9bdf4a71e0": {
      "model_module": "@jupyter-widgets/controls",
      "model_module_version": "1.2.0",
      "model_name": "IntProgressModel",
      "state": {
       "description": "Epoch 26",
       "layout": "IPY_MODEL_56bf8326b3ed4de1a815a15bc67fbab7",
       "max": 7769,
       "style": "IPY_MODEL_1e5b305a792c4a14b7bf049f06357e79",
       "value": 7769
      }
     },
     "482ac5af9cfc4def9838571b091d576d": {
      "model_module": "@jupyter-widgets/controls",
      "model_module_version": "1.2.0",
      "model_name": "HTMLModel",
      "state": {
       "layout": "IPY_MODEL_b131729fbfcb4528a8520a04708b6376",
       "style": "IPY_MODEL_748e309a467741a79bb6ff93c3c2d16b",
       "value": "[loss: 0.003, acc: 0.999] : 100% 7769/7769 [00:12&lt;00:00, 617.15it/s]"
      }
     },
     "48a2add487244aaca215b74b14970a9f": {
      "model_module": "@jupyter-widgets/controls",
      "model_module_version": "1.2.0",
      "model_name": "ProgressStyleModel",
      "state": {
       "description_width": ""
      }
     },
     "4a3c3f2a461845d9b7ddd3bb81c4f36d": {
      "model_module": "@jupyter-widgets/controls",
      "model_module_version": "1.2.0",
      "model_name": "HTMLModel",
      "state": {
       "layout": "IPY_MODEL_c8a26abfa87c432d9bf6795bd6c94e1d",
       "style": "IPY_MODEL_6a0b99e6b7924aba9b2b71973bdd9b25",
       "value": "[loss: 0.001, acc: 1.000] : 100% 7769/7769 [00:12&lt;00:00, 623.63it/s]"
      }
     },
     "4a521c8f5275454b99985ec46ff1fa7a": {
      "model_module": "@jupyter-widgets/base",
      "model_module_version": "1.0.0",
      "model_name": "LayoutModel",
      "state": {}
     },
     "4bd634d8136849e392ae708d91e612e0": {
      "model_module": "@jupyter-widgets/controls",
      "model_module_version": "1.2.0",
      "model_name": "DescriptionStyleModel",
      "state": {
       "description_width": ""
      }
     },
     "4c8049c4937943ce9fd33f6b3517be8e": {
      "model_module": "@jupyter-widgets/controls",
      "model_module_version": "1.2.0",
      "model_name": "HTMLModel",
      "state": {
       "layout": "IPY_MODEL_6d6bba12a60b4122a6dd80bf2abf0bd2",
       "style": "IPY_MODEL_24139a1d18ee4eb5b80580c6f3667408",
       "value": "[loss: 0.002, acc: 1.000] : 100% 7769/7769 [00:12&lt;00:00, 588.36it/s]"
      }
     },
     "4daafbdb443f4197ae55631b75f9ba15": {
      "model_module": "@jupyter-widgets/controls",
      "model_module_version": "1.2.0",
      "model_name": "ProgressStyleModel",
      "state": {
       "description_width": ""
      }
     },
     "4f1384ea2e2e4e7a8702c704914ada5d": {
      "model_module": "@jupyter-widgets/base",
      "model_module_version": "1.0.0",
      "model_name": "LayoutModel",
      "state": {}
     },
     "4f308afa4bd54cf59d7527d72b3e8ebd": {
      "model_module": "@jupyter-widgets/base",
      "model_module_version": "1.0.0",
      "model_name": "LayoutModel",
      "state": {}
     },
     "50611c19cd4942af80da66f41e5d8bd6": {
      "model_module": "@jupyter-widgets/base",
      "model_module_version": "1.0.0",
      "model_name": "LayoutModel",
      "state": {}
     },
     "511ad070e9154541b9219c37f68da16f": {
      "model_module": "@jupyter-widgets/base",
      "model_module_version": "1.0.0",
      "model_name": "LayoutModel",
      "state": {}
     },
     "52342082c8bf4273b3a9d757ed491e80": {
      "model_module": "@jupyter-widgets/controls",
      "model_module_version": "1.2.0",
      "model_name": "IntProgressModel",
      "state": {
       "description": "Epoch 2",
       "layout": "IPY_MODEL_5a10af47a968445897ead5512cc5a863",
       "max": 7769,
       "style": "IPY_MODEL_f3b78038f13343aab7df564767109da6",
       "value": 7769
      }
     },
     "52e2741f69834f18a1559a991c624d74": {
      "model_module": "@jupyter-widgets/controls",
      "model_module_version": "1.2.0",
      "model_name": "IntProgressModel",
      "state": {
       "description": "Epoch 15",
       "layout": "IPY_MODEL_3f1836ed14ad437a945d319bfb8b6714",
       "max": 7769,
       "style": "IPY_MODEL_852765f96c3548f3b8128f3dcfdf8148",
       "value": 7769
      }
     },
     "540c05fe55324730b253d18f410387c8": {
      "model_module": "@jupyter-widgets/controls",
      "model_module_version": "1.2.0",
      "model_name": "ProgressStyleModel",
      "state": {
       "description_width": ""
      }
     },
     "54fcff9960b04ffda2c26f900d604ce4": {
      "model_module": "@jupyter-widgets/base",
      "model_module_version": "1.0.0",
      "model_name": "LayoutModel",
      "state": {}
     },
     "5682ece699ae4a6da0caa3feabc1be87": {
      "model_module": "@jupyter-widgets/controls",
      "model_module_version": "1.2.0",
      "model_name": "IntProgressModel",
      "state": {
       "bar_style": "success",
       "description": "Training",
       "layout": "IPY_MODEL_395dbbf50f1549829c6e37ba0b4a3cb9",
       "max": 50,
       "style": "IPY_MODEL_2af63527c1794ca9a64ec59e5ff2d498",
       "value": 50
      }
     },
     "56bf8326b3ed4de1a815a15bc67fbab7": {
      "model_module": "@jupyter-widgets/base",
      "model_module_version": "1.0.0",
      "model_name": "LayoutModel",
      "state": {}
     },
     "576c79783dab4e2fa6df39b8da1a5ca3": {
      "model_module": "@jupyter-widgets/base",
      "model_module_version": "1.0.0",
      "model_name": "LayoutModel",
      "state": {}
     },
     "5844e07e4e5f4e24b712efd62730a7fe": {
      "model_module": "@jupyter-widgets/base",
      "model_module_version": "1.0.0",
      "model_name": "LayoutModel",
      "state": {}
     },
     "589fd5df4c28496ba7af3f1e6f40e90a": {
      "model_module": "@jupyter-widgets/base",
      "model_module_version": "1.0.0",
      "model_name": "LayoutModel",
      "state": {}
     },
     "5998db05f1f54c87940c468a5ce22f76": {
      "model_module": "@jupyter-widgets/controls",
      "model_module_version": "1.2.0",
      "model_name": "IntProgressModel",
      "state": {
       "description": "Epoch 47",
       "layout": "IPY_MODEL_29d4c2f7ab2c4d8e9534b2e5be7a9157",
       "max": 7769,
       "style": "IPY_MODEL_540c05fe55324730b253d18f410387c8",
       "value": 7769
      }
     },
     "59e7b3d370f2426bacbec62c097dbecc": {
      "model_module": "@jupyter-widgets/base",
      "model_module_version": "1.0.0",
      "model_name": "LayoutModel",
      "state": {}
     },
     "5a10af47a968445897ead5512cc5a863": {
      "model_module": "@jupyter-widgets/base",
      "model_module_version": "1.0.0",
      "model_name": "LayoutModel",
      "state": {}
     },
     "5a4d180e48794ad3be9aeba627200c4d": {
      "model_module": "@jupyter-widgets/controls",
      "model_module_version": "1.2.0",
      "model_name": "HTMLModel",
      "state": {
       "layout": "IPY_MODEL_eaab5085bae74398b003d3b0e36852fd",
       "style": "IPY_MODEL_144523ed48dc40ba9e7d538818c2b19d",
       "value": "100% 50/50 [10:08&lt;00:00, 12.16s/it]"
      }
     },
     "5aca057d5af74b1786a116ac35c5d402": {
      "model_module": "@jupyter-widgets/base",
      "model_module_version": "1.0.0",
      "model_name": "LayoutModel",
      "state": {}
     },
     "5b24709f0d934112aefc83b8996b393a": {
      "model_module": "@jupyter-widgets/base",
      "model_module_version": "1.0.0",
      "model_name": "LayoutModel",
      "state": {}
     },
     "5b98d26ae9d14395a19cc3c7d0ac408d": {
      "model_module": "@jupyter-widgets/controls",
      "model_module_version": "1.2.0",
      "model_name": "DescriptionStyleModel",
      "state": {
       "description_width": ""
      }
     },
     "5e58965104554ad5a8e7e05f949f45ae": {
      "model_module": "@jupyter-widgets/base",
      "model_module_version": "1.0.0",
      "model_name": "LayoutModel",
      "state": {}
     },
     "5eda3a12a83a425cbdb08c0ba23588f5": {
      "model_module": "@jupyter-widgets/controls",
      "model_module_version": "1.2.0",
      "model_name": "IntProgressModel",
      "state": {
       "description": "Epoch 42",
       "layout": "IPY_MODEL_b844dd65264746a2a9025009064393a3",
       "max": 7769,
       "style": "IPY_MODEL_9f2de28964cf43029bb0d411e2683dcb",
       "value": 7769
      }
     },
     "5f1ddfe248794bd1bc589a2609d5bf4b": {
      "model_module": "@jupyter-widgets/base",
      "model_module_version": "1.0.0",
      "model_name": "LayoutModel",
      "state": {}
     },
     "5f2e35ed047144cdac000f4e1b8a58b4": {
      "model_module": "@jupyter-widgets/controls",
      "model_module_version": "1.2.0",
      "model_name": "DescriptionStyleModel",
      "state": {
       "description_width": ""
      }
     },
     "5fe54000132b4208ae946a7b03c84fbb": {
      "model_module": "@jupyter-widgets/base",
      "model_module_version": "1.0.0",
      "model_name": "LayoutModel",
      "state": {}
     },
     "60cd248d2c7b4fd587a492cedaea5770": {
      "model_module": "@jupyter-widgets/base",
      "model_module_version": "1.0.0",
      "model_name": "LayoutModel",
      "state": {}
     },
     "61ce28744e1b49d6b143458dc8bcb194": {
      "model_module": "@jupyter-widgets/controls",
      "model_module_version": "1.2.0",
      "model_name": "DescriptionStyleModel",
      "state": {
       "description_width": ""
      }
     },
     "62269211c3374c00a3db3bdb4b16caa1": {
      "model_module": "@jupyter-widgets/controls",
      "model_module_version": "1.2.0",
      "model_name": "HTMLModel",
      "state": {
       "layout": "IPY_MODEL_e8befde6c2a24cf785966d9131db92df",
       "style": "IPY_MODEL_a5896618c5d64ce29b1b1c7e7c962fc5",
       "value": "[loss: 0.002, acc: 0.999] : 100% 7769/7769 [00:12&lt;00:00, 605.89it/s]"
      }
     },
     "62809e4c69ef42dca104c7cbba517bf3": {
      "model_module": "@jupyter-widgets/base",
      "model_module_version": "1.0.0",
      "model_name": "LayoutModel",
      "state": {}
     },
     "63f991e7a6d84584b9da4cebd331f618": {
      "model_module": "@jupyter-widgets/controls",
      "model_module_version": "1.2.0",
      "model_name": "HTMLModel",
      "state": {
       "layout": "IPY_MODEL_5844e07e4e5f4e24b712efd62730a7fe",
       "style": "IPY_MODEL_2480e359e8774cae825c80050f7fa143",
       "value": "[loss: 0.001, acc: 1.000] : 100% 7769/7769 [00:12&lt;00:00, 583.48it/s]"
      }
     },
     "64d34c0b876f42e39b91fd53d9ef8b32": {
      "model_module": "@jupyter-widgets/base",
      "model_module_version": "1.0.0",
      "model_name": "LayoutModel",
      "state": {}
     },
     "670c112735c74d8687257ec096bc31a3": {
      "model_module": "@jupyter-widgets/controls",
      "model_module_version": "1.2.0",
      "model_name": "IntProgressModel",
      "state": {
       "description": "Epoch 14",
       "layout": "IPY_MODEL_2c6398a80af044eba36aa7142425af53",
       "max": 7769,
       "style": "IPY_MODEL_3289d2f41b4740a9b63ee0d8b518c8be",
       "value": 7769
      }
     },
     "684b77413858471ea8a224e254ff9d31": {
      "model_module": "@jupyter-widgets/controls",
      "model_module_version": "1.2.0",
      "model_name": "IntProgressModel",
      "state": {
       "description": "Epoch 25",
       "layout": "IPY_MODEL_b477f8253533400295c5fdb6110c5c24",
       "max": 7769,
       "style": "IPY_MODEL_7c07f9ccb7bb4d359e4d335cabb76040",
       "value": 7769
      }
     },
     "6863c4c42976432baf6b6304760b9ab9": {
      "model_module": "@jupyter-widgets/base",
      "model_module_version": "1.0.0",
      "model_name": "LayoutModel",
      "state": {}
     },
     "68bc88dde60a418bb954ff4d49f85226": {
      "model_module": "@jupyter-widgets/controls",
      "model_module_version": "1.2.0",
      "model_name": "ProgressStyleModel",
      "state": {
       "description_width": ""
      }
     },
     "69670f8291444144aabb3d7e83e2c3a3": {
      "model_module": "@jupyter-widgets/controls",
      "model_module_version": "1.2.0",
      "model_name": "IntProgressModel",
      "state": {
       "description": "Epoch 37",
       "layout": "IPY_MODEL_20fa84a11ab24b9cb30f898ee481da47",
       "max": 7769,
       "style": "IPY_MODEL_d81461fd7c344d7e9620a14d0a6b63bc",
       "value": 7769
      }
     },
     "69f846e02da84fdd9f63bea82a2a63f0": {
      "model_module": "@jupyter-widgets/controls",
      "model_module_version": "1.2.0",
      "model_name": "IntProgressModel",
      "state": {
       "description": "Epoch 32",
       "layout": "IPY_MODEL_4286254c099c4155b2dab7aa6a268eb3",
       "max": 7769,
       "style": "IPY_MODEL_d8d0441fb9814aafaac57806fe9149b7",
       "value": 7769
      }
     },
     "6a0b99e6b7924aba9b2b71973bdd9b25": {
      "model_module": "@jupyter-widgets/controls",
      "model_module_version": "1.2.0",
      "model_name": "DescriptionStyleModel",
      "state": {
       "description_width": ""
      }
     },
     "6a5ac441b7ee4613a174e1228add876f": {
      "model_module": "@jupyter-widgets/base",
      "model_module_version": "1.0.0",
      "model_name": "LayoutModel",
      "state": {}
     },
     "6a7a4c590cea45eeae7ce5117c1cb3c8": {
      "model_module": "@jupyter-widgets/base",
      "model_module_version": "1.0.0",
      "model_name": "LayoutModel",
      "state": {}
     },
     "6b02534b63304f468aedf53e8d8a6d32": {
      "model_module": "@jupyter-widgets/base",
      "model_module_version": "1.0.0",
      "model_name": "LayoutModel",
      "state": {}
     },
     "6d644b2297e0448c8a0175fe55d347ce": {
      "model_module": "@jupyter-widgets/controls",
      "model_module_version": "1.2.0",
      "model_name": "HTMLModel",
      "state": {
       "layout": "IPY_MODEL_8932902953ac47dab3fb84a221934af9",
       "style": "IPY_MODEL_9d58d96e62894d0fa750b9f1c36ee57e",
       "value": "[loss: 0.002, acc: 1.000] : 100% 7769/7769 [00:12&lt;00:00, 609.70it/s]"
      }
     },
     "6d6bba12a60b4122a6dd80bf2abf0bd2": {
      "model_module": "@jupyter-widgets/base",
      "model_module_version": "1.0.0",
      "model_name": "LayoutModel",
      "state": {}
     },
     "6daff225ffeb4715afe9fb7f08299063": {
      "model_module": "@jupyter-widgets/controls",
      "model_module_version": "1.2.0",
      "model_name": "HTMLModel",
      "state": {
       "layout": "IPY_MODEL_cac4c78da90b4e8ea8b065fdbc3a01af",
       "style": "IPY_MODEL_f4384f63b52d4c62b13825a6c796ec89",
       "value": "[loss: 0.001, acc: 1.000] : 100% 7769/7769 [00:12&lt;00:00, 616.79it/s]"
      }
     },
     "700d6b20d1a146dd8dd571ed36461105": {
      "model_module": "@jupyter-widgets/base",
      "model_module_version": "1.0.0",
      "model_name": "LayoutModel",
      "state": {}
     },
     "7063e3e430e1408b8e81b17f8ce94633": {
      "model_module": "@jupyter-widgets/controls",
      "model_module_version": "1.2.0",
      "model_name": "DescriptionStyleModel",
      "state": {
       "description_width": ""
      }
     },
     "708ad10b22e14c5ea12c1e34e1b34348": {
      "model_module": "@jupyter-widgets/controls",
      "model_module_version": "1.2.0",
      "model_name": "DescriptionStyleModel",
      "state": {
       "description_width": ""
      }
     },
     "70c63f68fed04d26bdad00d893536df4": {
      "model_module": "@jupyter-widgets/base",
      "model_module_version": "1.0.0",
      "model_name": "LayoutModel",
      "state": {}
     },
     "7101eeb7bdf84f1c8a67443c6ccf36a4": {
      "model_module": "@jupyter-widgets/controls",
      "model_module_version": "1.2.0",
      "model_name": "IntProgressModel",
      "state": {
       "description": "Epoch 36",
       "layout": "IPY_MODEL_c63c30f2d61c4d7985ae8eb18d5d9f4d",
       "max": 7769,
       "style": "IPY_MODEL_96a8a56c8d1347549ab3d10f6f5184e6",
       "value": 7769
      }
     },
     "725b6f26e735428d814d381b16231d36": {
      "model_module": "@jupyter-widgets/controls",
      "model_module_version": "1.2.0",
      "model_name": "ProgressStyleModel",
      "state": {
       "description_width": ""
      }
     },
     "7272f6e45b7749649a47ac71e98bd892": {
      "model_module": "@jupyter-widgets/controls",
      "model_module_version": "1.2.0",
      "model_name": "DescriptionStyleModel",
      "state": {
       "description_width": ""
      }
     },
     "73609e9959b045db90c1f5094a9d1bad": {
      "model_module": "@jupyter-widgets/base",
      "model_module_version": "1.0.0",
      "model_name": "LayoutModel",
      "state": {}
     },
     "737965f8d2bd4111bd936081b2f1f840": {
      "model_module": "@jupyter-widgets/controls",
      "model_module_version": "1.2.0",
      "model_name": "ProgressStyleModel",
      "state": {
       "description_width": ""
      }
     },
     "739d0699da494285a75edecd81dcbd3c": {
      "model_module": "@jupyter-widgets/controls",
      "model_module_version": "1.2.0",
      "model_name": "HTMLModel",
      "state": {
       "layout": "IPY_MODEL_91d882272d6c4acd84cc3790eb4f20fc",
       "style": "IPY_MODEL_f782aa8e2d27498fb517801a5f42a7d9",
       "value": "[loss: 0.002, acc: 1.000] : 100% 7769/7769 [00:12&lt;00:00, 603.40it/s]"
      }
     },
     "748e309a467741a79bb6ff93c3c2d16b": {
      "model_module": "@jupyter-widgets/controls",
      "model_module_version": "1.2.0",
      "model_name": "DescriptionStyleModel",
      "state": {
       "description_width": ""
      }
     },
     "7502817d661f4998873f8e3c8d376f3d": {
      "model_module": "@jupyter-widgets/controls",
      "model_module_version": "1.2.0",
      "model_name": "HTMLModel",
      "state": {
       "layout": "IPY_MODEL_f6c356b129fd443aa828040a10ef4433",
       "style": "IPY_MODEL_127d419ba0964474a6dc52baa7f33703",
       "value": "[loss: 0.012, acc: 0.996] : 100% 7769/7769 [00:12&lt;00:00, 605.31it/s]"
      }
     },
     "75d17aac70f14c5e8638403eda885c99": {
      "model_module": "@jupyter-widgets/base",
      "model_module_version": "1.0.0",
      "model_name": "LayoutModel",
      "state": {}
     },
     "75fa5e69f52a4da5b194387112758758": {
      "model_module": "@jupyter-widgets/controls",
      "model_module_version": "1.2.0",
      "model_name": "HTMLModel",
      "state": {
       "layout": "IPY_MODEL_b27f1e9cfa1640b780a88a677c98a3be",
       "style": "IPY_MODEL_0566d05e3ce84f00ae7f9105d73ef4c4",
       "value": "[loss: 0.003, acc: 0.999] : 100% 7769/7769 [00:12&lt;00:00, 599.84it/s]"
      }
     },
     "768e31aec74d4e5a91e6bac35f218700": {
      "model_module": "@jupyter-widgets/base",
      "model_module_version": "1.0.0",
      "model_name": "LayoutModel",
      "state": {}
     },
     "76c3e5d198544126a1910bea09778c49": {
      "model_module": "@jupyter-widgets/controls",
      "model_module_version": "1.2.0",
      "model_name": "HTMLModel",
      "state": {
       "layout": "IPY_MODEL_4f1384ea2e2e4e7a8702c704914ada5d",
       "style": "IPY_MODEL_42da45fa4a2b438398b66ed6c4bd5a73",
       "value": "[loss: 0.002, acc: 0.999] : 100% 7769/7769 [00:12&lt;00:00, 642.75it/s]"
      }
     },
     "7780028b49d646aaa27abfbb4a344344": {
      "model_module": "@jupyter-widgets/base",
      "model_module_version": "1.0.0",
      "model_name": "LayoutModel",
      "state": {}
     },
     "783c0d6edc7d4498bd846bfe3ce6f39a": {
      "model_module": "@jupyter-widgets/controls",
      "model_module_version": "1.2.0",
      "model_name": "ProgressStyleModel",
      "state": {
       "description_width": ""
      }
     },
     "78a19de680c34ede85a8be4e56df86e1": {
      "model_module": "@jupyter-widgets/controls",
      "model_module_version": "1.2.0",
      "model_name": "HTMLModel",
      "state": {
       "layout": "IPY_MODEL_6a5ac441b7ee4613a174e1228add876f",
       "style": "IPY_MODEL_b157cdd3fdf9481096a5c338f73f35c5",
       "value": "[loss: 0.002, acc: 1.000] : 100% 7769/7769 [00:12&lt;00:00, 631.53it/s]"
      }
     },
     "79a668af7f434c73964dbd4e1c7cebfc": {
      "model_module": "@jupyter-widgets/base",
      "model_module_version": "1.0.0",
      "model_name": "LayoutModel",
      "state": {}
     },
     "79efeb414f674fe596c3b317f5bf94ca": {
      "model_module": "@jupyter-widgets/controls",
      "model_module_version": "1.2.0",
      "model_name": "HTMLModel",
      "state": {
       "layout": "IPY_MODEL_0523741a8e0e47639fe97fd5e0d443f9",
       "style": "IPY_MODEL_2b64e61bd034433a9f333321e588383a",
       "value": "[loss: 0.005, acc: 0.999] : 100% 7769/7769 [00:12&lt;00:00, 633.56it/s]"
      }
     },
     "7ac555a5779b4be2a405bc6ea5e1e5b8": {
      "model_module": "@jupyter-widgets/controls",
      "model_module_version": "1.2.0",
      "model_name": "ProgressStyleModel",
      "state": {
       "description_width": ""
      }
     },
     "7ae53e48f8d64790bbb3b680592f60a9": {
      "model_module": "@jupyter-widgets/base",
      "model_module_version": "1.0.0",
      "model_name": "LayoutModel",
      "state": {}
     },
     "7b29448d37a44eb18ff12fde27756331": {
      "model_module": "@jupyter-widgets/controls",
      "model_module_version": "1.2.0",
      "model_name": "DescriptionStyleModel",
      "state": {
       "description_width": ""
      }
     },
     "7c07f9ccb7bb4d359e4d335cabb76040": {
      "model_module": "@jupyter-widgets/controls",
      "model_module_version": "1.2.0",
      "model_name": "ProgressStyleModel",
      "state": {
       "description_width": ""
      }
     },
     "7c1666954c544509a74f9de8ee15555c": {
      "model_module": "@jupyter-widgets/controls",
      "model_module_version": "1.2.0",
      "model_name": "ProgressStyleModel",
      "state": {
       "description_width": ""
      }
     },
     "7c5661fdc0934e3c81b30fd48572aa96": {
      "model_module": "@jupyter-widgets/base",
      "model_module_version": "1.0.0",
      "model_name": "LayoutModel",
      "state": {}
     },
     "7c7c4df59658470e86b06f054bf92a9a": {
      "model_module": "@jupyter-widgets/controls",
      "model_module_version": "1.2.0",
      "model_name": "ProgressStyleModel",
      "state": {
       "description_width": ""
      }
     },
     "7cffb3ffa8954f7796f85a6775e85f41": {
      "model_module": "@jupyter-widgets/base",
      "model_module_version": "1.0.0",
      "model_name": "LayoutModel",
      "state": {}
     },
     "7ef179e448904c4bbaeaa5dbe498e72f": {
      "model_module": "@jupyter-widgets/base",
      "model_module_version": "1.0.0",
      "model_name": "LayoutModel",
      "state": {}
     },
     "7f1b309810f246ce8ded042c56385fe6": {
      "model_module": "@jupyter-widgets/controls",
      "model_module_version": "1.2.0",
      "model_name": "ProgressStyleModel",
      "state": {
       "description_width": ""
      }
     },
     "7f67f2442f714eb9b4f82c2bf5cb0ab5": {
      "model_module": "@jupyter-widgets/controls",
      "model_module_version": "1.2.0",
      "model_name": "IntProgressModel",
      "state": {
       "description": "Epoch 20",
       "layout": "IPY_MODEL_f6e0f1e05b7c460e912746027d75680c",
       "max": 7769,
       "style": "IPY_MODEL_e4e37e4c3c63436b9c6cdd6941d340e4",
       "value": 7769
      }
     },
     "80534ccca792468e9e7956e015dba5b7": {
      "model_module": "@jupyter-widgets/controls",
      "model_module_version": "1.2.0",
      "model_name": "ProgressStyleModel",
      "state": {
       "description_width": ""
      }
     },
     "8092f902296c4cfa9d158b22fd4ff934": {
      "model_module": "@jupyter-widgets/controls",
      "model_module_version": "1.2.0",
      "model_name": "IntProgressModel",
      "state": {
       "description": "Epoch 39",
       "layout": "IPY_MODEL_d3a7acc4e4754169a244b22c5d6a0801",
       "max": 7769,
       "style": "IPY_MODEL_7c7c4df59658470e86b06f054bf92a9a",
       "value": 7769
      }
     },
     "81493df6beb846ef98beb0e334e54073": {
      "model_module": "@jupyter-widgets/controls",
      "model_module_version": "1.2.0",
      "model_name": "IntProgressModel",
      "state": {
       "description": "Epoch 30",
       "layout": "IPY_MODEL_ea3a3286889045e889d2110ee3ae5cc1",
       "max": 7769,
       "style": "IPY_MODEL_1ff6686b67464c5c860e6c8f4db0039b",
       "value": 7769
      }
     },
     "81b90f2f8b294af6a7a9733e365881cb": {
      "model_module": "@jupyter-widgets/controls",
      "model_module_version": "1.2.0",
      "model_name": "HTMLModel",
      "state": {
       "layout": "IPY_MODEL_3c0bc441154248c8bfb0e41b756508f4",
       "style": "IPY_MODEL_2efad3ceab4b4e8592be40b7c3816f42",
       "value": "[loss: 0.002, acc: 1.000] : 100% 7769/7769 [00:12&lt;00:00, 611.10it/s]"
      }
     },
     "82e4a1cae5dc4d30b29ce86297718e1c": {
      "model_module": "@jupyter-widgets/controls",
      "model_module_version": "1.2.0",
      "model_name": "IntProgressModel",
      "state": {
       "description": "Epoch 31",
       "layout": "IPY_MODEL_8ab88521847d47b28b00917ed839f767",
       "max": 7769,
       "style": "IPY_MODEL_fa9bdda97d5446528d5f5affd84ae0b9",
       "value": 7769
      }
     },
     "83c7d971633a47f1aaf04f5b6a7ce7cc": {
      "model_module": "@jupyter-widgets/controls",
      "model_module_version": "1.2.0",
      "model_name": "HTMLModel",
      "state": {
       "layout": "IPY_MODEL_7cffb3ffa8954f7796f85a6775e85f41",
       "style": "IPY_MODEL_33aa2ae331d144b8b0d1fc20742b79e7",
       "value": "[loss: 0.003, acc: 0.999] : 100% 7769/7769 [00:12&lt;00:00, 621.59it/s]"
      }
     },
     "852765f96c3548f3b8128f3dcfdf8148": {
      "model_module": "@jupyter-widgets/controls",
      "model_module_version": "1.2.0",
      "model_name": "ProgressStyleModel",
      "state": {
       "description_width": ""
      }
     },
     "853a277ca4314a02be3ea155916a2b61": {
      "model_module": "@jupyter-widgets/controls",
      "model_module_version": "1.2.0",
      "model_name": "HTMLModel",
      "state": {
       "layout": "IPY_MODEL_7780028b49d646aaa27abfbb4a344344",
       "style": "IPY_MODEL_1d95c2cb71404c268bfd08d757f5f226",
       "value": "[loss: 0.001, acc: 1.000] : 100% 7769/7769 [00:12&lt;00:00, 617.39it/s]"
      }
     },
     "85ef38b0ea33447cbfd12f87f3181d29": {
      "model_module": "@jupyter-widgets/controls",
      "model_module_version": "1.2.0",
      "model_name": "HTMLModel",
      "state": {
       "layout": "IPY_MODEL_4f308afa4bd54cf59d7527d72b3e8ebd",
       "style": "IPY_MODEL_aab6239daa73426b854bf0f50e1e609a",
       "value": "[loss: 0.001, acc: 1.000] : 100% 7769/7769 [00:12&lt;00:00, 611.62it/s]"
      }
     },
     "88b697e0c8e541cb91fd872bbb0b9c95": {
      "model_module": "@jupyter-widgets/controls",
      "model_module_version": "1.2.0",
      "model_name": "IntProgressModel",
      "state": {
       "description": "Epoch 21",
       "layout": "IPY_MODEL_06c7fdd5295e4240a4c743cb49460349",
       "max": 7769,
       "style": "IPY_MODEL_7f1b309810f246ce8ded042c56385fe6",
       "value": 7769
      }
     },
     "89300bd34846476487e9f86e52395b3a": {
      "model_module": "@jupyter-widgets/controls",
      "model_module_version": "1.2.0",
      "model_name": "DescriptionStyleModel",
      "state": {
       "description_width": ""
      }
     },
     "8932902953ac47dab3fb84a221934af9": {
      "model_module": "@jupyter-widgets/base",
      "model_module_version": "1.0.0",
      "model_name": "LayoutModel",
      "state": {}
     },
     "8959a218c9db4314a980e59752498ba7": {
      "model_module": "@jupyter-widgets/controls",
      "model_module_version": "1.2.0",
      "model_name": "DescriptionStyleModel",
      "state": {
       "description_width": ""
      }
     },
     "89d1501bda1b4bfcb4ff150c74402440": {
      "model_module": "@jupyter-widgets/controls",
      "model_module_version": "1.2.0",
      "model_name": "ProgressStyleModel",
      "state": {
       "description_width": ""
      }
     },
     "8a58dcbcd2194722a04baa3d36bc143b": {
      "model_module": "@jupyter-widgets/base",
      "model_module_version": "1.0.0",
      "model_name": "LayoutModel",
      "state": {}
     },
     "8ab88521847d47b28b00917ed839f767": {
      "model_module": "@jupyter-widgets/base",
      "model_module_version": "1.0.0",
      "model_name": "LayoutModel",
      "state": {}
     },
     "8ac710f7b3454e64a13657269ef33935": {
      "model_module": "@jupyter-widgets/base",
      "model_module_version": "1.0.0",
      "model_name": "LayoutModel",
      "state": {}
     },
     "8b51d80e200643a896142ded728f520b": {
      "model_module": "@jupyter-widgets/base",
      "model_module_version": "1.0.0",
      "model_name": "LayoutModel",
      "state": {}
     },
     "8bf2bf96546f47cbb45aa76bd82ca7b4": {
      "model_module": "@jupyter-widgets/controls",
      "model_module_version": "1.2.0",
      "model_name": "DescriptionStyleModel",
      "state": {
       "description_width": ""
      }
     },
     "8edc688c12a14f9abef1449a59260e86": {
      "model_module": "@jupyter-widgets/base",
      "model_module_version": "1.0.0",
      "model_name": "LayoutModel",
      "state": {}
     },
     "8f2265d5751846038adce1f935692d0e": {
      "model_module": "@jupyter-widgets/base",
      "model_module_version": "1.0.0",
      "model_name": "LayoutModel",
      "state": {}
     },
     "908dc90518c1444fb112b96cc25e0a71": {
      "model_module": "@jupyter-widgets/base",
      "model_module_version": "1.0.0",
      "model_name": "LayoutModel",
      "state": {}
     },
     "90a6d65477b4499f9ba20c170f3751a1": {
      "model_module": "@jupyter-widgets/controls",
      "model_module_version": "1.2.0",
      "model_name": "ProgressStyleModel",
      "state": {
       "description_width": ""
      }
     },
     "9113817285074c969fc8dcb58e87be10": {
      "model_module": "@jupyter-widgets/base",
      "model_module_version": "1.0.0",
      "model_name": "LayoutModel",
      "state": {}
     },
     "91d882272d6c4acd84cc3790eb4f20fc": {
      "model_module": "@jupyter-widgets/base",
      "model_module_version": "1.0.0",
      "model_name": "LayoutModel",
      "state": {}
     },
     "9385f94133e747b2b9ad4e1e7a6e2e5b": {
      "model_module": "@jupyter-widgets/controls",
      "model_module_version": "1.2.0",
      "model_name": "HTMLModel",
      "state": {
       "layout": "IPY_MODEL_ecc5a0ea2fb34c3ebca96551e7b576cc",
       "style": "IPY_MODEL_13e6200f9c2a4bba9cb006ae584cb7a4",
       "value": "[loss: 0.002, acc: 0.999] : 100% 7769/7769 [00:12&lt;00:00, 587.00it/s]"
      }
     },
     "93aef352714f403b8d086e359f96c5db": {
      "model_module": "@jupyter-widgets/base",
      "model_module_version": "1.0.0",
      "model_name": "LayoutModel",
      "state": {}
     },
     "93c2756e0d6c40f5af1d75f299e453c0": {
      "model_module": "@jupyter-widgets/base",
      "model_module_version": "1.0.0",
      "model_name": "LayoutModel",
      "state": {}
     },
     "93d0f12a79924c589fd4abbc115fda0a": {
      "model_module": "@jupyter-widgets/base",
      "model_module_version": "1.0.0",
      "model_name": "LayoutModel",
      "state": {}
     },
     "95133d365cf34f378c1334a27329d143": {
      "model_module": "@jupyter-widgets/base",
      "model_module_version": "1.0.0",
      "model_name": "LayoutModel",
      "state": {}
     },
     "95ae30df6eaf4dd8a2d2c2e50494b2ed": {
      "model_module": "@jupyter-widgets/controls",
      "model_module_version": "1.2.0",
      "model_name": "IntProgressModel",
      "state": {
       "description": "Epoch 18",
       "layout": "IPY_MODEL_9d6cf3fb31174176905dbbadc5ad82d5",
       "max": 7769,
       "style": "IPY_MODEL_80534ccca792468e9e7956e015dba5b7",
       "value": 7769
      }
     },
     "967fe95ee8f6468192c43c2e56d98e01": {
      "model_module": "@jupyter-widgets/base",
      "model_module_version": "1.0.0",
      "model_name": "LayoutModel",
      "state": {}
     },
     "9683a3840f2143259121e969739499d8": {
      "model_module": "@jupyter-widgets/base",
      "model_module_version": "1.0.0",
      "model_name": "LayoutModel",
      "state": {}
     },
     "96a8a56c8d1347549ab3d10f6f5184e6": {
      "model_module": "@jupyter-widgets/controls",
      "model_module_version": "1.2.0",
      "model_name": "ProgressStyleModel",
      "state": {
       "description_width": ""
      }
     },
     "96b210aec9c84e63b005d17800585ef7": {
      "model_module": "@jupyter-widgets/controls",
      "model_module_version": "1.2.0",
      "model_name": "IntProgressModel",
      "state": {
       "description": "Epoch 35",
       "layout": "IPY_MODEL_08e82c3a23fb4fed9b83560d7170cb5d",
       "max": 7769,
       "style": "IPY_MODEL_ef970a4686d147128a2c4d523c80752a",
       "value": 7769
      }
     },
     "97bff626b1c049b7860b8e13aecf5078": {
      "model_module": "@jupyter-widgets/controls",
      "model_module_version": "1.2.0",
      "model_name": "IntProgressModel",
      "state": {
       "description": "Epoch 49",
       "layout": "IPY_MODEL_2ff6c21b40a04d6da16bf8fa6c3e5575",
       "max": 7769,
       "style": "IPY_MODEL_783c0d6edc7d4498bd846bfe3ce6f39a",
       "value": 7769
      }
     },
     "983ad2bdc7fd4df8b0482e2dde2d0895": {
      "model_module": "@jupyter-widgets/controls",
      "model_module_version": "1.2.0",
      "model_name": "DescriptionStyleModel",
      "state": {
       "description_width": ""
      }
     },
     "995390f8af804e64af54c46a0763bf0e": {
      "model_module": "@jupyter-widgets/controls",
      "model_module_version": "1.2.0",
      "model_name": "IntProgressModel",
      "state": {
       "description": "Epoch 44",
       "layout": "IPY_MODEL_b30811eee99c4db793f0d123a92f4a3d",
       "max": 7769,
       "style": "IPY_MODEL_f21eab9d03834887a0d91e6804edfe3a",
       "value": 7769
      }
     },
     "99b833e856084fba96c694c1c1e9e4be": {
      "model_module": "@jupyter-widgets/base",
      "model_module_version": "1.0.0",
      "model_name": "LayoutModel",
      "state": {}
     },
     "99b891775a7f4dc58a677b9440f4351f": {
      "model_module": "@jupyter-widgets/controls",
      "model_module_version": "1.2.0",
      "model_name": "IntProgressModel",
      "state": {
       "description": "Epoch 5",
       "layout": "IPY_MODEL_c2a3237aaa3148beacb2e64f62050605",
       "max": 7769,
       "style": "IPY_MODEL_e9c6cf84cf404853be5b5cfa9d94281e",
       "value": 7769
      }
     },
     "9bfafda30d3d40798616d3dd0e383240": {
      "model_module": "@jupyter-widgets/base",
      "model_module_version": "1.0.0",
      "model_name": "LayoutModel",
      "state": {}
     },
     "9d58d96e62894d0fa750b9f1c36ee57e": {
      "model_module": "@jupyter-widgets/controls",
      "model_module_version": "1.2.0",
      "model_name": "DescriptionStyleModel",
      "state": {
       "description_width": ""
      }
     },
     "9d6cf3fb31174176905dbbadc5ad82d5": {
      "model_module": "@jupyter-widgets/base",
      "model_module_version": "1.0.0",
      "model_name": "LayoutModel",
      "state": {}
     },
     "9e96bf9534c54fa69318486bb1c64dea": {
      "model_module": "@jupyter-widgets/controls",
      "model_module_version": "1.2.0",
      "model_name": "IntProgressModel",
      "state": {
       "description": "Epoch 41",
       "layout": "IPY_MODEL_8ac710f7b3454e64a13657269ef33935",
       "max": 7769,
       "style": "IPY_MODEL_28a786d937c64f4085f486a52ef1d452",
       "value": 7769
      }
     },
     "9f166356c25e42849d832af0a93e09e0": {
      "model_module": "@jupyter-widgets/controls",
      "model_module_version": "1.2.0",
      "model_name": "ProgressStyleModel",
      "state": {
       "description_width": ""
      }
     },
     "9f2de28964cf43029bb0d411e2683dcb": {
      "model_module": "@jupyter-widgets/controls",
      "model_module_version": "1.2.0",
      "model_name": "ProgressStyleModel",
      "state": {
       "description_width": ""
      }
     },
     "9f2f59fa98774444a60215b8cdf0127d": {
      "model_module": "@jupyter-widgets/controls",
      "model_module_version": "1.2.0",
      "model_name": "HTMLModel",
      "state": {
       "layout": "IPY_MODEL_9bfafda30d3d40798616d3dd0e383240",
       "style": "IPY_MODEL_d70f35d5de8e419e86e85e8e17c52b9e",
       "value": "[loss: 0.004, acc: 0.999] : 100% 7769/7769 [00:12&lt;00:00, 592.75it/s]"
      }
     },
     "9fafb973060f4a5e8e065535e00e4474": {
      "model_module": "@jupyter-widgets/controls",
      "model_module_version": "1.2.0",
      "model_name": "DescriptionStyleModel",
      "state": {
       "description_width": ""
      }
     },
     "9fb569929c56432f8bcdf0ea67605458": {
      "model_module": "@jupyter-widgets/controls",
      "model_module_version": "1.2.0",
      "model_name": "ProgressStyleModel",
      "state": {
       "description_width": ""
      }
     },
     "a3339faf7d9e468381756c5b17190625": {
      "model_module": "@jupyter-widgets/base",
      "model_module_version": "1.0.0",
      "model_name": "LayoutModel",
      "state": {}
     },
     "a4f465f6584540dc964a95ca2451a15d": {
      "model_module": "@jupyter-widgets/controls",
      "model_module_version": "1.2.0",
      "model_name": "IntProgressModel",
      "state": {
       "description": "Epoch 11",
       "layout": "IPY_MODEL_faf8ee981da74fcdabed99c42244226f",
       "max": 7769,
       "style": "IPY_MODEL_7c1666954c544509a74f9de8ee15555c",
       "value": 7769
      }
     },
     "a5896618c5d64ce29b1b1c7e7c962fc5": {
      "model_module": "@jupyter-widgets/controls",
      "model_module_version": "1.2.0",
      "model_name": "DescriptionStyleModel",
      "state": {
       "description_width": ""
      }
     },
     "a72209e5ba0b4ed0a269be6400f63a4b": {
      "model_module": "@jupyter-widgets/controls",
      "model_module_version": "1.2.0",
      "model_name": "HTMLModel",
      "state": {
       "layout": "IPY_MODEL_3f8f4517464e4a63a0e6ccdc94a65186",
       "style": "IPY_MODEL_89300bd34846476487e9f86e52395b3a",
       "value": "[loss: 0.002, acc: 1.000] : 100% 7769/7769 [00:12&lt;00:00, 633.07it/s]"
      }
     },
     "a743ac25974843cca83d1ba8a63eb569": {
      "model_module": "@jupyter-widgets/base",
      "model_module_version": "1.0.0",
      "model_name": "LayoutModel",
      "state": {}
     },
     "a7c39776dd7c47368c42363ed0e9c354": {
      "model_module": "@jupyter-widgets/controls",
      "model_module_version": "1.2.0",
      "model_name": "HTMLModel",
      "state": {
       "layout": "IPY_MODEL_ee2791c068464d80a251ac03a6f76f47",
       "style": "IPY_MODEL_4bd634d8136849e392ae708d91e612e0",
       "value": "[loss: 0.001, acc: 1.000] : 100% 7769/7769 [00:12&lt;00:00, 598.86it/s]"
      }
     },
     "a8ce00e194f04982b6fdfe45675e6805": {
      "model_module": "@jupyter-widgets/controls",
      "model_module_version": "1.2.0",
      "model_name": "DescriptionStyleModel",
      "state": {
       "description_width": ""
      }
     },
     "aa478c8232bd490b8ecad3d3e0f9a0f6": {
      "model_module": "@jupyter-widgets/base",
      "model_module_version": "1.0.0",
      "model_name": "LayoutModel",
      "state": {}
     },
     "aa66e9bc3f7b44a59bc04f5c2cfe04ce": {
      "model_module": "@jupyter-widgets/controls",
      "model_module_version": "1.2.0",
      "model_name": "ProgressStyleModel",
      "state": {
       "description_width": ""
      }
     },
     "aab6239daa73426b854bf0f50e1e609a": {
      "model_module": "@jupyter-widgets/controls",
      "model_module_version": "1.2.0",
      "model_name": "DescriptionStyleModel",
      "state": {
       "description_width": ""
      }
     },
     "ab28bb646e8d4b22aabf3b2fbbd3e849": {
      "model_module": "@jupyter-widgets/base",
      "model_module_version": "1.0.0",
      "model_name": "LayoutModel",
      "state": {}
     },
     "ac656e5bdeb84705bb2add4e9d74df75": {
      "model_module": "@jupyter-widgets/base",
      "model_module_version": "1.0.0",
      "model_name": "LayoutModel",
      "state": {}
     },
     "ad2ba6539eef4fedb9aaff32593c4a6c": {
      "model_module": "@jupyter-widgets/base",
      "model_module_version": "1.0.0",
      "model_name": "LayoutModel",
      "state": {}
     },
     "ae637e02bc614787b440909c3f7200f7": {
      "model_module": "@jupyter-widgets/controls",
      "model_module_version": "1.2.0",
      "model_name": "DescriptionStyleModel",
      "state": {
       "description_width": ""
      }
     },
     "ae759590b5304267a7fc83392df95bec": {
      "model_module": "@jupyter-widgets/base",
      "model_module_version": "1.0.0",
      "model_name": "LayoutModel",
      "state": {}
     },
     "afd4f57365334f578e2893ff36091f35": {
      "model_module": "@jupyter-widgets/controls",
      "model_module_version": "1.2.0",
      "model_name": "IntProgressModel",
      "state": {
       "description": "Epoch 13",
       "layout": "IPY_MODEL_9113817285074c969fc8dcb58e87be10",
       "max": 7769,
       "style": "IPY_MODEL_89d1501bda1b4bfcb4ff150c74402440",
       "value": 7769
      }
     },
     "b131729fbfcb4528a8520a04708b6376": {
      "model_module": "@jupyter-widgets/base",
      "model_module_version": "1.0.0",
      "model_name": "LayoutModel",
      "state": {}
     },
     "b157cdd3fdf9481096a5c338f73f35c5": {
      "model_module": "@jupyter-widgets/controls",
      "model_module_version": "1.2.0",
      "model_name": "DescriptionStyleModel",
      "state": {
       "description_width": ""
      }
     },
     "b1a95e3e2be3491bbf487637043b5ea4": {
      "model_module": "@jupyter-widgets/base",
      "model_module_version": "1.0.0",
      "model_name": "LayoutModel",
      "state": {}
     },
     "b25b73a229c64388bbbfa64c1b06a5c0": {
      "model_module": "@jupyter-widgets/controls",
      "model_module_version": "1.2.0",
      "model_name": "DescriptionStyleModel",
      "state": {
       "description_width": ""
      }
     },
     "b27f1e9cfa1640b780a88a677c98a3be": {
      "model_module": "@jupyter-widgets/base",
      "model_module_version": "1.0.0",
      "model_name": "LayoutModel",
      "state": {}
     },
     "b2ab9cdb01db47c1a79a89f101d567e9": {
      "model_module": "@jupyter-widgets/controls",
      "model_module_version": "1.2.0",
      "model_name": "IntProgressModel",
      "state": {
       "description": "Epoch 3",
       "layout": "IPY_MODEL_e460d2a8f3934bf193250ddc48a90159",
       "max": 7769,
       "style": "IPY_MODEL_1a041714cacf453bb3a6dfd1c063dc08",
       "value": 7769
      }
     },
     "b30811eee99c4db793f0d123a92f4a3d": {
      "model_module": "@jupyter-widgets/base",
      "model_module_version": "1.0.0",
      "model_name": "LayoutModel",
      "state": {}
     },
     "b338fe6b649c4877ba69744b631a5809": {
      "model_module": "@jupyter-widgets/controls",
      "model_module_version": "1.2.0",
      "model_name": "IntProgressModel",
      "state": {
       "description": "Epoch 19",
       "layout": "IPY_MODEL_7ae53e48f8d64790bbb3b680592f60a9",
       "max": 7769,
       "style": "IPY_MODEL_f35e522b11564231a963d9ba61f4e85d",
       "value": 7769
      }
     },
     "b460720a659a411694d29b4c59eee8ea": {
      "model_module": "@jupyter-widgets/controls",
      "model_module_version": "1.2.0",
      "model_name": "DescriptionStyleModel",
      "state": {
       "description_width": ""
      }
     },
     "b477f8253533400295c5fdb6110c5c24": {
      "model_module": "@jupyter-widgets/base",
      "model_module_version": "1.0.0",
      "model_name": "LayoutModel",
      "state": {}
     },
     "b4be9daa13cf4d67a5c6d5e0219280f4": {
      "model_module": "@jupyter-widgets/controls",
      "model_module_version": "1.2.0",
      "model_name": "HTMLModel",
      "state": {
       "layout": "IPY_MODEL_f795310204e348aebeea54143cedaaa2",
       "style": "IPY_MODEL_2c7f935d08b94df49c4e6d325643abd4",
       "value": "[loss: 0.001, acc: 1.000] : 100% 7769/7769 [00:12&lt;00:00, 629.02it/s]"
      }
     },
     "b4c3ac08687044349d8d66ed1b80c061": {
      "model_module": "@jupyter-widgets/controls",
      "model_module_version": "1.2.0",
      "model_name": "IntProgressModel",
      "state": {
       "description": "Epoch 38",
       "layout": "IPY_MODEL_0d07acf0ff8747eea7fc6858ce03f6f5",
       "max": 7769,
       "style": "IPY_MODEL_0a6791bc18cb41f395670df97e151f6f",
       "value": 7769
      }
     },
     "b81be3d142fa4e4593b5ae102698bcbe": {
      "model_module": "@jupyter-widgets/controls",
      "model_module_version": "1.2.0",
      "model_name": "DescriptionStyleModel",
      "state": {
       "description_width": ""
      }
     },
     "b835dd6a2b6843a28bba3fbce3cd4067": {
      "model_module": "@jupyter-widgets/controls",
      "model_module_version": "1.2.0",
      "model_name": "DescriptionStyleModel",
      "state": {
       "description_width": ""
      }
     },
     "b844dd65264746a2a9025009064393a3": {
      "model_module": "@jupyter-widgets/base",
      "model_module_version": "1.0.0",
      "model_name": "LayoutModel",
      "state": {}
     },
     "baf24443469442ac92d1037bbe694a99": {
      "model_module": "@jupyter-widgets/controls",
      "model_module_version": "1.2.0",
      "model_name": "DescriptionStyleModel",
      "state": {
       "description_width": ""
      }
     },
     "bbcc3c9292f54dfba069f5d7db5e22b9": {
      "model_module": "@jupyter-widgets/base",
      "model_module_version": "1.0.0",
      "model_name": "LayoutModel",
      "state": {}
     },
     "bbf53fa2ca1d42a696dadaeead266b6e": {
      "model_module": "@jupyter-widgets/controls",
      "model_module_version": "1.2.0",
      "model_name": "IntProgressModel",
      "state": {
       "description": "Epoch 12",
       "layout": "IPY_MODEL_8b51d80e200643a896142ded728f520b",
       "max": 7769,
       "style": "IPY_MODEL_aa66e9bc3f7b44a59bc04f5c2cfe04ce",
       "value": 7769
      }
     },
     "bdf826bee34047c995deab58fc6ae555": {
      "model_module": "@jupyter-widgets/base",
      "model_module_version": "1.0.0",
      "model_name": "LayoutModel",
      "state": {}
     },
     "bf396d857dcb4f62a3c87d64592f033a": {
      "model_module": "@jupyter-widgets/controls",
      "model_module_version": "1.2.0",
      "model_name": "ProgressStyleModel",
      "state": {
       "description_width": ""
      }
     },
     "c115912371ae4fb79bc8d1a11046d768": {
      "model_module": "@jupyter-widgets/controls",
      "model_module_version": "1.2.0",
      "model_name": "HTMLModel",
      "state": {
       "layout": "IPY_MODEL_f370073cb9e74b46a184cc1512793155",
       "style": "IPY_MODEL_f9a0c97c01184e448b7d581f57f85437",
       "value": "[loss: 0.001, acc: 1.000] : 100% 7769/7769 [00:12&lt;00:00, 610.16it/s]"
      }
     },
     "c14302a8ee4647adb49853d8a7c7b6e3": {
      "model_module": "@jupyter-widgets/controls",
      "model_module_version": "1.2.0",
      "model_name": "HTMLModel",
      "state": {
       "layout": "IPY_MODEL_6a7a4c590cea45eeae7ce5117c1cb3c8",
       "style": "IPY_MODEL_5b98d26ae9d14395a19cc3c7d0ac408d",
       "value": "[loss: 0.002, acc: 1.000] : 100% 7769/7769 [00:12&lt;00:00, 636.47it/s]"
      }
     },
     "c193aa9a88b34c25a3bf8bfe2d004dbe": {
      "model_module": "@jupyter-widgets/controls",
      "model_module_version": "1.2.0",
      "model_name": "ProgressStyleModel",
      "state": {
       "description_width": ""
      }
     },
     "c2a3237aaa3148beacb2e64f62050605": {
      "model_module": "@jupyter-widgets/base",
      "model_module_version": "1.0.0",
      "model_name": "LayoutModel",
      "state": {}
     },
     "c3c63e9354974b2fadac74d42e967f0f": {
      "model_module": "@jupyter-widgets/controls",
      "model_module_version": "1.2.0",
      "model_name": "IntProgressModel",
      "state": {
       "description": "Epoch 10",
       "layout": "IPY_MODEL_ab28bb646e8d4b22aabf3b2fbbd3e849",
       "max": 7769,
       "style": "IPY_MODEL_bf396d857dcb4f62a3c87d64592f033a",
       "value": 7769
      }
     },
     "c43e08f068914ec991c318124345d76f": {
      "model_module": "@jupyter-widgets/controls",
      "model_module_version": "1.2.0",
      "model_name": "IntProgressModel",
      "state": {
       "description": "Epoch 7",
       "layout": "IPY_MODEL_0a9bbf0175fb40ee8cade215efde1ec5",
       "max": 7769,
       "style": "IPY_MODEL_34a22d003ced46a0bd0282409dccb251",
       "value": 7769
      }
     },
     "c63c30f2d61c4d7985ae8eb18d5d9f4d": {
      "model_module": "@jupyter-widgets/base",
      "model_module_version": "1.0.0",
      "model_name": "LayoutModel",
      "state": {}
     },
     "c8a26abfa87c432d9bf6795bd6c94e1d": {
      "model_module": "@jupyter-widgets/base",
      "model_module_version": "1.0.0",
      "model_name": "LayoutModel",
      "state": {}
     },
     "c8f989a6651049f795f8afd0914822b2": {
      "model_module": "@jupyter-widgets/base",
      "model_module_version": "1.0.0",
      "model_name": "LayoutModel",
      "state": {}
     },
     "c99c117d8d4a413080911031a7243fad": {
      "model_module": "@jupyter-widgets/base",
      "model_module_version": "1.0.0",
      "model_name": "LayoutModel",
      "state": {}
     },
     "c9c337aec5ad4a91b1802a465512797e": {
      "model_module": "@jupyter-widgets/base",
      "model_module_version": "1.0.0",
      "model_name": "LayoutModel",
      "state": {}
     },
     "c9e0dd5cbd524f0b936aa6f3e5c0fc47": {
      "model_module": "@jupyter-widgets/base",
      "model_module_version": "1.0.0",
      "model_name": "LayoutModel",
      "state": {}
     },
     "ca52f3a311fa4503a4f1d5bf87a7efc4": {
      "model_module": "@jupyter-widgets/controls",
      "model_module_version": "1.2.0",
      "model_name": "ProgressStyleModel",
      "state": {
       "description_width": ""
      }
     },
     "ca63f53b50bf463e9817014cea83fa30": {
      "model_module": "@jupyter-widgets/base",
      "model_module_version": "1.0.0",
      "model_name": "LayoutModel",
      "state": {}
     },
     "cac4c78da90b4e8ea8b065fdbc3a01af": {
      "model_module": "@jupyter-widgets/base",
      "model_module_version": "1.0.0",
      "model_name": "LayoutModel",
      "state": {}
     },
     "cb0b19ce9cb241a0b7c27475a969cc95": {
      "model_module": "@jupyter-widgets/controls",
      "model_module_version": "1.2.0",
      "model_name": "DescriptionStyleModel",
      "state": {
       "description_width": ""
      }
     },
     "cbb3aa75fa8940d2a6f33b4409440adb": {
      "model_module": "@jupyter-widgets/controls",
      "model_module_version": "1.2.0",
      "model_name": "IntProgressModel",
      "state": {
       "description": "Epoch 4",
       "layout": "IPY_MODEL_908dc90518c1444fb112b96cc25e0a71",
       "max": 7769,
       "style": "IPY_MODEL_035ca924d4974d6b8665f66a86d32497",
       "value": 7769
      }
     },
     "cc3d82497da34b32b7a4aafcd268ee20": {
      "model_module": "@jupyter-widgets/base",
      "model_module_version": "1.0.0",
      "model_name": "LayoutModel",
      "state": {}
     },
     "ccb96f90388242cd86ebaa138690d954": {
      "model_module": "@jupyter-widgets/controls",
      "model_module_version": "1.2.0",
      "model_name": "IntProgressModel",
      "state": {
       "description": "Epoch 0",
       "layout": "IPY_MODEL_768e31aec74d4e5a91e6bac35f218700",
       "max": 7769,
       "style": "IPY_MODEL_3d1a59de0b994431ad4bf416781ed655",
       "value": 7769
      }
     },
     "cee5d9b887a9432cb43f2c4be05938db": {
      "model_module": "@jupyter-widgets/base",
      "model_module_version": "1.0.0",
      "model_name": "LayoutModel",
      "state": {}
     },
     "d15d6635fdea4895b5f8a8cc62bf8ca3": {
      "model_module": "@jupyter-widgets/base",
      "model_module_version": "1.0.0",
      "model_name": "LayoutModel",
      "state": {}
     },
     "d2e1aaee7598446ca5fe54c974792820": {
      "model_module": "@jupyter-widgets/controls",
      "model_module_version": "1.2.0",
      "model_name": "DescriptionStyleModel",
      "state": {
       "description_width": ""
      }
     },
     "d3a7acc4e4754169a244b22c5d6a0801": {
      "model_module": "@jupyter-widgets/base",
      "model_module_version": "1.0.0",
      "model_name": "LayoutModel",
      "state": {}
     },
     "d3c5326ae8e249c2ba19006bfda1ff51": {
      "model_module": "@jupyter-widgets/base",
      "model_module_version": "1.0.0",
      "model_name": "LayoutModel",
      "state": {}
     },
     "d70f35d5de8e419e86e85e8e17c52b9e": {
      "model_module": "@jupyter-widgets/controls",
      "model_module_version": "1.2.0",
      "model_name": "DescriptionStyleModel",
      "state": {
       "description_width": ""
      }
     },
     "d81461fd7c344d7e9620a14d0a6b63bc": {
      "model_module": "@jupyter-widgets/controls",
      "model_module_version": "1.2.0",
      "model_name": "ProgressStyleModel",
      "state": {
       "description_width": ""
      }
     },
     "d87c3100650b4b46a238ad56dedb3d31": {
      "model_module": "@jupyter-widgets/base",
      "model_module_version": "1.0.0",
      "model_name": "LayoutModel",
      "state": {}
     },
     "d8d0441fb9814aafaac57806fe9149b7": {
      "model_module": "@jupyter-widgets/controls",
      "model_module_version": "1.2.0",
      "model_name": "ProgressStyleModel",
      "state": {
       "description_width": ""
      }
     },
     "d90ce4b3babf4f60b5d1c1ad9e3c6187": {
      "model_module": "@jupyter-widgets/controls",
      "model_module_version": "1.2.0",
      "model_name": "IntProgressModel",
      "state": {
       "description": "Epoch 46",
       "layout": "IPY_MODEL_4327110a2cec4946b1a4e47e1d8b5ccb",
       "max": 7769,
       "style": "IPY_MODEL_725b6f26e735428d814d381b16231d36",
       "value": 7769
      }
     },
     "dd88abfaf7284576b4d576c3de788b8f": {
      "model_module": "@jupyter-widgets/controls",
      "model_module_version": "1.2.0",
      "model_name": "HTMLModel",
      "state": {
       "layout": "IPY_MODEL_d15d6635fdea4895b5f8a8cc62bf8ca3",
       "style": "IPY_MODEL_ae637e02bc614787b440909c3f7200f7",
       "value": "[loss: 0.002, acc: 0.999] : 100% 7769/7769 [00:12&lt;00:00, 596.31it/s]"
      }
     },
     "de5ba3fa2a5842f98632acb052c01cf5": {
      "model_module": "@jupyter-widgets/base",
      "model_module_version": "1.0.0",
      "model_name": "LayoutModel",
      "state": {}
     },
     "df46960317ed46ad9b77d32a1cae307b": {
      "model_module": "@jupyter-widgets/controls",
      "model_module_version": "1.2.0",
      "model_name": "ProgressStyleModel",
      "state": {
       "description_width": ""
      }
     },
     "dfb48fc893db400fb63b849badbc1f04": {
      "model_module": "@jupyter-widgets/controls",
      "model_module_version": "1.2.0",
      "model_name": "IntProgressModel",
      "state": {
       "description": "Epoch 24",
       "layout": "IPY_MODEL_d3c5326ae8e249c2ba19006bfda1ff51",
       "max": 7769,
       "style": "IPY_MODEL_90a6d65477b4499f9ba20c170f3751a1",
       "value": 7769
      }
     },
     "e02711fd25dc45e0bc1511726a14197f": {
      "model_module": "@jupyter-widgets/controls",
      "model_module_version": "1.2.0",
      "model_name": "IntProgressModel",
      "state": {
       "description": "Epoch 6",
       "layout": "IPY_MODEL_6863c4c42976432baf6b6304760b9ab9",
       "max": 7769,
       "style": "IPY_MODEL_c193aa9a88b34c25a3bf8bfe2d004dbe",
       "value": 7769
      }
     },
     "e0fd7fbccff64468ab0a8ad4b8a40751": {
      "model_module": "@jupyter-widgets/base",
      "model_module_version": "1.0.0",
      "model_name": "LayoutModel",
      "state": {}
     },
     "e114946699c34d68a7806d3232ec9cc5": {
      "model_module": "@jupyter-widgets/controls",
      "model_module_version": "1.2.0",
      "model_name": "HTMLModel",
      "state": {
       "layout": "IPY_MODEL_f4f8b58502044679b7401a5e3b23d835",
       "style": "IPY_MODEL_e3d77c04f9e0441aab6a4a298acae64a",
       "value": "[loss: 0.001, acc: 1.000] : 100% 7769/7769 [00:12&lt;00:00, 624.61it/s]"
      }
     },
     "e12fd604ae604c58870c12ba5f11a74d": {
      "model_module": "@jupyter-widgets/controls",
      "model_module_version": "1.2.0",
      "model_name": "HTMLModel",
      "state": {
       "layout": "IPY_MODEL_2dbae45ea9034f7e8c4ae75cd6a857d0",
       "style": "IPY_MODEL_61ce28744e1b49d6b143458dc8bcb194",
       "value": "[loss: 0.001, acc: 1.000] : 100% 7769/7769 [00:12&lt;00:00, 621.43it/s]"
      }
     },
     "e2c2a094211a42258dd62de362767c1a": {
      "model_module": "@jupyter-widgets/controls",
      "model_module_version": "1.2.0",
      "model_name": "IntProgressModel",
      "state": {
       "description": "Epoch 17",
       "layout": "IPY_MODEL_4a521c8f5275454b99985ec46ff1fa7a",
       "max": 7769,
       "style": "IPY_MODEL_df46960317ed46ad9b77d32a1cae307b",
       "value": 7769
      }
     },
     "e3d77c04f9e0441aab6a4a298acae64a": {
      "model_module": "@jupyter-widgets/controls",
      "model_module_version": "1.2.0",
      "model_name": "DescriptionStyleModel",
      "state": {
       "description_width": ""
      }
     },
     "e460d2a8f3934bf193250ddc48a90159": {
      "model_module": "@jupyter-widgets/base",
      "model_module_version": "1.0.0",
      "model_name": "LayoutModel",
      "state": {}
     },
     "e4e37e4c3c63436b9c6cdd6941d340e4": {
      "model_module": "@jupyter-widgets/controls",
      "model_module_version": "1.2.0",
      "model_name": "ProgressStyleModel",
      "state": {
       "description_width": ""
      }
     },
     "e58b4c7c4d5648aea9b045c11154004d": {
      "model_module": "@jupyter-widgets/controls",
      "model_module_version": "1.2.0",
      "model_name": "IntProgressModel",
      "state": {
       "description": "Epoch 29",
       "layout": "IPY_MODEL_216d45dd7201429da9223c801304c1bc",
       "max": 7769,
       "style": "IPY_MODEL_ca52f3a311fa4503a4f1d5bf87a7efc4",
       "value": 7769
      }
     },
     "e5dc2483aa7c43f98c318cff794b43ef": {
      "model_module": "@jupyter-widgets/controls",
      "model_module_version": "1.2.0",
      "model_name": "DescriptionStyleModel",
      "state": {
       "description_width": ""
      }
     },
     "e6ba9649f1e2461db6ecb0f885144866": {
      "model_module": "@jupyter-widgets/base",
      "model_module_version": "1.0.0",
      "model_name": "LayoutModel",
      "state": {}
     },
     "e8befde6c2a24cf785966d9131db92df": {
      "model_module": "@jupyter-widgets/base",
      "model_module_version": "1.0.0",
      "model_name": "LayoutModel",
      "state": {}
     },
     "e9c6cf84cf404853be5b5cfa9d94281e": {
      "model_module": "@jupyter-widgets/controls",
      "model_module_version": "1.2.0",
      "model_name": "ProgressStyleModel",
      "state": {
       "description_width": ""
      }
     },
     "ea3a3286889045e889d2110ee3ae5cc1": {
      "model_module": "@jupyter-widgets/base",
      "model_module_version": "1.0.0",
      "model_name": "LayoutModel",
      "state": {}
     },
     "eaab5085bae74398b003d3b0e36852fd": {
      "model_module": "@jupyter-widgets/base",
      "model_module_version": "1.0.0",
      "model_name": "LayoutModel",
      "state": {}
     },
     "ec0da04a2b5f4a968d0f26f299c8014a": {
      "model_module": "@jupyter-widgets/base",
      "model_module_version": "1.0.0",
      "model_name": "LayoutModel",
      "state": {}
     },
     "ecc5a0ea2fb34c3ebca96551e7b576cc": {
      "model_module": "@jupyter-widgets/base",
      "model_module_version": "1.0.0",
      "model_name": "LayoutModel",
      "state": {}
     },
     "ee0d1ac839e94e72aaaa1f7718c96df4": {
      "model_module": "@jupyter-widgets/controls",
      "model_module_version": "1.2.0",
      "model_name": "ProgressStyleModel",
      "state": {
       "description_width": ""
      }
     },
     "ee2791c068464d80a251ac03a6f76f47": {
      "model_module": "@jupyter-widgets/base",
      "model_module_version": "1.0.0",
      "model_name": "LayoutModel",
      "state": {}
     },
     "ef18c669e7594ab4a16bd8b8bb7f1f3a": {
      "model_module": "@jupyter-widgets/controls",
      "model_module_version": "1.2.0",
      "model_name": "HTMLModel",
      "state": {
       "layout": "IPY_MODEL_75d17aac70f14c5e8638403eda885c99",
       "style": "IPY_MODEL_1195de4fa7994e17a77a471e6ad6550e",
       "value": "[loss: 0.001, acc: 1.000] : 100% 7769/7769 [00:12&lt;00:00, 615.26it/s]"
      }
     },
     "ef970a4686d147128a2c4d523c80752a": {
      "model_module": "@jupyter-widgets/controls",
      "model_module_version": "1.2.0",
      "model_name": "ProgressStyleModel",
      "state": {
       "description_width": ""
      }
     },
     "f0f01b4046da4b19ba90175b96877aeb": {
      "model_module": "@jupyter-widgets/controls",
      "model_module_version": "1.2.0",
      "model_name": "HTMLModel",
      "state": {
       "layout": "IPY_MODEL_2b234022f35146bb9c2ad4df675aaa9a",
       "style": "IPY_MODEL_b460720a659a411694d29b4c59eee8ea",
       "value": "[loss: 0.002, acc: 1.000] : 100% 7769/7769 [00:12&lt;00:00, 606.02it/s]"
      }
     },
     "f21eab9d03834887a0d91e6804edfe3a": {
      "model_module": "@jupyter-widgets/controls",
      "model_module_version": "1.2.0",
      "model_name": "ProgressStyleModel",
      "state": {
       "description_width": ""
      }
     },
     "f35e522b11564231a963d9ba61f4e85d": {
      "model_module": "@jupyter-widgets/controls",
      "model_module_version": "1.2.0",
      "model_name": "ProgressStyleModel",
      "state": {
       "description_width": ""
      }
     },
     "f370073cb9e74b46a184cc1512793155": {
      "model_module": "@jupyter-widgets/base",
      "model_module_version": "1.0.0",
      "model_name": "LayoutModel",
      "state": {}
     },
     "f3820cb804b847eb9e46d94e2d9e8150": {
      "model_module": "@jupyter-widgets/controls",
      "model_module_version": "1.2.0",
      "model_name": "IntProgressModel",
      "state": {
       "description": "Epoch 22",
       "layout": "IPY_MODEL_5f1ddfe248794bd1bc589a2609d5bf4b",
       "max": 7769,
       "style": "IPY_MODEL_68bc88dde60a418bb954ff4d49f85226",
       "value": 7769
      }
     },
     "f3b78038f13343aab7df564767109da6": {
      "model_module": "@jupyter-widgets/controls",
      "model_module_version": "1.2.0",
      "model_name": "ProgressStyleModel",
      "state": {
       "description_width": ""
      }
     },
     "f42a87caa25742afb95c8007935777b7": {
      "model_module": "@jupyter-widgets/controls",
      "model_module_version": "1.2.0",
      "model_name": "HTMLModel",
      "state": {
       "layout": "IPY_MODEL_ca63f53b50bf463e9817014cea83fa30",
       "style": "IPY_MODEL_136db54c3e584afb823a95ba1abad659",
       "value": "[loss: 0.001, acc: 1.000] : 100% 7769/7769 [00:12&lt;00:00, 628.99it/s]"
      }
     },
     "f4384f63b52d4c62b13825a6c796ec89": {
      "model_module": "@jupyter-widgets/controls",
      "model_module_version": "1.2.0",
      "model_name": "DescriptionStyleModel",
      "state": {
       "description_width": ""
      }
     },
     "f4b7691f138342a3a746cce9ff8fc1b7": {
      "model_module": "@jupyter-widgets/controls",
      "model_module_version": "1.2.0",
      "model_name": "HTMLModel",
      "state": {
       "layout": "IPY_MODEL_ad2ba6539eef4fedb9aaff32593c4a6c",
       "style": "IPY_MODEL_5f2e35ed047144cdac000f4e1b8a58b4",
       "value": "[loss: 0.036, acc: 0.991] : 100% 7769/7769 [00:14&lt;00:00, 652.13it/s]"
      }
     },
     "f4e68f75d2374d94952162385d78246f": {
      "model_module": "@jupyter-widgets/base",
      "model_module_version": "1.0.0",
      "model_name": "LayoutModel",
      "state": {}
     },
     "f4f8b58502044679b7401a5e3b23d835": {
      "model_module": "@jupyter-widgets/base",
      "model_module_version": "1.0.0",
      "model_name": "LayoutModel",
      "state": {}
     },
     "f60e984a346f4c1c98a49ae224081436": {
      "model_module": "@jupyter-widgets/controls",
      "model_module_version": "1.2.0",
      "model_name": "HTMLModel",
      "state": {
       "layout": "IPY_MODEL_fd6688c740cc4f24a7389d18a33073e5",
       "style": "IPY_MODEL_b25b73a229c64388bbbfa64c1b06a5c0",
       "value": "[loss: 0.001, acc: 1.000] : 100% 7769/7769 [00:12&lt;00:00, 637.10it/s]"
      }
     },
     "f635ee0912ff45289bc94fa66e2303c4": {
      "model_module": "@jupyter-widgets/base",
      "model_module_version": "1.0.0",
      "model_name": "LayoutModel",
      "state": {}
     },
     "f636a15f0da04e999283595d591fba85": {
      "model_module": "@jupyter-widgets/controls",
      "model_module_version": "1.2.0",
      "model_name": "IntProgressModel",
      "state": {
       "description": "Epoch 45",
       "layout": "IPY_MODEL_de5ba3fa2a5842f98632acb052c01cf5",
       "max": 7769,
       "style": "IPY_MODEL_ee0d1ac839e94e72aaaa1f7718c96df4",
       "value": 7769
      }
     },
     "f6c356b129fd443aa828040a10ef4433": {
      "model_module": "@jupyter-widgets/base",
      "model_module_version": "1.0.0",
      "model_name": "LayoutModel",
      "state": {}
     },
     "f6e0f1e05b7c460e912746027d75680c": {
      "model_module": "@jupyter-widgets/base",
      "model_module_version": "1.0.0",
      "model_name": "LayoutModel",
      "state": {}
     },
     "f760e92a62454ce58f138f7b4b643b8e": {
      "model_module": "@jupyter-widgets/controls",
      "model_module_version": "1.2.0",
      "model_name": "HTMLModel",
      "state": {
       "layout": "IPY_MODEL_0b0242125df64612825b2584cd560fe0",
       "style": "IPY_MODEL_424903b55f2244dd859b4de9fa991d8e",
       "value": "[loss: 0.004, acc: 0.999] : 100% 7769/7769 [00:12&lt;00:00, 614.98it/s]"
      }
     },
     "f76be2489827423483b8011336a4f3be": {
      "model_module": "@jupyter-widgets/controls",
      "model_module_version": "1.2.0",
      "model_name": "HTMLModel",
      "state": {
       "layout": "IPY_MODEL_c99c117d8d4a413080911031a7243fad",
       "style": "IPY_MODEL_1b0b7adb2015428a868fc2bb19301d0d",
       "value": "[loss: 0.002, acc: 0.999] : 100% 7769/7769 [00:12&lt;00:00, 621.52it/s]"
      }
     },
     "f782aa8e2d27498fb517801a5f42a7d9": {
      "model_module": "@jupyter-widgets/controls",
      "model_module_version": "1.2.0",
      "model_name": "DescriptionStyleModel",
      "state": {
       "description_width": ""
      }
     },
     "f795310204e348aebeea54143cedaaa2": {
      "model_module": "@jupyter-widgets/base",
      "model_module_version": "1.0.0",
      "model_name": "LayoutModel",
      "state": {}
     },
     "f814bcdf5a71491ebe076dd53a985774": {
      "model_module": "@jupyter-widgets/base",
      "model_module_version": "1.0.0",
      "model_name": "LayoutModel",
      "state": {}
     },
     "f8f8038e41a74a728ce5826d769541f7": {
      "model_module": "@jupyter-widgets/base",
      "model_module_version": "1.0.0",
      "model_name": "LayoutModel",
      "state": {}
     },
     "f9a0c97c01184e448b7d581f57f85437": {
      "model_module": "@jupyter-widgets/controls",
      "model_module_version": "1.2.0",
      "model_name": "DescriptionStyleModel",
      "state": {
       "description_width": ""
      }
     },
     "fa9bdda97d5446528d5f5affd84ae0b9": {
      "model_module": "@jupyter-widgets/controls",
      "model_module_version": "1.2.0",
      "model_name": "ProgressStyleModel",
      "state": {
       "description_width": ""
      }
     },
     "fae333b7447747c3bbe9547af0eb1c09": {
      "model_module": "@jupyter-widgets/base",
      "model_module_version": "1.0.0",
      "model_name": "LayoutModel",
      "state": {}
     },
     "faf8ee981da74fcdabed99c42244226f": {
      "model_module": "@jupyter-widgets/base",
      "model_module_version": "1.0.0",
      "model_name": "LayoutModel",
      "state": {}
     },
     "fd6688c740cc4f24a7389d18a33073e5": {
      "model_module": "@jupyter-widgets/base",
      "model_module_version": "1.0.0",
      "model_name": "LayoutModel",
      "state": {}
     },
     "ff4239f984fc4a2db9838a342626f772": {
      "model_module": "@jupyter-widgets/base",
      "model_module_version": "1.0.0",
      "model_name": "LayoutModel",
      "state": {}
     }
    },
    "version_major": 2,
    "version_minor": 0
   }
  }
 },
 "nbformat": 4,
 "nbformat_minor": 2
}
